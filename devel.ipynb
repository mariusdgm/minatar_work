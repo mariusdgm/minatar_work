{
 "cells": [
  {
   "cell_type": "code",
   "execution_count": 1,
   "metadata": {},
   "outputs": [],
   "source": [
    "%load_ext autoreload\n",
    "%autoreload 2"
   ]
  },
  {
   "cell_type": "code",
   "execution_count": 2,
   "metadata": {},
   "outputs": [
    {
     "name": "stderr",
     "output_type": "stream",
     "text": [
      "c:\\Users\\Marius\\anaconda3\\envs\\general\\lib\\site-packages\\tqdm\\auto.py:22: TqdmWarning: IProgress not found. Please update jupyter and ipywidgets. See https://ipywidgets.readthedocs.io/en/stable/user_install.html\n",
      "  from .autonotebook import tqdm as notebook_tqdm\n"
     ]
    }
   ],
   "source": [
    "import os\n",
    "\n",
    "import matplotlib.pyplot as plt\n",
    "import seaborn as sns\n",
    "sns.set()\n",
    "\n",
    "import torch\n",
    "from my_dqn import ReplayBuffer\n",
    "import viz_helper"
   ]
  },
  {
   "cell_type": "code",
   "execution_count": 5,
   "metadata": {},
   "outputs": [],
   "source": [
    "import datetime"
   ]
  },
  {
   "cell_type": "code",
   "execution_count": 7,
   "metadata": {},
   "outputs": [],
   "source": [
    "time_start = datetime.datetime.now() "
   ]
  },
  {
   "cell_type": "code",
   "execution_count": 8,
   "metadata": {},
   "outputs": [
    {
     "data": {
      "text/plain": [
       "datetime.timedelta(seconds=7, microseconds=488206)"
      ]
     },
     "execution_count": 8,
     "metadata": {},
     "output_type": "execute_result"
    }
   ],
   "source": [
    "datetime.datetime.now()  - time_start "
   ]
  },
  {
   "cell_type": "code",
   "execution_count": 3,
   "metadata": {},
   "outputs": [],
   "source": [
    "game = \"breakout\"\n",
    "\n",
    "load_file_path = os.path.join(\"breakout\", game + \"_checkpoint\")\n",
    "\n",
    "training_stats, validation_stats = viz_helper.read_training_logs(load_file_path)"
   ]
  },
  {
   "cell_type": "code",
   "execution_count": 14,
   "metadata": {},
   "outputs": [],
   "source": [
    "fig, axs = plt.subplots(nrows=2, ncols=1)\n",
    "\n",
    "viz_helper.plot_episodic_logs(\n",
    "    fig,\n",
    "    axs,\n",
    "    training_stats[\"avg_episode_rewards\"],\n",
    "    training_stats[\"avg_episode_nr_frames\"],\n",
    "    training_stats[\"log_frame_stamp\"],\n",
    "    \"Training stats\",\n",
    ")\n",
    "plt.show()"
   ]
  },
  {
   "cell_type": "code",
   "execution_count": 15,
   "metadata": {},
   "outputs": [
    {
     "ename": "ValueError",
     "evalue": "All arrays must be of the same length",
     "output_type": "error",
     "traceback": [
      "\u001b[1;31m---------------------------------------------------------------------------\u001b[0m",
      "\u001b[1;31mValueError\u001b[0m                                Traceback (most recent call last)",
      "Cell \u001b[1;32mIn [15], line 3\u001b[0m\n\u001b[0;32m      1\u001b[0m fig, axs \u001b[39m=\u001b[39m plt\u001b[39m.\u001b[39msubplots(nrows\u001b[39m=\u001b[39m\u001b[39m2\u001b[39m, ncols\u001b[39m=\u001b[39m\u001b[39m1\u001b[39m)\n\u001b[1;32m----> 3\u001b[0m viz_helper\u001b[39m.\u001b[39;49mplot_episodic_logs(\n\u001b[0;32m      4\u001b[0m     fig,\n\u001b[0;32m      5\u001b[0m     axs,\n\u001b[0;32m      6\u001b[0m     validation_stats[\u001b[39m\"\u001b[39;49m\u001b[39mval_avg_episode_rewards\u001b[39;49m\u001b[39m\"\u001b[39;49m],\n\u001b[0;32m      7\u001b[0m     validation_stats[\u001b[39m\"\u001b[39;49m\u001b[39mval_avg_episode_nr_frames\u001b[39;49m\u001b[39m\"\u001b[39;49m],\n\u001b[0;32m      8\u001b[0m     validation_stats[\u001b[39m\"\u001b[39;49m\u001b[39mval_log_frame_stamp\u001b[39;49m\u001b[39m\"\u001b[39;49m],\n\u001b[0;32m      9\u001b[0m     \u001b[39m\"\u001b[39;49m\u001b[39mValidation stats\u001b[39;49m\u001b[39m\"\u001b[39;49m,\n\u001b[0;32m     10\u001b[0m )\n\u001b[0;32m     11\u001b[0m plt\u001b[39m.\u001b[39mshow()\n",
      "File \u001b[1;32md:\\Facultate\\PhD\\work\\learning_stuff\\dqn_clean\\minatar_work\\viz_helper.py:34\u001b[0m, in \u001b[0;36mplot_episodic_logs\u001b[1;34m(fig, axs, ep_rewards, ep_frames, log_indx, title)\u001b[0m\n\u001b[0;32m     32\u001b[0m fig\u001b[39m.\u001b[39mset_figheight(\u001b[39m8\u001b[39m)\n\u001b[0;32m     33\u001b[0m fig\u001b[39m.\u001b[39mset_figwidth(\u001b[39m12\u001b[39m)\n\u001b[1;32m---> 34\u001b[0m sns\u001b[39m.\u001b[39;49mlineplot(x\u001b[39m=\u001b[39;49mlog_indx, y\u001b[39m=\u001b[39;49mep_rewards, ax\u001b[39m=\u001b[39;49maxs[\u001b[39m0\u001b[39;49m])\n\u001b[0;32m     35\u001b[0m axs[\u001b[39m0\u001b[39m]\u001b[39m.\u001b[39mset_ylabel(\n\u001b[0;32m     36\u001b[0m     \u001b[39m\"\u001b[39m\u001b[39mAvg episode rewards\u001b[39m\u001b[39m\"\u001b[39m,\n\u001b[0;32m     37\u001b[0m )\n\u001b[0;32m     38\u001b[0m axs[\u001b[39m0\u001b[39m]\u001b[39m.\u001b[39mset_xlabel(\n\u001b[0;32m     39\u001b[0m     \u001b[39m\"\u001b[39m\u001b[39mFrames\u001b[39m\u001b[39m\"\u001b[39m,\n\u001b[0;32m     40\u001b[0m )\n",
      "File \u001b[1;32mc:\\Users\\Marius\\anaconda3\\envs\\general\\lib\\site-packages\\seaborn\\relational.py:618\u001b[0m, in \u001b[0;36mlineplot\u001b[1;34m(data, x, y, hue, size, style, units, palette, hue_order, hue_norm, sizes, size_order, size_norm, dashes, markers, style_order, estimator, errorbar, n_boot, seed, orient, sort, err_style, err_kws, legend, ci, ax, **kwargs)\u001b[0m\n\u001b[0;32m    615\u001b[0m errorbar \u001b[39m=\u001b[39m _deprecate_ci(errorbar, ci)\n\u001b[0;32m    617\u001b[0m variables \u001b[39m=\u001b[39m _LinePlotter\u001b[39m.\u001b[39mget_semantics(\u001b[39mlocals\u001b[39m())\n\u001b[1;32m--> 618\u001b[0m p \u001b[39m=\u001b[39m _LinePlotter(\n\u001b[0;32m    619\u001b[0m     data\u001b[39m=\u001b[39;49mdata, variables\u001b[39m=\u001b[39;49mvariables,\n\u001b[0;32m    620\u001b[0m     estimator\u001b[39m=\u001b[39;49mestimator, n_boot\u001b[39m=\u001b[39;49mn_boot, seed\u001b[39m=\u001b[39;49mseed, errorbar\u001b[39m=\u001b[39;49merrorbar,\n\u001b[0;32m    621\u001b[0m     sort\u001b[39m=\u001b[39;49msort, orient\u001b[39m=\u001b[39;49morient, err_style\u001b[39m=\u001b[39;49merr_style, err_kws\u001b[39m=\u001b[39;49merr_kws,\n\u001b[0;32m    622\u001b[0m     legend\u001b[39m=\u001b[39;49mlegend,\n\u001b[0;32m    623\u001b[0m )\n\u001b[0;32m    625\u001b[0m p\u001b[39m.\u001b[39mmap_hue(palette\u001b[39m=\u001b[39mpalette, order\u001b[39m=\u001b[39mhue_order, norm\u001b[39m=\u001b[39mhue_norm)\n\u001b[0;32m    626\u001b[0m p\u001b[39m.\u001b[39mmap_size(sizes\u001b[39m=\u001b[39msizes, order\u001b[39m=\u001b[39msize_order, norm\u001b[39m=\u001b[39msize_norm)\n",
      "File \u001b[1;32mc:\\Users\\Marius\\anaconda3\\envs\\general\\lib\\site-packages\\seaborn\\relational.py:365\u001b[0m, in \u001b[0;36m_LinePlotter.__init__\u001b[1;34m(self, data, variables, estimator, n_boot, seed, errorbar, sort, orient, err_style, err_kws, legend)\u001b[0m\n\u001b[0;32m    351\u001b[0m \u001b[39mdef\u001b[39;00m \u001b[39m__init__\u001b[39m(\n\u001b[0;32m    352\u001b[0m     \u001b[39mself\u001b[39m, \u001b[39m*\u001b[39m,\n\u001b[0;32m    353\u001b[0m     data\u001b[39m=\u001b[39m\u001b[39mNone\u001b[39;00m, variables\u001b[39m=\u001b[39m{},\n\u001b[1;32m   (...)\u001b[0m\n\u001b[0;32m    359\u001b[0m     \u001b[39m# the kind of plot to draw, but for the time being we need to set\u001b[39;00m\n\u001b[0;32m    360\u001b[0m     \u001b[39m# this information so the SizeMapping can use it\u001b[39;00m\n\u001b[0;32m    361\u001b[0m     \u001b[39mself\u001b[39m\u001b[39m.\u001b[39m_default_size_range \u001b[39m=\u001b[39m (\n\u001b[0;32m    362\u001b[0m         np\u001b[39m.\u001b[39mr_[\u001b[39m.5\u001b[39m, \u001b[39m2\u001b[39m] \u001b[39m*\u001b[39m mpl\u001b[39m.\u001b[39mrcParams[\u001b[39m\"\u001b[39m\u001b[39mlines.linewidth\u001b[39m\u001b[39m\"\u001b[39m]\n\u001b[0;32m    363\u001b[0m     )\n\u001b[1;32m--> 365\u001b[0m     \u001b[39msuper\u001b[39;49m()\u001b[39m.\u001b[39;49m\u001b[39m__init__\u001b[39;49m(data\u001b[39m=\u001b[39;49mdata, variables\u001b[39m=\u001b[39;49mvariables)\n\u001b[0;32m    367\u001b[0m     \u001b[39mself\u001b[39m\u001b[39m.\u001b[39mestimator \u001b[39m=\u001b[39m estimator\n\u001b[0;32m    368\u001b[0m     \u001b[39mself\u001b[39m\u001b[39m.\u001b[39merrorbar \u001b[39m=\u001b[39m errorbar\n",
      "File \u001b[1;32mc:\\Users\\Marius\\anaconda3\\envs\\general\\lib\\site-packages\\seaborn\\_oldcore.py:640\u001b[0m, in \u001b[0;36mVectorPlotter.__init__\u001b[1;34m(self, data, variables)\u001b[0m\n\u001b[0;32m    635\u001b[0m \u001b[39m# var_ordered is relevant only for categorical axis variables, and may\u001b[39;00m\n\u001b[0;32m    636\u001b[0m \u001b[39m# be better handled by an internal axis information object that tracks\u001b[39;00m\n\u001b[0;32m    637\u001b[0m \u001b[39m# such information and is set up by the scale_* methods. The analogous\u001b[39;00m\n\u001b[0;32m    638\u001b[0m \u001b[39m# information for numeric axes would be information about log scales.\u001b[39;00m\n\u001b[0;32m    639\u001b[0m \u001b[39mself\u001b[39m\u001b[39m.\u001b[39m_var_ordered \u001b[39m=\u001b[39m {\u001b[39m\"\u001b[39m\u001b[39mx\u001b[39m\u001b[39m\"\u001b[39m: \u001b[39mFalse\u001b[39;00m, \u001b[39m\"\u001b[39m\u001b[39my\u001b[39m\u001b[39m\"\u001b[39m: \u001b[39mFalse\u001b[39;00m}  \u001b[39m# alt., used DefaultDict\u001b[39;00m\n\u001b[1;32m--> 640\u001b[0m \u001b[39mself\u001b[39;49m\u001b[39m.\u001b[39;49massign_variables(data, variables)\n\u001b[0;32m    642\u001b[0m \u001b[39mfor\u001b[39;00m var, \u001b[39mcls\u001b[39m \u001b[39min\u001b[39;00m \u001b[39mself\u001b[39m\u001b[39m.\u001b[39m_semantic_mappings\u001b[39m.\u001b[39mitems():\n\u001b[0;32m    643\u001b[0m \n\u001b[0;32m    644\u001b[0m     \u001b[39m# Create the mapping function\u001b[39;00m\n\u001b[0;32m    645\u001b[0m     map_func \u001b[39m=\u001b[39m partial(\u001b[39mcls\u001b[39m\u001b[39m.\u001b[39mmap, plotter\u001b[39m=\u001b[39m\u001b[39mself\u001b[39m)\n",
      "File \u001b[1;32mc:\\Users\\Marius\\anaconda3\\envs\\general\\lib\\site-packages\\seaborn\\_oldcore.py:701\u001b[0m, in \u001b[0;36mVectorPlotter.assign_variables\u001b[1;34m(self, data, variables)\u001b[0m\n\u001b[0;32m    699\u001b[0m \u001b[39melse\u001b[39;00m:\n\u001b[0;32m    700\u001b[0m     \u001b[39mself\u001b[39m\u001b[39m.\u001b[39minput_format \u001b[39m=\u001b[39m \u001b[39m\"\u001b[39m\u001b[39mlong\u001b[39m\u001b[39m\"\u001b[39m\n\u001b[1;32m--> 701\u001b[0m     plot_data, variables \u001b[39m=\u001b[39m \u001b[39mself\u001b[39m\u001b[39m.\u001b[39m_assign_variables_longform(\n\u001b[0;32m    702\u001b[0m         data, \u001b[39m*\u001b[39m\u001b[39m*\u001b[39mvariables,\n\u001b[0;32m    703\u001b[0m     )\n\u001b[0;32m    705\u001b[0m \u001b[39mself\u001b[39m\u001b[39m.\u001b[39mplot_data \u001b[39m=\u001b[39m plot_data\n\u001b[0;32m    706\u001b[0m \u001b[39mself\u001b[39m\u001b[39m.\u001b[39mvariables \u001b[39m=\u001b[39m variables\n",
      "File \u001b[1;32mc:\\Users\\Marius\\anaconda3\\envs\\general\\lib\\site-packages\\seaborn\\_oldcore.py:962\u001b[0m, in \u001b[0;36mVectorPlotter._assign_variables_longform\u001b[1;34m(self, data, **kwargs)\u001b[0m\n\u001b[0;32m    958\u001b[0m         variables[key] \u001b[39m=\u001b[39m \u001b[39mgetattr\u001b[39m(val, \u001b[39m\"\u001b[39m\u001b[39mname\u001b[39m\u001b[39m\"\u001b[39m, \u001b[39mNone\u001b[39;00m)\n\u001b[0;32m    960\u001b[0m \u001b[39m# Construct a tidy plot DataFrame. This will convert a number of\u001b[39;00m\n\u001b[0;32m    961\u001b[0m \u001b[39m# types automatically, aligning on index in case of pandas objects\u001b[39;00m\n\u001b[1;32m--> 962\u001b[0m plot_data \u001b[39m=\u001b[39m pd\u001b[39m.\u001b[39;49mDataFrame(plot_data)\n\u001b[0;32m    964\u001b[0m \u001b[39m# Reduce the variables dictionary to fields with valid data\u001b[39;00m\n\u001b[0;32m    965\u001b[0m variables \u001b[39m=\u001b[39m {\n\u001b[0;32m    966\u001b[0m     var: name\n\u001b[0;32m    967\u001b[0m     \u001b[39mfor\u001b[39;00m var, name \u001b[39min\u001b[39;00m variables\u001b[39m.\u001b[39mitems()\n\u001b[0;32m    968\u001b[0m     \u001b[39mif\u001b[39;00m plot_data[var]\u001b[39m.\u001b[39mnotnull()\u001b[39m.\u001b[39many()\n\u001b[0;32m    969\u001b[0m }\n",
      "File \u001b[1;32mc:\\Users\\Marius\\anaconda3\\envs\\general\\lib\\site-packages\\pandas\\core\\frame.py:663\u001b[0m, in \u001b[0;36mDataFrame.__init__\u001b[1;34m(self, data, index, columns, dtype, copy)\u001b[0m\n\u001b[0;32m    657\u001b[0m     mgr \u001b[39m=\u001b[39m \u001b[39mself\u001b[39m\u001b[39m.\u001b[39m_init_mgr(\n\u001b[0;32m    658\u001b[0m         data, axes\u001b[39m=\u001b[39m{\u001b[39m\"\u001b[39m\u001b[39mindex\u001b[39m\u001b[39m\"\u001b[39m: index, \u001b[39m\"\u001b[39m\u001b[39mcolumns\u001b[39m\u001b[39m\"\u001b[39m: columns}, dtype\u001b[39m=\u001b[39mdtype, copy\u001b[39m=\u001b[39mcopy\n\u001b[0;32m    659\u001b[0m     )\n\u001b[0;32m    661\u001b[0m \u001b[39melif\u001b[39;00m \u001b[39misinstance\u001b[39m(data, \u001b[39mdict\u001b[39m):\n\u001b[0;32m    662\u001b[0m     \u001b[39m# GH#38939 de facto copy defaults to False only in non-dict cases\u001b[39;00m\n\u001b[1;32m--> 663\u001b[0m     mgr \u001b[39m=\u001b[39m dict_to_mgr(data, index, columns, dtype\u001b[39m=\u001b[39;49mdtype, copy\u001b[39m=\u001b[39;49mcopy, typ\u001b[39m=\u001b[39;49mmanager)\n\u001b[0;32m    664\u001b[0m \u001b[39melif\u001b[39;00m \u001b[39misinstance\u001b[39m(data, ma\u001b[39m.\u001b[39mMaskedArray):\n\u001b[0;32m    665\u001b[0m     \u001b[39mimport\u001b[39;00m \u001b[39mnumpy\u001b[39;00m\u001b[39m.\u001b[39;00m\u001b[39mma\u001b[39;00m\u001b[39m.\u001b[39;00m\u001b[39mmrecords\u001b[39;00m \u001b[39mas\u001b[39;00m \u001b[39mmrecords\u001b[39;00m\n",
      "File \u001b[1;32mc:\\Users\\Marius\\anaconda3\\envs\\general\\lib\\site-packages\\pandas\\core\\internals\\construction.py:493\u001b[0m, in \u001b[0;36mdict_to_mgr\u001b[1;34m(data, index, columns, dtype, typ, copy)\u001b[0m\n\u001b[0;32m    489\u001b[0m     \u001b[39melse\u001b[39;00m:\n\u001b[0;32m    490\u001b[0m         \u001b[39m# dtype check to exclude e.g. range objects, scalars\u001b[39;00m\n\u001b[0;32m    491\u001b[0m         arrays \u001b[39m=\u001b[39m [x\u001b[39m.\u001b[39mcopy() \u001b[39mif\u001b[39;00m \u001b[39mhasattr\u001b[39m(x, \u001b[39m\"\u001b[39m\u001b[39mdtype\u001b[39m\u001b[39m\"\u001b[39m) \u001b[39melse\u001b[39;00m x \u001b[39mfor\u001b[39;00m x \u001b[39min\u001b[39;00m arrays]\n\u001b[1;32m--> 493\u001b[0m \u001b[39mreturn\u001b[39;00m arrays_to_mgr(arrays, columns, index, dtype\u001b[39m=\u001b[39;49mdtype, typ\u001b[39m=\u001b[39;49mtyp, consolidate\u001b[39m=\u001b[39;49mcopy)\n",
      "File \u001b[1;32mc:\\Users\\Marius\\anaconda3\\envs\\general\\lib\\site-packages\\pandas\\core\\internals\\construction.py:118\u001b[0m, in \u001b[0;36marrays_to_mgr\u001b[1;34m(arrays, columns, index, dtype, verify_integrity, typ, consolidate)\u001b[0m\n\u001b[0;32m    115\u001b[0m \u001b[39mif\u001b[39;00m verify_integrity:\n\u001b[0;32m    116\u001b[0m     \u001b[39m# figure out the index, if necessary\u001b[39;00m\n\u001b[0;32m    117\u001b[0m     \u001b[39mif\u001b[39;00m index \u001b[39mis\u001b[39;00m \u001b[39mNone\u001b[39;00m:\n\u001b[1;32m--> 118\u001b[0m         index \u001b[39m=\u001b[39m _extract_index(arrays)\n\u001b[0;32m    119\u001b[0m     \u001b[39melse\u001b[39;00m:\n\u001b[0;32m    120\u001b[0m         index \u001b[39m=\u001b[39m ensure_index(index)\n",
      "File \u001b[1;32mc:\\Users\\Marius\\anaconda3\\envs\\general\\lib\\site-packages\\pandas\\core\\internals\\construction.py:666\u001b[0m, in \u001b[0;36m_extract_index\u001b[1;34m(data)\u001b[0m\n\u001b[0;32m    664\u001b[0m lengths \u001b[39m=\u001b[39m \u001b[39mlist\u001b[39m(\u001b[39mset\u001b[39m(raw_lengths))\n\u001b[0;32m    665\u001b[0m \u001b[39mif\u001b[39;00m \u001b[39mlen\u001b[39m(lengths) \u001b[39m>\u001b[39m \u001b[39m1\u001b[39m:\n\u001b[1;32m--> 666\u001b[0m     \u001b[39mraise\u001b[39;00m \u001b[39mValueError\u001b[39;00m(\u001b[39m\"\u001b[39m\u001b[39mAll arrays must be of the same length\u001b[39m\u001b[39m\"\u001b[39m)\n\u001b[0;32m    668\u001b[0m \u001b[39mif\u001b[39;00m have_dicts:\n\u001b[0;32m    669\u001b[0m     \u001b[39mraise\u001b[39;00m \u001b[39mValueError\u001b[39;00m(\n\u001b[0;32m    670\u001b[0m         \u001b[39m\"\u001b[39m\u001b[39mMixing dicts with non-Series may lead to ambiguous ordering.\u001b[39m\u001b[39m\"\u001b[39m\n\u001b[0;32m    671\u001b[0m     )\n",
      "\u001b[1;31mValueError\u001b[0m: All arrays must be of the same length"
     ]
    }
   ],
   "source": [
    "fig, axs = plt.subplots(nrows=2, ncols=1)\n",
    "\n",
    "viz_helper.plot_episodic_logs(\n",
    "    fig,\n",
    "    axs,\n",
    "    validation_stats[\"val_avg_episode_rewards\"],\n",
    "    validation_stats[\"val_avg_episode_nr_frames\"],\n",
    "    validation_stats[\"val_log_frame_stamp\"],\n",
    "    \"Validation stats\",\n",
    ")\n",
    "plt.show()"
   ]
  },
  {
   "cell_type": "code",
   "execution_count": 17,
   "metadata": {},
   "outputs": [
    {
     "name": "stdout",
     "output_type": "stream",
     "text": [
      "val_avg_episode_rewards 32\n",
      "val_avg_episode_nr_frames 63\n",
      "val_log_frame_stamp 63\n"
     ]
    }
   ],
   "source": [
    "for key in validation_stats:\n",
    "    print(key, len(validation_stats[key]))"
   ]
  },
  {
   "cell_type": "code",
   "execution_count": 23,
   "metadata": {},
   "outputs": [
    {
     "data": {
      "text/plain": [
       "[2.9580367178718623,\n",
       " 2.9488041853512708,\n",
       " 5.995014245014245,\n",
       " 6.227575982209044,\n",
       " 9.310112359550562,\n",
       " 9.568131868131868,\n",
       " 12.704384724186705,\n",
       " 12.700276243093922,\n",
       " 13.232995658465992,\n",
       " 14.098918083462133,\n",
       " 13.236574746008708,\n",
       " 15.050324675324676,\n",
       " 15.261562998405104,\n",
       " 17.56954887218045,\n",
       " 17.339622641509433,\n",
       " 18.706751054852322,\n",
       " 18.026315789473685,\n",
       " 16.346296296296295,\n",
       " 16.804744525547445,\n",
       " 18.284584980237153,\n",
       " 20.17452830188679,\n",
       " 18.634743875278396,\n",
       " 19.765281173594133,\n",
       " 18.933333333333334,\n",
       " 20.113702623906704,\n",
       " 19.293827160493827,\n",
       " 21.132231404958677,\n",
       " 24.04597701149425,\n",
       " 24.070121951219512,\n",
       " 28.71232876712329,\n",
       " 27.421511627906977,\n",
       " 30.393939393939394]"
      ]
     },
     "execution_count": 23,
     "metadata": {},
     "output_type": "execute_result"
    }
   ],
   "source": [
    "validation_stats[\"val_avg_episode_rewards\"]"
   ]
  },
  {
   "cell_type": "code",
   "execution_count": 3,
   "metadata": {},
   "outputs": [],
   "source": [
    "from minatar import Environment\n",
    "\n",
    "game = \"breakout\"\n",
    "env = Environment(game)\n",
    "\n",
    "my_agent = my_dqn.AgentDQN(env, \"file_name\", False, \"\")"
   ]
  },
  {
   "cell_type": "code",
   "execution_count": 4,
   "metadata": {},
   "outputs": [
    {
     "name": "stderr",
     "output_type": "stream",
     "text": [
      "INFO:root:Avg return: 0.0 | Time per frame: 0.00021054479810926648\n"
     ]
    }
   ],
   "source": [
    "my_agent.train(10, 10000)"
   ]
  },
  {
   "cell_type": "code",
   "execution_count": 5,
   "metadata": {},
   "outputs": [
    {
     "data": {
      "text/plain": [
       "torch.Size([1, 4, 10, 10])"
      ]
     },
     "execution_count": 5,
     "metadata": {},
     "output_type": "execute_result"
    }
   ],
   "source": [
    "current_state = my_dqn.get_state(my_agent.env.state())\n",
    "\n",
    "current_state.size()"
   ]
  },
  {
   "cell_type": "code",
   "execution_count": 6,
   "metadata": {},
   "outputs": [],
   "source": [
    "import torch"
   ]
  },
  {
   "cell_type": "code",
   "execution_count": 8,
   "metadata": {},
   "outputs": [],
   "source": [
    "sample = my_agent.replay_buffer.sample(my_agent.batch_size)\n",
    "\n",
    "state, action, reward, next_state, terminated = sample\n",
    "\n",
    "state = torch.from_numpy(state)\n",
    "next_state = torch.from_numpy(next_state)\n",
    "action = torch.LongTensor(action).unsqueeze(1)\n",
    "reward = torch.FloatTensor(reward).unsqueeze(1)\n",
    "terminated = torch.FloatTensor(terminated).unsqueeze(1)"
   ]
  },
  {
   "cell_type": "code",
   "execution_count": 9,
   "metadata": {},
   "outputs": [
    {
     "data": {
      "text/plain": [
       "torch.Size([32, 4, 10, 10])"
      ]
     },
     "execution_count": 9,
     "metadata": {},
     "output_type": "execute_result"
    }
   ],
   "source": [
    "state.size()"
   ]
  },
  {
   "cell_type": "code",
   "execution_count": 10,
   "metadata": {},
   "outputs": [
    {
     "data": {
      "text/plain": [
       "torch.Size([32, 1])"
      ]
     },
     "execution_count": 10,
     "metadata": {},
     "output_type": "execute_result"
    }
   ],
   "source": [
    "action.size()"
   ]
  },
  {
   "cell_type": "code",
   "execution_count": 17,
   "metadata": {},
   "outputs": [],
   "source": [
    "q_value = my_agent.policy_model(state).gather(1, action)\n",
    "\n",
    "next_q_values = my_agent.target_model(next_state).detach()\n",
    "next_q_value = next_q_values.max(1)[0].unsqueeze(1)\n",
    "\n",
    "expected_q_value = reward + my_agent.gamma * next_q_value * (1 - terminated)\n",
    "# expected_q_value = torch.unsqueeze(expected_q_value, 1)\n",
    "\n",
    "loss = (q_value - expected_q_value).pow(2).mean()"
   ]
  },
  {
   "cell_type": "code",
   "execution_count": 18,
   "metadata": {},
   "outputs": [
    {
     "data": {
      "text/plain": [
       "tensor(0.0969, grad_fn=<MeanBackward0>)"
      ]
     },
     "execution_count": 18,
     "metadata": {},
     "output_type": "execute_result"
    }
   ],
   "source": [
    "loss"
   ]
  },
  {
   "cell_type": "code",
   "execution_count": 29,
   "metadata": {},
   "outputs": [
    {
     "data": {
      "text/plain": [
       "tensor([[-0.0438, -0.0587, -0.0161,  0.0629, -0.0603,  0.0530],\n",
       "        [-0.0463, -0.0590, -0.0196,  0.0600, -0.0618,  0.0527],\n",
       "        [-0.0438, -0.0587, -0.0161,  0.0629, -0.0603,  0.0530],\n",
       "        [-0.0438, -0.0587, -0.0161,  0.0629, -0.0603,  0.0530],\n",
       "        [-0.0438, -0.0587, -0.0161,  0.0629, -0.0603,  0.0530],\n",
       "        [-0.0438, -0.0587, -0.0161,  0.0629, -0.0603,  0.0530],\n",
       "        [-0.0438, -0.0587, -0.0161,  0.0629, -0.0603,  0.0530],\n",
       "        [-0.0438, -0.0587, -0.0161,  0.0629, -0.0603,  0.0530],\n",
       "        [-0.0438, -0.0587, -0.0161,  0.0629, -0.0603,  0.0530],\n",
       "        [-0.0438, -0.0587, -0.0161,  0.0629, -0.0603,  0.0530],\n",
       "        [-0.0438, -0.0587, -0.0161,  0.0629, -0.0603,  0.0530],\n",
       "        [-0.0438, -0.0587, -0.0161,  0.0629, -0.0603,  0.0530],\n",
       "        [-0.0438, -0.0587, -0.0161,  0.0629, -0.0603,  0.0530],\n",
       "        [-0.0438, -0.0587, -0.0161,  0.0629, -0.0603,  0.0530],\n",
       "        [-0.0438, -0.0587, -0.0161,  0.0629, -0.0603,  0.0530],\n",
       "        [-0.0438, -0.0587, -0.0161,  0.0629, -0.0603,  0.0530],\n",
       "        [-0.0438, -0.0587, -0.0161,  0.0629, -0.0603,  0.0530],\n",
       "        [-0.0438, -0.0587, -0.0161,  0.0629, -0.0603,  0.0530],\n",
       "        [-0.0438, -0.0587, -0.0161,  0.0629, -0.0603,  0.0530],\n",
       "        [-0.0438, -0.0587, -0.0161,  0.0629, -0.0603,  0.0530],\n",
       "        [-0.0438, -0.0587, -0.0161,  0.0629, -0.0603,  0.0530],\n",
       "        [-0.0438, -0.0587, -0.0161,  0.0629, -0.0603,  0.0530],\n",
       "        [-0.0438, -0.0587, -0.0161,  0.0629, -0.0603,  0.0530],\n",
       "        [-0.0438, -0.0587, -0.0161,  0.0629, -0.0603,  0.0530],\n",
       "        [-0.0438, -0.0587, -0.0161,  0.0629, -0.0603,  0.0530],\n",
       "        [-0.0438, -0.0587, -0.0161,  0.0629, -0.0603,  0.0530],\n",
       "        [-0.0438, -0.0587, -0.0161,  0.0629, -0.0603,  0.0530],\n",
       "        [-0.0438, -0.0587, -0.0161,  0.0629, -0.0603,  0.0530],\n",
       "        [-0.0438, -0.0587, -0.0161,  0.0629, -0.0603,  0.0530],\n",
       "        [-0.0438, -0.0587, -0.0161,  0.0629, -0.0603,  0.0530],\n",
       "        [-0.0438, -0.0587, -0.0161,  0.0629, -0.0603,  0.0530],\n",
       "        [-0.0438, -0.0587, -0.0161,  0.0629, -0.0603,  0.0530]],\n",
       "       grad_fn=<AddmmBackward0>)"
      ]
     },
     "execution_count": 29,
     "metadata": {},
     "output_type": "execute_result"
    }
   ],
   "source": [
    "q_value = my_agent.policy_model(state)\n",
    "q_value"
   ]
  },
  {
   "cell_type": "code",
   "execution_count": 44,
   "metadata": {},
   "outputs": [
    {
     "data": {
      "text/plain": [
       "torch.Size([32, 1])"
      ]
     },
     "execution_count": 44,
     "metadata": {},
     "output_type": "execute_result"
    }
   ],
   "source": [
    "q_value.size()"
   ]
  },
  {
   "cell_type": "code",
   "execution_count": 45,
   "metadata": {},
   "outputs": [
    {
     "data": {
      "text/plain": [
       "torch.Size([1, 32])"
      ]
     },
     "execution_count": 45,
     "metadata": {},
     "output_type": "execute_result"
    }
   ],
   "source": [
    "action.unsqueeze(0).size()"
   ]
  },
  {
   "cell_type": "code",
   "execution_count": 71,
   "metadata": {},
   "outputs": [],
   "source": [
    "q_value = my_agent.policy_model(state).gather(1, action.unsqueeze(1))"
   ]
  },
  {
   "cell_type": "code",
   "execution_count": 72,
   "metadata": {},
   "outputs": [
    {
     "data": {
      "text/plain": [
       "torch.Size([32, 1])"
      ]
     },
     "execution_count": 72,
     "metadata": {},
     "output_type": "execute_result"
    }
   ],
   "source": [
    "q_value.size()"
   ]
  },
  {
   "cell_type": "code",
   "execution_count": 73,
   "metadata": {},
   "outputs": [],
   "source": [
    "next_q_values = my_agent.target_model(next_state).detach()\n",
    "next_q_value = next_q_values.max(1)[0].unsqueeze(1)"
   ]
  },
  {
   "cell_type": "code",
   "execution_count": 74,
   "metadata": {},
   "outputs": [
    {
     "data": {
      "text/plain": [
       "torch.Size([32, 1])"
      ]
     },
     "execution_count": 74,
     "metadata": {},
     "output_type": "execute_result"
    }
   ],
   "source": [
    "next_q_value.size()"
   ]
  },
  {
   "cell_type": "code",
   "execution_count": 83,
   "metadata": {},
   "outputs": [
    {
     "data": {
      "text/plain": [
       "torch.Size([32])"
      ]
     },
     "execution_count": 83,
     "metadata": {},
     "output_type": "execute_result"
    }
   ],
   "source": [
    "terminated.size()"
   ]
  },
  {
   "cell_type": "code",
   "execution_count": 81,
   "metadata": {},
   "outputs": [
    {
     "data": {
      "text/plain": [
       "torch.Size([32, 1])"
      ]
     },
     "execution_count": 81,
     "metadata": {},
     "output_type": "execute_result"
    }
   ],
   "source": [
    "reward.unsqueeze(1).size()"
   ]
  },
  {
   "cell_type": "code",
   "execution_count": 84,
   "metadata": {},
   "outputs": [
    {
     "data": {
      "text/plain": [
       "tensor([[0.0429],\n",
       "        [0.0429],\n",
       "        [0.0429],\n",
       "        [0.0429],\n",
       "        [0.0429],\n",
       "        [0.0429],\n",
       "        [0.0429],\n",
       "        [0.0429],\n",
       "        [0.0429],\n",
       "        [0.0429],\n",
       "        [0.0429],\n",
       "        [0.0429],\n",
       "        [0.0429],\n",
       "        [0.0429],\n",
       "        [0.0429],\n",
       "        [0.0429],\n",
       "        [0.0429],\n",
       "        [0.0429],\n",
       "        [0.0429],\n",
       "        [0.0429],\n",
       "        [0.0429],\n",
       "        [0.0429],\n",
       "        [0.0429],\n",
       "        [0.0429],\n",
       "        [0.0429],\n",
       "        [0.0429],\n",
       "        [0.0429],\n",
       "        [0.0429],\n",
       "        [0.0429],\n",
       "        [0.0429],\n",
       "        [0.0429],\n",
       "        [0.0429]])"
      ]
     },
     "execution_count": 84,
     "metadata": {},
     "output_type": "execute_result"
    }
   ],
   "source": [
    "expected_q_value = reward.unsqueeze(1) + my_agent.gamma * next_q_value * (1 - terminated.unsqueeze(1))\n",
    "# expected_q_value = torch.unsqueeze(expected_q_value, 1)\n",
    "expected_q_value"
   ]
  },
  {
   "cell_type": "code",
   "execution_count": 85,
   "metadata": {},
   "outputs": [
    {
     "data": {
      "text/plain": [
       "torch.Size([32, 1])"
      ]
     },
     "execution_count": 85,
     "metadata": {},
     "output_type": "execute_result"
    }
   ],
   "source": [
    "expected_q_value.size()"
   ]
  },
  {
   "cell_type": "code",
   "execution_count": 86,
   "metadata": {},
   "outputs": [],
   "source": [
    "loss = (q_value - expected_q_value).pow(2).mean()"
   ]
  },
  {
   "cell_type": "code",
   "execution_count": 87,
   "metadata": {},
   "outputs": [
    {
     "data": {
      "text/plain": [
       "tensor(0.0049, grad_fn=<MeanBackward0>)"
      ]
     },
     "execution_count": 87,
     "metadata": {},
     "output_type": "execute_result"
    }
   ],
   "source": [
    "loss"
   ]
  },
  {
   "cell_type": "code",
   "execution_count": 95,
   "metadata": {},
   "outputs": [],
   "source": [
    "state, action, reward, next_state, terminated = sample\n",
    "\n"
   ]
  },
  {
   "cell_type": "code",
   "execution_count": 122,
   "metadata": {},
   "outputs": [],
   "source": [
    "state, action, reward, next_state, terminated = sample\n",
    "\n",
    "state = torch.from_numpy(state)\n",
    "next_state = torch.from_numpy(next_state)\n",
    "action = torch.LongTensor(action).unsqueeze(1)\n",
    "reward = torch.FloatTensor(reward).unsqueeze(1)\n",
    "terminated = torch.FloatTensor(terminated).unsqueeze(1)"
   ]
  },
  {
   "cell_type": "code",
   "execution_count": 123,
   "metadata": {},
   "outputs": [
    {
     "data": {
      "text/plain": [
       "torch.Size([32, 1])"
      ]
     },
     "execution_count": 123,
     "metadata": {},
     "output_type": "execute_result"
    }
   ],
   "source": [
    "q_value = my_agent.policy_model(state).gather(1, action)\n",
    "q_value.size()"
   ]
  },
  {
   "cell_type": "code",
   "execution_count": 126,
   "metadata": {},
   "outputs": [
    {
     "data": {
      "text/plain": [
       "torch.Size([32, 1])"
      ]
     },
     "execution_count": 126,
     "metadata": {},
     "output_type": "execute_result"
    }
   ],
   "source": [
    "next_q_values = my_agent.target_model(next_state).detach()\n",
    "next_q_values = next_q_values.max(1)[0].unsqueeze(1)\n",
    "expected_q_value = reward + my_agent.gamma * next_q_values * (1 - terminated)\n",
    "expected_q_value.size()"
   ]
  },
  {
   "cell_type": "code",
   "execution_count": 130,
   "metadata": {},
   "outputs": [
    {
     "data": {
      "text/plain": [
       "tensor(0.0024, grad_fn=<SmoothL1LossBackward0>)"
      ]
     },
     "execution_count": 130,
     "metadata": {},
     "output_type": "execute_result"
    }
   ],
   "source": [
    "loss = f.smooth_l1_loss(expected_q_value, q_value)\n",
    "loss\n"
   ]
  },
  {
   "cell_type": "code",
   "execution_count": null,
   "metadata": {},
   "outputs": [],
   "source": []
  },
  {
   "cell_type": "code",
   "execution_count": 116,
   "metadata": {},
   "outputs": [
    {
     "data": {
      "text/plain": [
       "torch.Size([32, 1])"
      ]
     },
     "execution_count": 116,
     "metadata": {},
     "output_type": "execute_result"
    }
   ],
   "source": [
    "Q_s_prime_a_prime = torch.zeros(len(state), 1)\n",
    "if len(none_terminal_next_states) != 0:\n",
    "    Q_s_prime_a_prime[none_terminal_next_state_index] = my_agent.target_model(none_terminal_next_states).detach().max(1)[0].unsqueeze(1)\n",
    "Q_s_prime_a_prime.size()"
   ]
  },
  {
   "cell_type": "code",
   "execution_count": 118,
   "metadata": {},
   "outputs": [
    {
     "data": {
      "text/plain": [
       "tensor([[0.0429],\n",
       "        [0.0429],\n",
       "        [0.0429],\n",
       "        [0.0429],\n",
       "        [0.0429],\n",
       "        [0.0429],\n",
       "        [0.0429],\n",
       "        [0.0429],\n",
       "        [0.0429],\n",
       "        [0.0429],\n",
       "        [0.0429],\n",
       "        [0.0429],\n",
       "        [0.0429],\n",
       "        [0.0429],\n",
       "        [0.0429],\n",
       "        [0.0429],\n",
       "        [0.0429],\n",
       "        [0.0429],\n",
       "        [0.0429],\n",
       "        [0.0429],\n",
       "        [0.0429],\n",
       "        [0.0429],\n",
       "        [0.0429],\n",
       "        [0.0429],\n",
       "        [0.0429],\n",
       "        [0.0429],\n",
       "        [0.0429],\n",
       "        [0.0429],\n",
       "        [0.0429],\n",
       "        [0.0429],\n",
       "        [0.0429],\n",
       "        [0.0429]])"
      ]
     },
     "execution_count": 118,
     "metadata": {},
     "output_type": "execute_result"
    }
   ],
   "source": [
    "target = reward + 0.99 * Q_s_prime_a_prime\n",
    "target"
   ]
  },
  {
   "cell_type": "code",
   "execution_count": 120,
   "metadata": {},
   "outputs": [],
   "source": [
    "import torch.nn.functional as f\n",
    "\n",
    "loss = f.smooth_l1_loss(target, Q_s_a)\n"
   ]
  },
  {
   "cell_type": "code",
   "execution_count": 121,
   "metadata": {},
   "outputs": [
    {
     "data": {
      "text/plain": [
       "tensor(0.0024, grad_fn=<SmoothL1LossBackward0>)"
      ]
     },
     "execution_count": 121,
     "metadata": {},
     "output_type": "execute_result"
    }
   ],
   "source": [
    "loss"
   ]
  },
  {
   "cell_type": "code",
   "execution_count": null,
   "metadata": {},
   "outputs": [],
   "source": []
  }
 ],
 "metadata": {
  "kernelspec": {
   "display_name": "general",
   "language": "python",
   "name": "python3"
  },
  "language_info": {
   "codemirror_mode": {
    "name": "ipython",
    "version": 3
   },
   "file_extension": ".py",
   "mimetype": "text/x-python",
   "name": "python",
   "nbconvert_exporter": "python",
   "pygments_lexer": "ipython3",
   "version": "3.10.6"
  },
  "orig_nbformat": 4,
  "vscode": {
   "interpreter": {
    "hash": "3d388b98505db6affdad078afd4813a1fd144c004d526877f03501f5537d2bd2"
   }
  }
 },
 "nbformat": 4,
 "nbformat_minor": 2
}
