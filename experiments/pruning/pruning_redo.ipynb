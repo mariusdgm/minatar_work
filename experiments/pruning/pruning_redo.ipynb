{
 "cells": [
  {
   "cell_type": "code",
   "execution_count": 1,
   "metadata": {},
   "outputs": [],
   "source": [
    "%load_ext autoreload\n",
    "%autoreload 2"
   ]
  },
  {
   "cell_type": "code",
   "execution_count": 2,
   "metadata": {},
   "outputs": [
    {
     "name": "stderr",
     "output_type": "stream",
     "text": [
      "c:\\Users\\Chainsword\\anaconda3\\envs\\general\\lib\\site-packages\\tqdm\\auto.py:22: TqdmWarning: IProgress not found. Please update jupyter and ipywidgets. See https://ipywidgets.readthedocs.io/en/stable/user_install.html\n",
      "  from .autonotebook import tqdm as notebook_tqdm\n"
     ]
    }
   ],
   "source": [
    "import os, sys\n",
    "\n",
    "import torch\n",
    "from torch import nn\n",
    "import torch.nn.utils.prune as prune\n",
    "import torch.nn.functional as F\n",
    "\n",
    "proj_root = os.path.dirname(os.path.dirname(os.path.abspath(\".\")))\n",
    "sys.path.append(proj_root)\n",
    "\n",
    "from minatar import Environment\n",
    "\n",
    "from minatar_dqn.my_dqn import Conv_QNET\n",
    "\n",
    "from experiments.experiment_utils import (\n",
    "    seed_everything,\n",
    "    search_files_containing_string,\n",
    "    split_path_at_substring,\n",
    "    collect_training_output_files,\n",
    ")"
   ]
  },
  {
   "cell_type": "code",
   "execution_count": 3,
   "metadata": {},
   "outputs": [],
   "source": [
    "# Collect all paths to models in a specified folder\n",
    "file_dir = os.path.dirname(os.path.abspath(\".\"))\n",
    "training_outputs_folder_path = os.path.join(proj_root, \"experiments\", \"training\", \"outputs\")\n",
    "pruning_outputs_folder_path = os.path.join(file_dir, \"outputs\")\n",
    "training_timestamp_folder = \"2023_05_15-18_23_40\"\n",
    "\n",
    "experiments_folder = os.path.join(training_outputs_folder_path, training_timestamp_folder)\n"
   ]
  },
  {
   "cell_type": "code",
   "execution_count": 7,
   "metadata": {},
   "outputs": [],
   "source": [
    "experiment_paths = collect_training_output_files(\n",
    "        os.path.join(training_outputs_folder_path, training_timestamp_folder)\n",
    "    )\n",
    "\n",
    "for exp in experiment_paths:\n",
    "    exp[\"models_folder_path\"] = os.path.dirname(exp[\"model_path\"])"
   ]
  },
  {
   "cell_type": "code",
   "execution_count": 8,
   "metadata": {},
   "outputs": [
    {
     "data": {
      "text/plain": [
       "[{'model_path': 'd:\\\\Work\\\\PhD\\\\minatar_work\\\\experiments\\\\training\\\\outputs\\\\2023_05_15-18_23_40\\\\conv16_lin64\\\\breakout\\\\3\\\\model_checkpoints\\\\mck_20',\n",
       "  'training_folder_path': 'd:\\\\Work\\\\PhD\\\\minatar_work\\\\experiments\\\\training\\\\outputs\\\\2023_05_15-18_23_40\\\\conv16_lin64\\\\breakout\\\\3',\n",
       "  'config_path': 'd:\\\\Work\\\\PhD\\\\minatar_work\\\\experiments\\\\training\\\\outputs\\\\2023_05_15-18_23_40\\\\conv16_lin64\\\\breakout\\\\3\\\\conv16_lin64_breakout_3_config',\n",
       "  'stats_path': 'd:\\\\Work\\\\PhD\\\\minatar_work\\\\experiments\\\\training\\\\outputs\\\\2023_05_15-18_23_40\\\\conv16_lin64\\\\breakout\\\\3\\\\conv16_lin64_breakout_3_train_stats',\n",
       "  'models_folder_path': 'd:\\\\Work\\\\PhD\\\\minatar_work\\\\experiments\\\\training\\\\outputs\\\\2023_05_15-18_23_40\\\\conv16_lin64\\\\breakout\\\\3\\\\model_checkpoints'},\n",
       " {'model_path': 'd:\\\\Work\\\\PhD\\\\minatar_work\\\\experiments\\\\training\\\\outputs\\\\2023_05_15-18_23_40\\\\conv32_lin128\\\\breakout\\\\3\\\\model_checkpoints\\\\mck_20',\n",
       "  'training_folder_path': 'd:\\\\Work\\\\PhD\\\\minatar_work\\\\experiments\\\\training\\\\outputs\\\\2023_05_15-18_23_40\\\\conv32_lin128\\\\breakout\\\\3',\n",
       "  'config_path': 'd:\\\\Work\\\\PhD\\\\minatar_work\\\\experiments\\\\training\\\\outputs\\\\2023_05_15-18_23_40\\\\conv32_lin128\\\\breakout\\\\3\\\\conv32_lin128_breakout_3_config',\n",
       "  'stats_path': 'd:\\\\Work\\\\PhD\\\\minatar_work\\\\experiments\\\\training\\\\outputs\\\\2023_05_15-18_23_40\\\\conv32_lin128\\\\breakout\\\\3\\\\conv32_lin128_breakout_3_train_stats',\n",
       "  'models_folder_path': 'd:\\\\Work\\\\PhD\\\\minatar_work\\\\experiments\\\\training\\\\outputs\\\\2023_05_15-18_23_40\\\\conv32_lin128\\\\breakout\\\\3\\\\model_checkpoints'},\n",
       " {'model_path': 'd:\\\\Work\\\\PhD\\\\minatar_work\\\\experiments\\\\training\\\\outputs\\\\2023_05_15-18_23_40\\\\conv64_lin256\\\\breakout\\\\3\\\\model_checkpoints\\\\mck_20',\n",
       "  'training_folder_path': 'd:\\\\Work\\\\PhD\\\\minatar_work\\\\experiments\\\\training\\\\outputs\\\\2023_05_15-18_23_40\\\\conv64_lin256\\\\breakout\\\\3',\n",
       "  'config_path': 'd:\\\\Work\\\\PhD\\\\minatar_work\\\\experiments\\\\training\\\\outputs\\\\2023_05_15-18_23_40\\\\conv64_lin256\\\\breakout\\\\3\\\\conv64_lin256_breakout_3_config',\n",
       "  'stats_path': 'd:\\\\Work\\\\PhD\\\\minatar_work\\\\experiments\\\\training\\\\outputs\\\\2023_05_15-18_23_40\\\\conv64_lin256\\\\breakout\\\\3\\\\conv64_lin256_breakout_3_train_stats',\n",
       "  'models_folder_path': 'd:\\\\Work\\\\PhD\\\\minatar_work\\\\experiments\\\\training\\\\outputs\\\\2023_05_15-18_23_40\\\\conv64_lin256\\\\breakout\\\\3\\\\model_checkpoints'},\n",
       " {'model_path': 'd:\\\\Work\\\\PhD\\\\minatar_work\\\\experiments\\\\training\\\\outputs\\\\2023_05_15-18_23_40\\\\conv8_lin32\\\\breakout\\\\3\\\\model_checkpoints\\\\mck_20',\n",
       "  'training_folder_path': 'd:\\\\Work\\\\PhD\\\\minatar_work\\\\experiments\\\\training\\\\outputs\\\\2023_05_15-18_23_40\\\\conv8_lin32\\\\breakout\\\\3',\n",
       "  'config_path': 'd:\\\\Work\\\\PhD\\\\minatar_work\\\\experiments\\\\training\\\\outputs\\\\2023_05_15-18_23_40\\\\conv8_lin32\\\\breakout\\\\3\\\\conv8_lin32_breakout_3_config',\n",
       "  'stats_path': 'd:\\\\Work\\\\PhD\\\\minatar_work\\\\experiments\\\\training\\\\outputs\\\\2023_05_15-18_23_40\\\\conv8_lin32\\\\breakout\\\\3\\\\conv8_lin32_breakout_3_train_stats',\n",
       "  'models_folder_path': 'd:\\\\Work\\\\PhD\\\\minatar_work\\\\experiments\\\\training\\\\outputs\\\\2023_05_15-18_23_40\\\\conv8_lin32\\\\breakout\\\\3\\\\model_checkpoints'}]"
      ]
     },
     "execution_count": 8,
     "metadata": {},
     "output_type": "execute_result"
    }
   ],
   "source": [
    "experiment_paths"
   ]
  },
  {
   "attachments": {},
   "cell_type": "markdown",
   "metadata": {},
   "source": [
    "For each checkpoint of an experiment we want to prune with different pruning factors and compare against different thresholds + redo scores"
   ]
  },
  {
   "cell_type": "code",
   "execution_count": 17,
   "metadata": {},
   "outputs": [
    {
     "data": {
      "text/plain": [
       "21"
      ]
     },
     "execution_count": 17,
     "metadata": {},
     "output_type": "execute_result"
    }
   ],
   "source": [
    "exp_paths = experiment_paths[0]\n",
    "\n",
    "exp_paths[\"stats_path\"]\n",
    "\n",
    "training_stats_data = torch.load(exp_paths[\"stats_path\"])\n",
    "redo_scores = training_stats_data[\"redo_scores\"][\"policy\"]\n",
    "len(redo_scores)"
   ]
  },
  {
   "cell_type": "code",
   "execution_count": 18,
   "metadata": {},
   "outputs": [
    {
     "data": {
      "text/plain": [
       "[tensor([0.0220, 0.0466, 0.0358, 0.0445, 0.0747, 0.0760, 0.0832, 0.0382, 0.0473,\n",
       "         0.0343, 0.1171, 0.0418, 0.0772, 0.1289, 0.1208, 0.0115]),\n",
       " tensor([0.0319, 0.0292, 0.0653, 0.0699, 0.0310, 0.0837, 0.0540, 0.0850, 0.0484,\n",
       "         0.0311, 0.0333, 0.1288, 0.1299, 0.0699, 0.0915, 0.0173]),\n",
       " tensor([0.0000, 0.0557, 0.0000, 0.0041, 0.0000, 0.0000, 0.0183, 0.0000, 0.0735,\n",
       "         0.0797, 0.0000, 0.0331, 0.1031, 0.0000, 0.0000, 0.0000, 0.0022, 0.0140,\n",
       "         0.0342, 0.0320, 0.0000, 0.0085, 0.0129, 0.0000, 0.0630, 0.0000, 0.0000,\n",
       "         0.0086, 0.0120, 0.0000, 0.0000, 0.0098, 0.0887, 0.0078, 0.0055, 0.0533,\n",
       "         0.0024, 0.0000, 0.0000, 0.0128, 0.0000, 0.0000, 0.0000, 0.0179, 0.0006,\n",
       "         0.0190, 0.0122, 0.0124, 0.0000, 0.0124, 0.0043, 0.0000, 0.0000, 0.0000,\n",
       "         0.0000, 0.0823, 0.0426, 0.0000, 0.0000, 0.0463, 0.0000, 0.0033, 0.0000,\n",
       "         0.0114])]"
      ]
     },
     "execution_count": 18,
     "metadata": {},
     "output_type": "execute_result"
    }
   ],
   "source": [
    "redo_scores[0]"
   ]
  },
  {
   "cell_type": "code",
   "execution_count": 21,
   "metadata": {},
   "outputs": [
    {
     "data": {
      "text/plain": [
       "[tensor([0.0326, 0.0280, 0.0504, 0.0595, 0.0562, 0.0483, 0.0714, 0.0667, 0.0425,\n",
       "         0.0880, 0.0984, 0.0570, 0.0631, 0.0832, 0.1093, 0.0455]),\n",
       " tensor([0.0761, 0.0547, 0.0495, 0.0769, 0.0566, 0.0865, 0.0752, 0.0657, 0.0569,\n",
       "         0.0691, 0.0589, 0.0425, 0.0630, 0.0495, 0.0692, 0.0498]),\n",
       " tensor([1.4707e-03, 6.4590e-02, 1.1963e-02, 1.9946e-03, 1.9096e-03, 2.7781e-04,\n",
       "         3.6924e-02, 1.4560e-03, 6.9540e-02, 7.8125e-02, 5.0273e-04, 8.9667e-03,\n",
       "         8.9484e-02, 5.6402e-04, 2.3150e-03, 1.3857e-02, 2.6151e-03, 2.7216e-03,\n",
       "         3.2223e-02, 3.0299e-03, 0.0000e+00, 9.4393e-03, 3.4041e-03, 0.0000e+00,\n",
       "         5.2601e-02, 1.3624e-02, 0.0000e+00, 4.2704e-03, 1.1238e-02, 2.9081e-03,\n",
       "         1.7461e-03, 5.2460e-03, 8.2055e-02, 7.4827e-03, 1.5347e-02, 5.8933e-02,\n",
       "         2.0834e-02, 6.9320e-07, 2.0289e-03, 1.8741e-03, 2.8097e-03, 3.2972e-05,\n",
       "         2.9016e-03, 1.3664e-02, 5.2795e-04, 2.3168e-03, 3.1712e-03, 6.3628e-04,\n",
       "         1.4953e-02, 1.8250e-02, 1.5099e-03, 8.6197e-05, 7.2143e-04, 2.0027e-03,\n",
       "         1.4001e-05, 8.0950e-02, 5.1371e-02, 1.4071e-02, 7.1649e-03, 5.8235e-02,\n",
       "         6.9197e-03, 9.1716e-08, 1.2503e-04, 4.0956e-06])]"
      ]
     },
     "execution_count": 21,
     "metadata": {},
     "output_type": "execute_result"
    }
   ],
   "source": [
    "redo_scores[20]"
   ]
  },
  {
   "cell_type": "code",
   "execution_count": null,
   "metadata": {},
   "outputs": [],
   "source": []
  }
 ],
 "metadata": {
  "kernelspec": {
   "display_name": "general",
   "language": "python",
   "name": "python3"
  },
  "language_info": {
   "codemirror_mode": {
    "name": "ipython",
    "version": 3
   },
   "file_extension": ".py",
   "mimetype": "text/x-python",
   "name": "python",
   "nbconvert_exporter": "python",
   "pygments_lexer": "ipython3",
   "version": "3.10.6"
  },
  "orig_nbformat": 4
 },
 "nbformat": 4,
 "nbformat_minor": 2
}
