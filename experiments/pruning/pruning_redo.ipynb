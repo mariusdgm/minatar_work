{
 "cells": [
  {
   "cell_type": "code",
   "execution_count": 1,
   "metadata": {},
   "outputs": [],
   "source": [
    "%load_ext autoreload\n",
    "%autoreload 2"
   ]
  },
  {
   "cell_type": "code",
   "execution_count": 57,
   "metadata": {},
   "outputs": [],
   "source": [
    "import os, sys\n",
    "\n",
    "import torch\n",
    "from torch import nn\n",
    "import torch.nn.utils.prune as prune\n",
    "import torch.nn.functional as F\n",
    "\n",
    "import yaml\n",
    "import scipy\n",
    "import numpy as np\n",
    "import pandas as pd\n",
    "\n",
    "proj_root = os.path.dirname(os.path.dirname(os.path.abspath(\".\")))\n",
    "sys.path.append(proj_root)\n",
    "\n",
    "from minatar import Environment\n",
    "\n",
    "from minatar_dqn.my_dqn import Conv_QNET\n",
    "from minatar_dqn.redo import apply_redo_parametrization\n",
    "\n",
    "from experiments.experiment_utils import (\n",
    "    seed_everything,\n",
    "    search_files_containing_string,\n",
    "    split_path_at_substring,\n",
    "    collect_training_output_files,\n",
    ")"
   ]
  },
  {
   "cell_type": "code",
   "execution_count": 3,
   "metadata": {},
   "outputs": [],
   "source": [
    "# Collect all paths to models in a specified folder\n",
    "file_dir = os.path.dirname(os.path.abspath(\".\"))\n",
    "training_outputs_folder_path = os.path.join(proj_root, \"experiments\", \"training\", \"outputs\")\n",
    "pruning_outputs_folder_path = os.path.join(file_dir, \"outputs\")\n",
    "training_timestamp_folder = \"2023_05_15-18_23_40\"\n",
    "\n",
    "experiments_folder = os.path.join(training_outputs_folder_path, training_timestamp_folder)\n"
   ]
  },
  {
   "cell_type": "code",
   "execution_count": 7,
   "metadata": {},
   "outputs": [],
   "source": [
    "experiment_paths = collect_training_output_files(\n",
    "        os.path.join(training_outputs_folder_path, training_timestamp_folder)\n",
    "    )\n",
    "\n",
    "for exp in experiment_paths:\n",
    "    exp[\"models_folder_path\"] = os.path.dirname(exp[\"model_path\"])"
   ]
  },
  {
   "cell_type": "code",
   "execution_count": 8,
   "metadata": {},
   "outputs": [
    {
     "data": {
      "text/plain": [
       "[{'model_path': 'd:\\\\Work\\\\PhD\\\\minatar_work\\\\experiments\\\\training\\\\outputs\\\\2023_05_15-18_23_40\\\\conv16_lin64\\\\breakout\\\\3\\\\model_checkpoints\\\\mck_20',\n",
       "  'training_folder_path': 'd:\\\\Work\\\\PhD\\\\minatar_work\\\\experiments\\\\training\\\\outputs\\\\2023_05_15-18_23_40\\\\conv16_lin64\\\\breakout\\\\3',\n",
       "  'config_path': 'd:\\\\Work\\\\PhD\\\\minatar_work\\\\experiments\\\\training\\\\outputs\\\\2023_05_15-18_23_40\\\\conv16_lin64\\\\breakout\\\\3\\\\conv16_lin64_breakout_3_config',\n",
       "  'stats_path': 'd:\\\\Work\\\\PhD\\\\minatar_work\\\\experiments\\\\training\\\\outputs\\\\2023_05_15-18_23_40\\\\conv16_lin64\\\\breakout\\\\3\\\\conv16_lin64_breakout_3_train_stats',\n",
       "  'models_folder_path': 'd:\\\\Work\\\\PhD\\\\minatar_work\\\\experiments\\\\training\\\\outputs\\\\2023_05_15-18_23_40\\\\conv16_lin64\\\\breakout\\\\3\\\\model_checkpoints'},\n",
       " {'model_path': 'd:\\\\Work\\\\PhD\\\\minatar_work\\\\experiments\\\\training\\\\outputs\\\\2023_05_15-18_23_40\\\\conv32_lin128\\\\breakout\\\\3\\\\model_checkpoints\\\\mck_20',\n",
       "  'training_folder_path': 'd:\\\\Work\\\\PhD\\\\minatar_work\\\\experiments\\\\training\\\\outputs\\\\2023_05_15-18_23_40\\\\conv32_lin128\\\\breakout\\\\3',\n",
       "  'config_path': 'd:\\\\Work\\\\PhD\\\\minatar_work\\\\experiments\\\\training\\\\outputs\\\\2023_05_15-18_23_40\\\\conv32_lin128\\\\breakout\\\\3\\\\conv32_lin128_breakout_3_config',\n",
       "  'stats_path': 'd:\\\\Work\\\\PhD\\\\minatar_work\\\\experiments\\\\training\\\\outputs\\\\2023_05_15-18_23_40\\\\conv32_lin128\\\\breakout\\\\3\\\\conv32_lin128_breakout_3_train_stats',\n",
       "  'models_folder_path': 'd:\\\\Work\\\\PhD\\\\minatar_work\\\\experiments\\\\training\\\\outputs\\\\2023_05_15-18_23_40\\\\conv32_lin128\\\\breakout\\\\3\\\\model_checkpoints'},\n",
       " {'model_path': 'd:\\\\Work\\\\PhD\\\\minatar_work\\\\experiments\\\\training\\\\outputs\\\\2023_05_15-18_23_40\\\\conv64_lin256\\\\breakout\\\\3\\\\model_checkpoints\\\\mck_20',\n",
       "  'training_folder_path': 'd:\\\\Work\\\\PhD\\\\minatar_work\\\\experiments\\\\training\\\\outputs\\\\2023_05_15-18_23_40\\\\conv64_lin256\\\\breakout\\\\3',\n",
       "  'config_path': 'd:\\\\Work\\\\PhD\\\\minatar_work\\\\experiments\\\\training\\\\outputs\\\\2023_05_15-18_23_40\\\\conv64_lin256\\\\breakout\\\\3\\\\conv64_lin256_breakout_3_config',\n",
       "  'stats_path': 'd:\\\\Work\\\\PhD\\\\minatar_work\\\\experiments\\\\training\\\\outputs\\\\2023_05_15-18_23_40\\\\conv64_lin256\\\\breakout\\\\3\\\\conv64_lin256_breakout_3_train_stats',\n",
       "  'models_folder_path': 'd:\\\\Work\\\\PhD\\\\minatar_work\\\\experiments\\\\training\\\\outputs\\\\2023_05_15-18_23_40\\\\conv64_lin256\\\\breakout\\\\3\\\\model_checkpoints'},\n",
       " {'model_path': 'd:\\\\Work\\\\PhD\\\\minatar_work\\\\experiments\\\\training\\\\outputs\\\\2023_05_15-18_23_40\\\\conv8_lin32\\\\breakout\\\\3\\\\model_checkpoints\\\\mck_20',\n",
       "  'training_folder_path': 'd:\\\\Work\\\\PhD\\\\minatar_work\\\\experiments\\\\training\\\\outputs\\\\2023_05_15-18_23_40\\\\conv8_lin32\\\\breakout\\\\3',\n",
       "  'config_path': 'd:\\\\Work\\\\PhD\\\\minatar_work\\\\experiments\\\\training\\\\outputs\\\\2023_05_15-18_23_40\\\\conv8_lin32\\\\breakout\\\\3\\\\conv8_lin32_breakout_3_config',\n",
       "  'stats_path': 'd:\\\\Work\\\\PhD\\\\minatar_work\\\\experiments\\\\training\\\\outputs\\\\2023_05_15-18_23_40\\\\conv8_lin32\\\\breakout\\\\3\\\\conv8_lin32_breakout_3_train_stats',\n",
       "  'models_folder_path': 'd:\\\\Work\\\\PhD\\\\minatar_work\\\\experiments\\\\training\\\\outputs\\\\2023_05_15-18_23_40\\\\conv8_lin32\\\\breakout\\\\3\\\\model_checkpoints'}]"
      ]
     },
     "execution_count": 8,
     "metadata": {},
     "output_type": "execute_result"
    }
   ],
   "source": [
    "experiment_paths"
   ]
  },
  {
   "attachments": {},
   "cell_type": "markdown",
   "metadata": {},
   "source": [
    "For each checkpoint of an experiment we want to prune with different pruning factors and compare against different thresholds + redo scores"
   ]
  },
  {
   "cell_type": "code",
   "execution_count": 17,
   "metadata": {},
   "outputs": [
    {
     "data": {
      "text/plain": [
       "21"
      ]
     },
     "execution_count": 17,
     "metadata": {},
     "output_type": "execute_result"
    }
   ],
   "source": [
    "exp_paths = experiment_paths[0]\n",
    "\n",
    "exp_paths[\"stats_path\"]\n",
    "\n",
    "training_stats_data = torch.load(exp_paths[\"stats_path\"])\n",
    "redo_scores = training_stats_data[\"redo_scores\"][\"policy\"]\n",
    "\n",
    "len(redo_scores)"
   ]
  },
  {
   "cell_type": "code",
   "execution_count": 24,
   "metadata": {},
   "outputs": [
    {
     "data": {
      "text/plain": [
       "['d:\\\\Work\\\\PhD\\\\minatar_work\\\\experiments\\\\training\\\\outputs\\\\2023_05_15-18_23_40\\\\conv16_lin64\\\\breakout\\\\3\\\\model_checkpoints\\\\mck_1',\n",
       " 'd:\\\\Work\\\\PhD\\\\minatar_work\\\\experiments\\\\training\\\\outputs\\\\2023_05_15-18_23_40\\\\conv16_lin64\\\\breakout\\\\3\\\\model_checkpoints\\\\mck_10',\n",
       " 'd:\\\\Work\\\\PhD\\\\minatar_work\\\\experiments\\\\training\\\\outputs\\\\2023_05_15-18_23_40\\\\conv16_lin64\\\\breakout\\\\3\\\\model_checkpoints\\\\mck_11',\n",
       " 'd:\\\\Work\\\\PhD\\\\minatar_work\\\\experiments\\\\training\\\\outputs\\\\2023_05_15-18_23_40\\\\conv16_lin64\\\\breakout\\\\3\\\\model_checkpoints\\\\mck_12',\n",
       " 'd:\\\\Work\\\\PhD\\\\minatar_work\\\\experiments\\\\training\\\\outputs\\\\2023_05_15-18_23_40\\\\conv16_lin64\\\\breakout\\\\3\\\\model_checkpoints\\\\mck_13',\n",
       " 'd:\\\\Work\\\\PhD\\\\minatar_work\\\\experiments\\\\training\\\\outputs\\\\2023_05_15-18_23_40\\\\conv16_lin64\\\\breakout\\\\3\\\\model_checkpoints\\\\mck_14',\n",
       " 'd:\\\\Work\\\\PhD\\\\minatar_work\\\\experiments\\\\training\\\\outputs\\\\2023_05_15-18_23_40\\\\conv16_lin64\\\\breakout\\\\3\\\\model_checkpoints\\\\mck_15',\n",
       " 'd:\\\\Work\\\\PhD\\\\minatar_work\\\\experiments\\\\training\\\\outputs\\\\2023_05_15-18_23_40\\\\conv16_lin64\\\\breakout\\\\3\\\\model_checkpoints\\\\mck_16',\n",
       " 'd:\\\\Work\\\\PhD\\\\minatar_work\\\\experiments\\\\training\\\\outputs\\\\2023_05_15-18_23_40\\\\conv16_lin64\\\\breakout\\\\3\\\\model_checkpoints\\\\mck_17',\n",
       " 'd:\\\\Work\\\\PhD\\\\minatar_work\\\\experiments\\\\training\\\\outputs\\\\2023_05_15-18_23_40\\\\conv16_lin64\\\\breakout\\\\3\\\\model_checkpoints\\\\mck_18',\n",
       " 'd:\\\\Work\\\\PhD\\\\minatar_work\\\\experiments\\\\training\\\\outputs\\\\2023_05_15-18_23_40\\\\conv16_lin64\\\\breakout\\\\3\\\\model_checkpoints\\\\mck_19',\n",
       " 'd:\\\\Work\\\\PhD\\\\minatar_work\\\\experiments\\\\training\\\\outputs\\\\2023_05_15-18_23_40\\\\conv16_lin64\\\\breakout\\\\3\\\\model_checkpoints\\\\mck_2',\n",
       " 'd:\\\\Work\\\\PhD\\\\minatar_work\\\\experiments\\\\training\\\\outputs\\\\2023_05_15-18_23_40\\\\conv16_lin64\\\\breakout\\\\3\\\\model_checkpoints\\\\mck_20',\n",
       " 'd:\\\\Work\\\\PhD\\\\minatar_work\\\\experiments\\\\training\\\\outputs\\\\2023_05_15-18_23_40\\\\conv16_lin64\\\\breakout\\\\3\\\\model_checkpoints\\\\mck_3',\n",
       " 'd:\\\\Work\\\\PhD\\\\minatar_work\\\\experiments\\\\training\\\\outputs\\\\2023_05_15-18_23_40\\\\conv16_lin64\\\\breakout\\\\3\\\\model_checkpoints\\\\mck_4',\n",
       " 'd:\\\\Work\\\\PhD\\\\minatar_work\\\\experiments\\\\training\\\\outputs\\\\2023_05_15-18_23_40\\\\conv16_lin64\\\\breakout\\\\3\\\\model_checkpoints\\\\mck_5',\n",
       " 'd:\\\\Work\\\\PhD\\\\minatar_work\\\\experiments\\\\training\\\\outputs\\\\2023_05_15-18_23_40\\\\conv16_lin64\\\\breakout\\\\3\\\\model_checkpoints\\\\mck_6',\n",
       " 'd:\\\\Work\\\\PhD\\\\minatar_work\\\\experiments\\\\training\\\\outputs\\\\2023_05_15-18_23_40\\\\conv16_lin64\\\\breakout\\\\3\\\\model_checkpoints\\\\mck_7',\n",
       " 'd:\\\\Work\\\\PhD\\\\minatar_work\\\\experiments\\\\training\\\\outputs\\\\2023_05_15-18_23_40\\\\conv16_lin64\\\\breakout\\\\3\\\\model_checkpoints\\\\mck_8',\n",
       " 'd:\\\\Work\\\\PhD\\\\minatar_work\\\\experiments\\\\training\\\\outputs\\\\2023_05_15-18_23_40\\\\conv16_lin64\\\\breakout\\\\3\\\\model_checkpoints\\\\mck_9']"
      ]
     },
     "execution_count": 24,
     "metadata": {},
     "output_type": "execute_result"
    }
   ],
   "source": [
    "checkpoints_paths = search_files_containing_string(\n",
    "    exp_paths[\"models_folder_path\"], \"mck\", substring_location=\"containing\"\n",
    ")\n",
    "checkpoints_paths"
   ]
  },
  {
   "cell_type": "code",
   "execution_count": 53,
   "metadata": {},
   "outputs": [
    {
     "data": {
      "text/plain": [
       "[tensor([0.0326, 0.0280, 0.0504, 0.0595, 0.0562, 0.0483, 0.0714, 0.0667, 0.0425,\n",
       "         0.0880, 0.0984, 0.0570, 0.0631, 0.0832, 0.1093, 0.0455]),\n",
       " tensor([0.0761, 0.0547, 0.0495, 0.0769, 0.0566, 0.0865, 0.0752, 0.0657, 0.0569,\n",
       "         0.0691, 0.0589, 0.0425, 0.0630, 0.0495, 0.0692, 0.0498]),\n",
       " tensor([1.4707e-03, 6.4590e-02, 1.1963e-02, 1.9946e-03, 1.9096e-03, 2.7781e-04,\n",
       "         3.6924e-02, 1.4560e-03, 6.9540e-02, 7.8125e-02, 5.0273e-04, 8.9667e-03,\n",
       "         8.9484e-02, 5.6402e-04, 2.3150e-03, 1.3857e-02, 2.6151e-03, 2.7216e-03,\n",
       "         3.2223e-02, 3.0299e-03, 0.0000e+00, 9.4393e-03, 3.4041e-03, 0.0000e+00,\n",
       "         5.2601e-02, 1.3624e-02, 0.0000e+00, 4.2704e-03, 1.1238e-02, 2.9081e-03,\n",
       "         1.7461e-03, 5.2460e-03, 8.2055e-02, 7.4827e-03, 1.5347e-02, 5.8933e-02,\n",
       "         2.0834e-02, 6.9320e-07, 2.0289e-03, 1.8741e-03, 2.8097e-03, 3.2972e-05,\n",
       "         2.9016e-03, 1.3664e-02, 5.2795e-04, 2.3168e-03, 3.1712e-03, 6.3628e-04,\n",
       "         1.4953e-02, 1.8250e-02, 1.5099e-03, 8.6197e-05, 7.2143e-04, 2.0027e-03,\n",
       "         1.4001e-05, 8.0950e-02, 5.1371e-02, 1.4071e-02, 7.1649e-03, 5.8235e-02,\n",
       "         6.9197e-03, 9.1716e-08, 1.2503e-04, 4.0956e-06])]"
      ]
     },
     "execution_count": 53,
     "metadata": {},
     "output_type": "execute_result"
    }
   ],
   "source": [
    "redo_scores[19]"
   ]
  },
  {
   "cell_type": "code",
   "execution_count": 71,
   "metadata": {},
   "outputs": [
    {
     "name": "stdout",
     "output_type": "stream",
     "text": [
      "Hooking Conv2d(4, 16, kernel_size=(3, 3), stride=(1, 1)) -> Conv2d(16, 16, kernel_size=(3, 3), stride=(1, 1))\n",
      "Hooking Conv2d(16, 16, kernel_size=(3, 3), stride=(1, 1)) -> Linear(in_features=576, out_features=64, bias=True)\n",
      "Hooking Linear(in_features=576, out_features=64, bias=True) -> Linear(in_features=64, out_features=6, bias=True)\n",
      "Hooking Conv2d(4, 16, kernel_size=(3, 3), stride=(1, 1)) -> Conv2d(16, 16, kernel_size=(3, 3), stride=(1, 1))\n",
      "Hooking Conv2d(16, 16, kernel_size=(3, 3), stride=(1, 1)) -> Linear(in_features=576, out_features=64, bias=True)\n",
      "Hooking Linear(in_features=576, out_features=64, bias=True) -> Linear(in_features=64, out_features=6, bias=True)\n",
      "Hooking Conv2d(4, 16, kernel_size=(3, 3), stride=(1, 1)) -> Conv2d(16, 16, kernel_size=(3, 3), stride=(1, 1))\n",
      "Hooking Conv2d(16, 16, kernel_size=(3, 3), stride=(1, 1)) -> Linear(in_features=576, out_features=64, bias=True)\n",
      "Hooking Linear(in_features=576, out_features=64, bias=True) -> Linear(in_features=64, out_features=6, bias=True)\n",
      "Hooking Conv2d(4, 16, kernel_size=(3, 3), stride=(1, 1)) -> Conv2d(16, 16, kernel_size=(3, 3), stride=(1, 1))\n",
      "Hooking Conv2d(16, 16, kernel_size=(3, 3), stride=(1, 1)) -> Linear(in_features=576, out_features=64, bias=True)\n",
      "Hooking Linear(in_features=576, out_features=64, bias=True) -> Linear(in_features=64, out_features=6, bias=True)\n",
      "Hooking Conv2d(4, 16, kernel_size=(3, 3), stride=(1, 1)) -> Conv2d(16, 16, kernel_size=(3, 3), stride=(1, 1))\n",
      "Hooking Conv2d(16, 16, kernel_size=(3, 3), stride=(1, 1)) -> Linear(in_features=576, out_features=64, bias=True)\n",
      "Hooking Linear(in_features=576, out_features=64, bias=True) -> Linear(in_features=64, out_features=6, bias=True)\n",
      "Hooking Conv2d(4, 16, kernel_size=(3, 3), stride=(1, 1)) -> Conv2d(16, 16, kernel_size=(3, 3), stride=(1, 1))\n",
      "Hooking Conv2d(16, 16, kernel_size=(3, 3), stride=(1, 1)) -> Linear(in_features=576, out_features=64, bias=True)\n",
      "Hooking Linear(in_features=576, out_features=64, bias=True) -> Linear(in_features=64, out_features=6, bias=True)\n",
      "Hooking Conv2d(4, 16, kernel_size=(3, 3), stride=(1, 1)) -> Conv2d(16, 16, kernel_size=(3, 3), stride=(1, 1))\n",
      "Hooking Conv2d(16, 16, kernel_size=(3, 3), stride=(1, 1)) -> Linear(in_features=576, out_features=64, bias=True)\n",
      "Hooking Linear(in_features=576, out_features=64, bias=True) -> Linear(in_features=64, out_features=6, bias=True)\n",
      "Hooking Conv2d(4, 16, kernel_size=(3, 3), stride=(1, 1)) -> Conv2d(16, 16, kernel_size=(3, 3), stride=(1, 1))\n",
      "Hooking Conv2d(16, 16, kernel_size=(3, 3), stride=(1, 1)) -> Linear(in_features=576, out_features=64, bias=True)\n",
      "Hooking Linear(in_features=576, out_features=64, bias=True) -> Linear(in_features=64, out_features=6, bias=True)\n",
      "Hooking Conv2d(4, 16, kernel_size=(3, 3), stride=(1, 1)) -> Conv2d(16, 16, kernel_size=(3, 3), stride=(1, 1))\n",
      "Hooking Conv2d(16, 16, kernel_size=(3, 3), stride=(1, 1)) -> Linear(in_features=576, out_features=64, bias=True)\n",
      "Hooking Linear(in_features=576, out_features=64, bias=True) -> Linear(in_features=64, out_features=6, bias=True)\n",
      "Hooking Conv2d(4, 16, kernel_size=(3, 3), stride=(1, 1)) -> Conv2d(16, 16, kernel_size=(3, 3), stride=(1, 1))\n",
      "Hooking Conv2d(16, 16, kernel_size=(3, 3), stride=(1, 1)) -> Linear(in_features=576, out_features=64, bias=True)\n",
      "Hooking Linear(in_features=576, out_features=64, bias=True) -> Linear(in_features=64, out_features=6, bias=True)\n",
      "Hooking Conv2d(4, 16, kernel_size=(3, 3), stride=(1, 1)) -> Conv2d(16, 16, kernel_size=(3, 3), stride=(1, 1))\n",
      "Hooking Conv2d(16, 16, kernel_size=(3, 3), stride=(1, 1)) -> Linear(in_features=576, out_features=64, bias=True)\n",
      "Hooking Linear(in_features=576, out_features=64, bias=True) -> Linear(in_features=64, out_features=6, bias=True)\n",
      "Hooking Conv2d(4, 16, kernel_size=(3, 3), stride=(1, 1)) -> Conv2d(16, 16, kernel_size=(3, 3), stride=(1, 1))\n",
      "Hooking Conv2d(16, 16, kernel_size=(3, 3), stride=(1, 1)) -> Linear(in_features=576, out_features=64, bias=True)\n",
      "Hooking Linear(in_features=576, out_features=64, bias=True) -> Linear(in_features=64, out_features=6, bias=True)\n",
      "Hooking Conv2d(4, 16, kernel_size=(3, 3), stride=(1, 1)) -> Conv2d(16, 16, kernel_size=(3, 3), stride=(1, 1))\n",
      "Hooking Conv2d(16, 16, kernel_size=(3, 3), stride=(1, 1)) -> Linear(in_features=576, out_features=64, bias=True)\n",
      "Hooking Linear(in_features=576, out_features=64, bias=True) -> Linear(in_features=64, out_features=6, bias=True)\n",
      "Hooking Conv2d(4, 16, kernel_size=(3, 3), stride=(1, 1)) -> Conv2d(16, 16, kernel_size=(3, 3), stride=(1, 1))\n",
      "Hooking Conv2d(16, 16, kernel_size=(3, 3), stride=(1, 1)) -> Linear(in_features=576, out_features=64, bias=True)\n",
      "Hooking Linear(in_features=576, out_features=64, bias=True) -> Linear(in_features=64, out_features=6, bias=True)\n",
      "Hooking Conv2d(4, 16, kernel_size=(3, 3), stride=(1, 1)) -> Conv2d(16, 16, kernel_size=(3, 3), stride=(1, 1))\n",
      "Hooking Conv2d(16, 16, kernel_size=(3, 3), stride=(1, 1)) -> Linear(in_features=576, out_features=64, bias=True)\n",
      "Hooking Linear(in_features=576, out_features=64, bias=True) -> Linear(in_features=64, out_features=6, bias=True)\n",
      "Hooking Conv2d(4, 16, kernel_size=(3, 3), stride=(1, 1)) -> Conv2d(16, 16, kernel_size=(3, 3), stride=(1, 1))\n",
      "Hooking Conv2d(16, 16, kernel_size=(3, 3), stride=(1, 1)) -> Linear(in_features=576, out_features=64, bias=True)\n",
      "Hooking Linear(in_features=576, out_features=64, bias=True) -> Linear(in_features=64, out_features=6, bias=True)\n",
      "Hooking Conv2d(4, 16, kernel_size=(3, 3), stride=(1, 1)) -> Conv2d(16, 16, kernel_size=(3, 3), stride=(1, 1))\n",
      "Hooking Conv2d(16, 16, kernel_size=(3, 3), stride=(1, 1)) -> Linear(in_features=576, out_features=64, bias=True)\n",
      "Hooking Linear(in_features=576, out_features=64, bias=True) -> Linear(in_features=64, out_features=6, bias=True)\n",
      "Hooking Conv2d(4, 16, kernel_size=(3, 3), stride=(1, 1)) -> Conv2d(16, 16, kernel_size=(3, 3), stride=(1, 1))\n",
      "Hooking Conv2d(16, 16, kernel_size=(3, 3), stride=(1, 1)) -> Linear(in_features=576, out_features=64, bias=True)\n",
      "Hooking Linear(in_features=576, out_features=64, bias=True) -> Linear(in_features=64, out_features=6, bias=True)\n",
      "Hooking Conv2d(4, 16, kernel_size=(3, 3), stride=(1, 1)) -> Conv2d(16, 16, kernel_size=(3, 3), stride=(1, 1))\n",
      "Hooking Conv2d(16, 16, kernel_size=(3, 3), stride=(1, 1)) -> Linear(in_features=576, out_features=64, bias=True)\n",
      "Hooking Linear(in_features=576, out_features=64, bias=True) -> Linear(in_features=64, out_features=6, bias=True)\n",
      "Hooking Conv2d(4, 16, kernel_size=(3, 3), stride=(1, 1)) -> Conv2d(16, 16, kernel_size=(3, 3), stride=(1, 1))\n",
      "Hooking Conv2d(16, 16, kernel_size=(3, 3), stride=(1, 1)) -> Linear(in_features=576, out_features=64, bias=True)\n",
      "Hooking Linear(in_features=576, out_features=64, bias=True) -> Linear(in_features=64, out_features=6, bias=True)\n"
     ]
    }
   ],
   "source": [
    "# read the config so that the model architecture can be loaded\n",
    "results_df = pd.DataFrame(columns=[\"checkpoint\", \"epoch\", \"layer\", \"kendall_corr\", \"pvalue\"])\n",
    "\n",
    "with open(exp_paths[\"config_path\"], \"r\") as ymlfile:\n",
    "    cfg = yaml.safe_load(ymlfile)\n",
    "\n",
    "for check_index, checkpoint_path in enumerate(checkpoints_paths):\n",
    "    # Get the state of the model\n",
    "    checkpoint_models_state = torch.load(checkpoint_path)\n",
    "    checkpoint_model = Conv_QNET(in_features = (4, 10, 10), \n",
    "                                in_channels = 4, \n",
    "                                num_actions = 6, \n",
    "                                **cfg[\"estimator\"][\"args_\"])\n",
    "    checkpoint_model = apply_redo_parametrization(checkpoint_model, tau=0.1)\n",
    "    checkpoint_model.load_state_dict(checkpoint_models_state[\"policy_model_state_dict\"])\n",
    "    model_state = checkpoint_model.state_dict()\n",
    "\n",
    "    # Compute kendall rank correlation coefficient for each layer\n",
    "    layer_weight_keys = [\"features.0.weight\", \"features.2.weight\", \"fc.0.weight\"]\n",
    "    for i, layer_key in enumerate(layer_weight_keys):\n",
    "        weights = model_state[layer_key]\n",
    "\n",
    "        # compute the weight of the neurons in this layer\n",
    "        if weights.dim() > 2:\n",
    "            l1_norms = torch.sum(torch.abs(weights), dim=(1, 2, 3))\n",
    "        else:\n",
    "            l1_norms = torch.sum(torch.abs(weights), dim=(1))\n",
    "\n",
    "        neuron_rankings = torch.argsort(l1_norms)\n",
    "        redo_rankings = torch.argsort(redo_scores[check_index][i])\n",
    "\n",
    "        # Calculate the Kendall rank correlation coefficient and p-value\n",
    "        corr, pvalue = scipy.stats.kendalltau(neuron_rankings, redo_rankings)\n",
    "\n",
    "        new_row = {\"checkpoint\": os.path.basename(checkpoint_path),\n",
    "                    \"epoch\": check_index, \n",
    "                    \"layer\": layer_key,\n",
    "                    \"kendall_corr\": corr, \n",
    "                    \"pvalue\": pvalue}\n",
    "        results_df = pd.concat([results_df, pd.DataFrame(new_row, index=[0])])\n",
    "        "
   ]
  },
  {
   "cell_type": "code",
   "execution_count": 67,
   "metadata": {},
   "outputs": [
    {
     "data": {
      "text/plain": [
       "torch.Size([64, 576])"
      ]
     },
     "execution_count": 67,
     "metadata": {},
     "output_type": "execute_result"
    }
   ],
   "source": [
    "neuron_rankings.shape"
   ]
  },
  {
   "cell_type": "code",
   "execution_count": 68,
   "metadata": {},
   "outputs": [
    {
     "data": {
      "text/plain": [
       "tensor([ 0, 48,  2, 54,  4,  5, 51,  7, 52, 53, 10, 42, 41, 13, 14, 15, 38, 37,\n",
       "        57, 58, 20, 60, 62, 23, 40, 25, 26, 29, 30, 44, 16, 36, 61,  3, 50, 34,\n",
       "        33, 21, 27, 31, 63, 28, 46, 49, 47, 39, 22, 17, 43,  6, 45, 19, 11, 18,\n",
       "        56, 59, 35,  1, 24,  8,  9, 55, 32, 12])"
      ]
     },
     "execution_count": 68,
     "metadata": {},
     "output_type": "execute_result"
    }
   ],
   "source": [
    "redo_rankings"
   ]
  },
  {
   "cell_type": "code",
   "execution_count": 51,
   "metadata": {},
   "outputs": [
    {
     "data": {
      "text/plain": [
       "0.8943512599699821"
      ]
     },
     "execution_count": 51,
     "metadata": {},
     "output_type": "execute_result"
    }
   ],
   "source": [
    "pvalue"
   ]
  },
  {
   "cell_type": "code",
   "execution_count": null,
   "metadata": {},
   "outputs": [],
   "source": [
    "import pandas as pd\n",
    "\n",
    "# Create an empty DataFrame with the desired column names\n",
    "results_df = pd.DataFrame(columns=['experiment', 'accuracy'])\n",
    "\n",
    "# Run experiments and append results to the DataFrame\n",
    "for i in range(10):\n",
    "    # Run experiment and get accuracy\n",
    "    accuracy = run_experiment(i)\n",
    "\n",
    "    # Append results to the DataFrame\n",
    "    new_row = {'experiment': i, 'accuracy': accuracy}\n",
    "    results_df = pd.concat([results_df, pd.DataFrame(new_row, index=[0])])\n",
    "\n",
    "# Print the final results DataFrame\n",
    "print(results_df)\n"
   ]
  }
 ],
 "metadata": {
  "kernelspec": {
   "display_name": "general",
   "language": "python",
   "name": "python3"
  },
  "language_info": {
   "codemirror_mode": {
    "name": "ipython",
    "version": 3
   },
   "file_extension": ".py",
   "mimetype": "text/x-python",
   "name": "python",
   "nbconvert_exporter": "python",
   "pygments_lexer": "ipython3",
   "version": "3.10.6"
  },
  "orig_nbformat": 4
 },
 "nbformat": 4,
 "nbformat_minor": 2
}
