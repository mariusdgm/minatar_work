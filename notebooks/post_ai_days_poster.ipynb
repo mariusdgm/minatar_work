{
 "cells": [
  {
   "cell_type": "code",
   "execution_count": 39,
   "metadata": {},
   "outputs": [
    {
     "name": "stdout",
     "output_type": "stream",
     "text": [
      "The autoreload extension is already loaded. To reload it, use:\n",
      "  %reload_ext autoreload\n"
     ]
    }
   ],
   "source": [
    "%load_ext autoreload\n",
    "%autoreload 2"
   ]
  },
  {
   "cell_type": "code",
   "execution_count": 40,
   "metadata": {},
   "outputs": [],
   "source": [
    "import os\n",
    "import sys\n",
    "\n",
    "proj_root = os.path.dirname(os.path.abspath(\".\"))\n",
    "# print(proj_root)\n",
    "sys.path.append(proj_root)\n",
    "\n",
    "import time\n",
    "import datetime\n",
    "import torch\n",
    "import random\n",
    "import numpy as np\n",
    "import os\n",
    "from pathlib import Path\n",
    "import argparse\n",
    "\n",
    "import torch.optim as optim\n",
    "import torch.nn.functional as F\n",
    "\n",
    "import gym\n",
    "import yaml\n",
    "\n",
    "from minatar_dqn.replay_buffer import ReplayBuffer\n",
    "from minatar_dqn.utils.my_logging import setup_logger\n",
    "from minatar_dqn.models import Conv_QNET, Conv_QNET_one\n",
    "\n",
    "from experiments.experiment_utils import (\n",
    "    seed_everything,\n",
    "    search_files_containing_string,\n",
    "    split_path_at_substring,\n",
    "    collect_training_output_files,\n",
    ")\n",
    "\n",
    "from minatar_dqn.my_dqn import Conv_QNET, build_environment\n",
    "from minatar_dqn.redo import apply_redo_parametrization\n",
    "from experiments.experiment_utils import (\n",
    "    collect_training_output_files,\n",
    "    collect_pruning_output_files,\n",
    ")\n",
    "\n",
    "from flatten_dict import flatten\n",
    "import pandas as pd\n",
    "import seaborn as sns\n",
    "import scipy\n",
    "\n",
    "sns.set()\n",
    "\n",
    "import plotly\n",
    "\n",
    "plotly.io.kaleido.scope.mathjax = None\n",
    "\n",
    "import plotly.graph_objects as go\n",
    "import plotly.express as px\n",
    "import plotly.io as pio\n",
    "\n",
    "import matplotlib.pyplot as plt\n",
    "\n",
    "import warnings\n",
    "\n",
    "warnings.filterwarnings(\"ignore\", category=FutureWarning)"
   ]
  },
  {
   "cell_type": "code",
   "execution_count": 41,
   "metadata": {},
   "outputs": [],
   "source": [
    "training_timestamp_folder = \"2023_10_26-22_11_20\"\n",
    "envs_to_keep = [\"breakout\"]"
   ]
  },
  {
   "cell_type": "code",
   "execution_count": 42,
   "metadata": {},
   "outputs": [
    {
     "name": "stdout",
     "output_type": "stream",
     "text": [
      "D:\\Work\\repos\\RL\\minatar_work\\experiments\\training\\outputs\\2023_10_26-22_11_20\n",
      "(120, 24)\n"
     ]
    }
   ],
   "source": [
    "training_outputs_folder_path = (\n",
    "    r\"D:\\Work\\repos\\RL\\minatar_work\\experiments\\training\\outputs\"\n",
    ")\n",
    "\n",
    "experiment_paths = collect_training_output_files(\n",
    "    os.path.join(training_outputs_folder_path, training_timestamp_folder)\n",
    ")\n",
    "\n",
    "\n",
    "def get_records_from_training_experiment(experiment_files, stats_type=\"validation\"):\n",
    "    checkpoint = torch.load(experiment_files[\"stats_path\"])\n",
    "\n",
    "    training_stats = checkpoint[\"training_stats\"]\n",
    "    validation_stats = checkpoint[\"validation_stats\"]\n",
    "\n",
    "    if stats_type == \"training\":\n",
    "        flat_records = process_records_from_stats_and_config(\n",
    "            training_stats, experiment_files[\"config_path\"], stats_type\n",
    "        )\n",
    "    elif stats_type == \"validation\":\n",
    "        flat_records = process_records_from_stats_and_config(\n",
    "            validation_stats, experiment_files[\"config_path\"], stats_type\n",
    "        )\n",
    "\n",
    "    return flat_records\n",
    "\n",
    "\n",
    "def process_records_from_stats_and_config(stats, config_path, stats_type):\n",
    "    flat_records = []\n",
    "    for epoch_stats in stats:\n",
    "        flat_stats = flatten(epoch_stats, reducer=\"underscore\")\n",
    "        flat_stats[\"epoch_type\"] = stats_type\n",
    "        flat_records.append(flat_stats)\n",
    "\n",
    "    with open(config_path, \"r\") as f:\n",
    "        config = yaml.safe_load(f)\n",
    "\n",
    "    # build experiment name cause I did not think to save some kind of\n",
    "    # exp name in config\n",
    "    config_file_name = os.path.basename(config_path)\n",
    "\n",
    "    # add info from the config file\n",
    "    for record in flat_records:\n",
    "        record[\"environment\"] = config[\"environment\"]\n",
    "        record[\"seed\"] = config[\"seed\"]\n",
    "        record[\"experiment_name\"] = config[\"experiment_name\"]\n",
    "\n",
    "    return flat_records\n",
    "\n",
    "\n",
    "def collect_training_experiment_results(\n",
    "    experiment_paths, stats=\"validation\", train_epoch_counter=200_000\n",
    "):\n",
    "    records = []\n",
    "    for experiment_files in experiment_paths:\n",
    "        if experiment_files:  # in case experiment did not finish\n",
    "            records.extend(\n",
    "                get_records_from_training_experiment(experiment_files, stats_type=stats)\n",
    "            )\n",
    "\n",
    "    df = pd.DataFrame.from_records(records)\n",
    "    df[\"epoch\"] = df[\"frame_stamp\"] // train_epoch_counter\n",
    "\n",
    "    return df\n",
    "\n",
    "\n",
    "df = collect_training_experiment_results(experiment_paths, stats=\"validation\")\n",
    "# df = collect_training_experiment_results(experiment_paths, stats=\"training\")\n",
    "\n",
    "print(df.shape)\n",
    "df.head()\n",
    "\n",
    "df[\"model_name\"] = df[\"experiment_name\"].map(lambda x: \"_\".join(x.split(\"_\")[0:2]))\n",
    "# df[\"model_name\"]"
   ]
  },
  {
   "cell_type": "code",
   "execution_count": 44,
   "metadata": {},
   "outputs": [
    {
     "data": {
      "text/plain": [
       "Index(['frame_stamp', 'episode_rewards_min', 'episode_rewards_max',\n",
       "       'episode_rewards_mean', 'episode_rewards_median', 'episode_rewards_std',\n",
       "       'episode_frames_min', 'episode_frames_max', 'episode_frames_mean',\n",
       "       'episode_frames_median', 'episode_frames_std', 'episode_max_qs_min',\n",
       "       'episode_max_qs_max', 'episode_max_qs_mean', 'episode_max_qs_median',\n",
       "       'episode_max_qs_std', 'epoch_time', 'reward_contor_0',\n",
       "       'reward_contor_1', 'epoch_type', 'environment', 'seed',\n",
       "       'experiment_name', 'epoch', 'model_name'],\n",
       "      dtype='object')"
      ]
     },
     "execution_count": 44,
     "metadata": {},
     "output_type": "execute_result"
    }
   ],
   "source": [
    "df.columns"
   ]
  },
  {
   "cell_type": "code",
   "execution_count": null,
   "metadata": {},
   "outputs": [],
   "source": []
  },
  {
   "cell_type": "code",
   "execution_count": 45,
   "metadata": {},
   "outputs": [],
   "source": [
    "def get_redo_type(x):\n",
    "    if \"redo\" in x:\n",
    "        return \"_\".join(x.split(\"_\")[-2:])\n",
    "    else:\n",
    "        return \"no_redo\"\n",
    "    \n",
    "df[\"redo_type\"] = df[\"experiment_name\"].map(get_redo_type)"
   ]
  },
  {
   "cell_type": "code",
   "execution_count": 46,
   "metadata": {},
   "outputs": [
    {
     "data": {
      "text/plain": [
       "array(['no_redo', 'redo_intersect', 'redo_normal', 'redo_union'],\n",
       "      dtype=object)"
      ]
     },
     "execution_count": 46,
     "metadata": {},
     "output_type": "execute_result"
    }
   ],
   "source": [
    "df[\"redo_type\"].unique()"
   ]
  },
  {
   "cell_type": "code",
   "execution_count": 47,
   "metadata": {},
   "outputs": [
    {
     "data": {
      "text/html": [
       "<div>\n",
       "<style scoped>\n",
       "    .dataframe tbody tr th:only-of-type {\n",
       "        vertical-align: middle;\n",
       "    }\n",
       "\n",
       "    .dataframe tbody tr th {\n",
       "        vertical-align: top;\n",
       "    }\n",
       "\n",
       "    .dataframe thead th {\n",
       "        text-align: right;\n",
       "    }\n",
       "</style>\n",
       "<table border=\"1\" class=\"dataframe\">\n",
       "  <thead>\n",
       "    <tr style=\"text-align: right;\">\n",
       "      <th></th>\n",
       "      <th>frame_stamp</th>\n",
       "      <th>episode_rewards_min</th>\n",
       "      <th>episode_rewards_max</th>\n",
       "      <th>episode_rewards_mean</th>\n",
       "      <th>episode_rewards_median</th>\n",
       "      <th>episode_rewards_std</th>\n",
       "      <th>episode_frames_min</th>\n",
       "      <th>episode_frames_max</th>\n",
       "      <th>episode_frames_mean</th>\n",
       "      <th>episode_frames_median</th>\n",
       "      <th>...</th>\n",
       "      <th>epoch_time</th>\n",
       "      <th>reward_contor_0</th>\n",
       "      <th>reward_contor_1</th>\n",
       "      <th>epoch_type</th>\n",
       "      <th>environment</th>\n",
       "      <th>seed</th>\n",
       "      <th>experiment_name</th>\n",
       "      <th>epoch</th>\n",
       "      <th>model_name</th>\n",
       "      <th>redo_type</th>\n",
       "    </tr>\n",
       "  </thead>\n",
       "  <tbody>\n",
       "    <tr>\n",
       "      <th>0</th>\n",
       "      <td>200000</td>\n",
       "      <td>0.0</td>\n",
       "      <td>7.0</td>\n",
       "      <td>2.580785</td>\n",
       "      <td>2.0</td>\n",
       "      <td>1.231701</td>\n",
       "      <td>6</td>\n",
       "      <td>82</td>\n",
       "      <td>33.831123</td>\n",
       "      <td>28.0</td>\n",
       "      <td>...</td>\n",
       "      <td>0 days 00:01:18.654882</td>\n",
       "      <td>115470</td>\n",
       "      <td>9536</td>\n",
       "      <td>validation</td>\n",
       "      <td>breakout</td>\n",
       "      <td>0</td>\n",
       "      <td>conv32_lin128</td>\n",
       "      <td>1</td>\n",
       "      <td>conv32_lin128</td>\n",
       "      <td>no_redo</td>\n",
       "    </tr>\n",
       "    <tr>\n",
       "      <th>1</th>\n",
       "      <td>400000</td>\n",
       "      <td>0.0</td>\n",
       "      <td>9.0</td>\n",
       "      <td>4.093127</td>\n",
       "      <td>5.0</td>\n",
       "      <td>1.954096</td>\n",
       "      <td>6</td>\n",
       "      <td>102</td>\n",
       "      <td>50.836926</td>\n",
       "      <td>58.0</td>\n",
       "      <td>...</td>\n",
       "      <td>0 days 00:01:21.595024</td>\n",
       "      <td>114943</td>\n",
       "      <td>10065</td>\n",
       "      <td>validation</td>\n",
       "      <td>breakout</td>\n",
       "      <td>0</td>\n",
       "      <td>conv32_lin128</td>\n",
       "      <td>2</td>\n",
       "      <td>conv32_lin128</td>\n",
       "      <td>no_redo</td>\n",
       "    </tr>\n",
       "    <tr>\n",
       "      <th>2</th>\n",
       "      <td>600000</td>\n",
       "      <td>0.0</td>\n",
       "      <td>9.0</td>\n",
       "      <td>4.851570</td>\n",
       "      <td>5.0</td>\n",
       "      <td>1.529863</td>\n",
       "      <td>6</td>\n",
       "      <td>102</td>\n",
       "      <td>59.492864</td>\n",
       "      <td>62.0</td>\n",
       "      <td>...</td>\n",
       "      <td>0 days 00:01:19.735711</td>\n",
       "      <td>114856</td>\n",
       "      <td>10198</td>\n",
       "      <td>validation</td>\n",
       "      <td>breakout</td>\n",
       "      <td>0</td>\n",
       "      <td>conv32_lin128</td>\n",
       "      <td>3</td>\n",
       "      <td>conv32_lin128</td>\n",
       "      <td>no_redo</td>\n",
       "    </tr>\n",
       "    <tr>\n",
       "      <th>3</th>\n",
       "      <td>800000</td>\n",
       "      <td>0.0</td>\n",
       "      <td>13.0</td>\n",
       "      <td>6.023823</td>\n",
       "      <td>7.0</td>\n",
       "      <td>2.458850</td>\n",
       "      <td>6</td>\n",
       "      <td>148</td>\n",
       "      <td>70.955190</td>\n",
       "      <td>82.0</td>\n",
       "      <td>...</td>\n",
       "      <td>0 days 00:01:24.297193</td>\n",
       "      <td>114474</td>\n",
       "      <td>10620</td>\n",
       "      <td>validation</td>\n",
       "      <td>breakout</td>\n",
       "      <td>0</td>\n",
       "      <td>conv32_lin128</td>\n",
       "      <td>4</td>\n",
       "      <td>conv32_lin128</td>\n",
       "      <td>no_redo</td>\n",
       "    </tr>\n",
       "    <tr>\n",
       "      <th>4</th>\n",
       "      <td>1000000</td>\n",
       "      <td>0.0</td>\n",
       "      <td>20.0</td>\n",
       "      <td>8.966140</td>\n",
       "      <td>8.0</td>\n",
       "      <td>5.788047</td>\n",
       "      <td>6</td>\n",
       "      <td>192</td>\n",
       "      <td>94.120391</td>\n",
       "      <td>96.0</td>\n",
       "      <td>...</td>\n",
       "      <td>0 days 00:01:23.564247</td>\n",
       "      <td>113170</td>\n",
       "      <td>11916</td>\n",
       "      <td>validation</td>\n",
       "      <td>breakout</td>\n",
       "      <td>0</td>\n",
       "      <td>conv32_lin128</td>\n",
       "      <td>5</td>\n",
       "      <td>conv32_lin128</td>\n",
       "      <td>no_redo</td>\n",
       "    </tr>\n",
       "    <tr>\n",
       "      <th>...</th>\n",
       "      <td>...</td>\n",
       "      <td>...</td>\n",
       "      <td>...</td>\n",
       "      <td>...</td>\n",
       "      <td>...</td>\n",
       "      <td>...</td>\n",
       "      <td>...</td>\n",
       "      <td>...</td>\n",
       "      <td>...</td>\n",
       "      <td>...</td>\n",
       "      <td>...</td>\n",
       "      <td>...</td>\n",
       "      <td>...</td>\n",
       "      <td>...</td>\n",
       "      <td>...</td>\n",
       "      <td>...</td>\n",
       "      <td>...</td>\n",
       "      <td>...</td>\n",
       "      <td>...</td>\n",
       "      <td>...</td>\n",
       "      <td>...</td>\n",
       "    </tr>\n",
       "    <tr>\n",
       "      <th>115</th>\n",
       "      <td>2200000</td>\n",
       "      <td>0.0</td>\n",
       "      <td>23.0</td>\n",
       "      <td>7.829215</td>\n",
       "      <td>8.0</td>\n",
       "      <td>2.757240</td>\n",
       "      <td>6</td>\n",
       "      <td>242</td>\n",
       "      <td>90.902616</td>\n",
       "      <td>95.0</td>\n",
       "      <td>...</td>\n",
       "      <td>0 days 00:01:00.869541</td>\n",
       "      <td>114309</td>\n",
       "      <td>10773</td>\n",
       "      <td>validation</td>\n",
       "      <td>breakout</td>\n",
       "      <td>0</td>\n",
       "      <td>conv64_lin256_redo_union</td>\n",
       "      <td>11</td>\n",
       "      <td>conv64_lin256</td>\n",
       "      <td>redo_union</td>\n",
       "    </tr>\n",
       "    <tr>\n",
       "      <th>116</th>\n",
       "      <td>2400000</td>\n",
       "      <td>0.0</td>\n",
       "      <td>19.0</td>\n",
       "      <td>8.956962</td>\n",
       "      <td>9.0</td>\n",
       "      <td>2.901593</td>\n",
       "      <td>6</td>\n",
       "      <td>180</td>\n",
       "      <td>105.513924</td>\n",
       "      <td>110.0</td>\n",
       "      <td>...</td>\n",
       "      <td>0 days 00:01:00.886277</td>\n",
       "      <td>114420</td>\n",
       "      <td>10614</td>\n",
       "      <td>validation</td>\n",
       "      <td>breakout</td>\n",
       "      <td>0</td>\n",
       "      <td>conv64_lin256_redo_union</td>\n",
       "      <td>12</td>\n",
       "      <td>conv64_lin256</td>\n",
       "      <td>redo_union</td>\n",
       "    </tr>\n",
       "    <tr>\n",
       "      <th>117</th>\n",
       "      <td>2600000</td>\n",
       "      <td>0.0</td>\n",
       "      <td>18.0</td>\n",
       "      <td>6.708597</td>\n",
       "      <td>7.0</td>\n",
       "      <td>2.129894</td>\n",
       "      <td>6</td>\n",
       "      <td>174</td>\n",
       "      <td>79.077118</td>\n",
       "      <td>82.0</td>\n",
       "      <td>...</td>\n",
       "      <td>0 days 00:01:01.247894</td>\n",
       "      <td>114487</td>\n",
       "      <td>10613</td>\n",
       "      <td>validation</td>\n",
       "      <td>breakout</td>\n",
       "      <td>0</td>\n",
       "      <td>conv64_lin256_redo_union</td>\n",
       "      <td>13</td>\n",
       "      <td>conv64_lin256</td>\n",
       "      <td>redo_union</td>\n",
       "    </tr>\n",
       "    <tr>\n",
       "      <th>118</th>\n",
       "      <td>2800000</td>\n",
       "      <td>0.0</td>\n",
       "      <td>20.0</td>\n",
       "      <td>8.984861</td>\n",
       "      <td>10.0</td>\n",
       "      <td>3.233254</td>\n",
       "      <td>6</td>\n",
       "      <td>198</td>\n",
       "      <td>105.140454</td>\n",
       "      <td>116.0</td>\n",
       "      <td>...</td>\n",
       "      <td>0 days 00:01:00.301242</td>\n",
       "      <td>114329</td>\n",
       "      <td>10683</td>\n",
       "      <td>validation</td>\n",
       "      <td>breakout</td>\n",
       "      <td>0</td>\n",
       "      <td>conv64_lin256_redo_union</td>\n",
       "      <td>14</td>\n",
       "      <td>conv64_lin256</td>\n",
       "      <td>redo_union</td>\n",
       "    </tr>\n",
       "    <tr>\n",
       "      <th>119</th>\n",
       "      <td>3000000</td>\n",
       "      <td>0.0</td>\n",
       "      <td>22.0</td>\n",
       "      <td>8.360374</td>\n",
       "      <td>9.0</td>\n",
       "      <td>3.859618</td>\n",
       "      <td>6</td>\n",
       "      <td>226</td>\n",
       "      <td>97.594384</td>\n",
       "      <td>104.0</td>\n",
       "      <td>...</td>\n",
       "      <td>0 days 00:00:57.369335</td>\n",
       "      <td>114398</td>\n",
       "      <td>10718</td>\n",
       "      <td>validation</td>\n",
       "      <td>breakout</td>\n",
       "      <td>0</td>\n",
       "      <td>conv64_lin256_redo_union</td>\n",
       "      <td>15</td>\n",
       "      <td>conv64_lin256</td>\n",
       "      <td>redo_union</td>\n",
       "    </tr>\n",
       "  </tbody>\n",
       "</table>\n",
       "<p>120 rows × 26 columns</p>\n",
       "</div>"
      ],
      "text/plain": [
       "     frame_stamp  episode_rewards_min  episode_rewards_max  \\\n",
       "0         200000                  0.0                  7.0   \n",
       "1         400000                  0.0                  9.0   \n",
       "2         600000                  0.0                  9.0   \n",
       "3         800000                  0.0                 13.0   \n",
       "4        1000000                  0.0                 20.0   \n",
       "..           ...                  ...                  ...   \n",
       "115      2200000                  0.0                 23.0   \n",
       "116      2400000                  0.0                 19.0   \n",
       "117      2600000                  0.0                 18.0   \n",
       "118      2800000                  0.0                 20.0   \n",
       "119      3000000                  0.0                 22.0   \n",
       "\n",
       "     episode_rewards_mean  episode_rewards_median  episode_rewards_std  \\\n",
       "0                2.580785                     2.0             1.231701   \n",
       "1                4.093127                     5.0             1.954096   \n",
       "2                4.851570                     5.0             1.529863   \n",
       "3                6.023823                     7.0             2.458850   \n",
       "4                8.966140                     8.0             5.788047   \n",
       "..                    ...                     ...                  ...   \n",
       "115              7.829215                     8.0             2.757240   \n",
       "116              8.956962                     9.0             2.901593   \n",
       "117              6.708597                     7.0             2.129894   \n",
       "118              8.984861                    10.0             3.233254   \n",
       "119              8.360374                     9.0             3.859618   \n",
       "\n",
       "     episode_frames_min  episode_frames_max  episode_frames_mean  \\\n",
       "0                     6                  82            33.831123   \n",
       "1                     6                 102            50.836926   \n",
       "2                     6                 102            59.492864   \n",
       "3                     6                 148            70.955190   \n",
       "4                     6                 192            94.120391   \n",
       "..                  ...                 ...                  ...   \n",
       "115                   6                 242            90.902616   \n",
       "116                   6                 180           105.513924   \n",
       "117                   6                 174            79.077118   \n",
       "118                   6                 198           105.140454   \n",
       "119                   6                 226            97.594384   \n",
       "\n",
       "     episode_frames_median  ...             epoch_time  reward_contor_0  \\\n",
       "0                     28.0  ... 0 days 00:01:18.654882           115470   \n",
       "1                     58.0  ... 0 days 00:01:21.595024           114943   \n",
       "2                     62.0  ... 0 days 00:01:19.735711           114856   \n",
       "3                     82.0  ... 0 days 00:01:24.297193           114474   \n",
       "4                     96.0  ... 0 days 00:01:23.564247           113170   \n",
       "..                     ...  ...                    ...              ...   \n",
       "115                   95.0  ... 0 days 00:01:00.869541           114309   \n",
       "116                  110.0  ... 0 days 00:01:00.886277           114420   \n",
       "117                   82.0  ... 0 days 00:01:01.247894           114487   \n",
       "118                  116.0  ... 0 days 00:01:00.301242           114329   \n",
       "119                  104.0  ... 0 days 00:00:57.369335           114398   \n",
       "\n",
       "     reward_contor_1  epoch_type  environment  seed           experiment_name  \\\n",
       "0               9536  validation     breakout     0             conv32_lin128   \n",
       "1              10065  validation     breakout     0             conv32_lin128   \n",
       "2              10198  validation     breakout     0             conv32_lin128   \n",
       "3              10620  validation     breakout     0             conv32_lin128   \n",
       "4              11916  validation     breakout     0             conv32_lin128   \n",
       "..               ...         ...          ...   ...                       ...   \n",
       "115            10773  validation     breakout     0  conv64_lin256_redo_union   \n",
       "116            10614  validation     breakout     0  conv64_lin256_redo_union   \n",
       "117            10613  validation     breakout     0  conv64_lin256_redo_union   \n",
       "118            10683  validation     breakout     0  conv64_lin256_redo_union   \n",
       "119            10718  validation     breakout     0  conv64_lin256_redo_union   \n",
       "\n",
       "     epoch     model_name   redo_type  \n",
       "0        1  conv32_lin128     no_redo  \n",
       "1        2  conv32_lin128     no_redo  \n",
       "2        3  conv32_lin128     no_redo  \n",
       "3        4  conv32_lin128     no_redo  \n",
       "4        5  conv32_lin128     no_redo  \n",
       "..     ...            ...         ...  \n",
       "115     11  conv64_lin256  redo_union  \n",
       "116     12  conv64_lin256  redo_union  \n",
       "117     13  conv64_lin256  redo_union  \n",
       "118     14  conv64_lin256  redo_union  \n",
       "119     15  conv64_lin256  redo_union  \n",
       "\n",
       "[120 rows x 26 columns]"
      ]
     },
     "execution_count": 47,
     "metadata": {},
     "output_type": "execute_result"
    }
   ],
   "source": [
    "df"
   ]
  },
  {
   "cell_type": "code",
   "execution_count": 48,
   "metadata": {},
   "outputs": [
    {
     "data": {
      "image/png": "[encoded data removed]",
      "text/plain": [
       "<Figure size 1440x800 with 8 Axes>"
      ]
     },
     "metadata": {},
     "output_type": "display_data"
    }
   ],
   "source": [
    "# All displayed on top of facet\n",
    "\n",
    "model_order = [\"conv32_lin128\", \"conv64_lin256\"]\n",
    "\n",
    "sub_df = df[df[\"environment\"].isin(envs_to_keep)]\n",
    "g = sns.FacetGrid(sub_df, row='model_name', col='redo_type', height=4, aspect=0.9, sharey=\"row\", row_order=model_order)\n",
    "\n",
    "g.map(sns.lineplot, 'epoch', 'episode_rewards_mean')\n",
    "\n",
    "font_dict = {'fontsize': 'small'}  # Adjust this as needed.\n",
    "g.set_titles(col_template=\"Redo: {col_name}\", row_template=\"Model: {row_name}\", fontdict=font_dict)\n",
    "g.set_xlabels('Epoch')\n",
    "g.set_ylabels('Reward')\n",
    "\n",
    "# Display the legend\n",
    "handles, labels = plt.gca().get_legend_handles_labels()\n",
    "g.fig.legend(handles, labels, loc='upper right')\n",
    "\n",
    "plt.show()"
   ]
  },
  {
   "cell_type": "code",
   "execution_count": 50,
   "metadata": {},
   "outputs": [],
   "source": [
    "pruning_outputs_folder_path = (\n",
    "    r\"D:\\Work\\repos\\RL\\minatar_work\\experiments\\pruning\\outputs\"\n",
    ")\n",
    "pruning_timestamp_folder = training_timestamp_folder\n",
    "\n",
    "experiment_paths = collect_pruning_output_files(\n",
    "    os.path.join(pruning_outputs_folder_path, pruning_timestamp_folder)\n",
    ")"
   ]
  },
  {
   "cell_type": "code",
   "execution_count": 57,
   "metadata": {},
   "outputs": [
    {
     "data": {
      "text/html": [
       "<div>\n",
       "<style scoped>\n",
       "    .dataframe tbody tr th:only-of-type {\n",
       "        vertical-align: middle;\n",
       "    }\n",
       "\n",
       "    .dataframe tbody tr th {\n",
       "        vertical-align: top;\n",
       "    }\n",
       "\n",
       "    .dataframe thead th {\n",
       "        text-align: right;\n",
       "    }\n",
       "</style>\n",
       "<table border=\"1\" class=\"dataframe\">\n",
       "  <thead>\n",
       "    <tr style=\"text-align: right;\">\n",
       "      <th></th>\n",
       "      <th>frame_stamp</th>\n",
       "      <th>episode_rewards_min</th>\n",
       "      <th>episode_rewards_max</th>\n",
       "      <th>episode_rewards_mean</th>\n",
       "      <th>episode_rewards_median</th>\n",
       "      <th>episode_rewards_std</th>\n",
       "      <th>episode_frames_min</th>\n",
       "      <th>episode_frames_max</th>\n",
       "      <th>episode_frames_mean</th>\n",
       "      <th>episode_frames_median</th>\n",
       "      <th>...</th>\n",
       "      <th>reward_contor_0</th>\n",
       "      <th>reward_contor_1</th>\n",
       "      <th>pruning_value</th>\n",
       "      <th>pruning_method</th>\n",
       "      <th>experiment_info</th>\n",
       "      <th>environment</th>\n",
       "      <th>seed</th>\n",
       "      <th>model_name</th>\n",
       "      <th>experiment_name</th>\n",
       "      <th>redo_type</th>\n",
       "    </tr>\n",
       "  </thead>\n",
       "  <tbody>\n",
       "    <tr>\n",
       "      <th>0</th>\n",
       "      <td>0</td>\n",
       "      <td>0.0</td>\n",
       "      <td>23.0</td>\n",
       "      <td>11.443487</td>\n",
       "      <td>11.0</td>\n",
       "      <td>5.578735</td>\n",
       "      <td>6</td>\n",
       "      <td>224</td>\n",
       "      <td>119.846743</td>\n",
       "      <td>130.0</td>\n",
       "      <td>...</td>\n",
       "      <td>113173</td>\n",
       "      <td>11947</td>\n",
       "      <td>0.05</td>\n",
       "      <td>prune_middle</td>\n",
       "      <td>\\n    Prune the second convolutional layer and...</td>\n",
       "      <td>breakout</td>\n",
       "      <td>0</td>\n",
       "      <td>conv32_lin128</td>\n",
       "      <td>conv32_lin128</td>\n",
       "      <td>no_redo</td>\n",
       "    </tr>\n",
       "    <tr>\n",
       "      <th>1</th>\n",
       "      <td>0</td>\n",
       "      <td>0.0</td>\n",
       "      <td>22.0</td>\n",
       "      <td>11.650532</td>\n",
       "      <td>11.0</td>\n",
       "      <td>5.680152</td>\n",
       "      <td>6</td>\n",
       "      <td>186</td>\n",
       "      <td>121.059051</td>\n",
       "      <td>130.0</td>\n",
       "      <td>...</td>\n",
       "      <td>113019</td>\n",
       "      <td>12035</td>\n",
       "      <td>0.10</td>\n",
       "      <td>prune_middle</td>\n",
       "      <td>\\n    Prune the second convolutional layer and...</td>\n",
       "      <td>breakout</td>\n",
       "      <td>0</td>\n",
       "      <td>conv32_lin128</td>\n",
       "      <td>conv32_lin128</td>\n",
       "      <td>no_redo</td>\n",
       "    </tr>\n",
       "    <tr>\n",
       "      <th>2</th>\n",
       "      <td>0</td>\n",
       "      <td>0.0</td>\n",
       "      <td>23.0</td>\n",
       "      <td>11.449761</td>\n",
       "      <td>11.0</td>\n",
       "      <td>5.640643</td>\n",
       "      <td>6</td>\n",
       "      <td>212</td>\n",
       "      <td>119.651675</td>\n",
       "      <td>130.0</td>\n",
       "      <td>...</td>\n",
       "      <td>113071</td>\n",
       "      <td>11965</td>\n",
       "      <td>0.15</td>\n",
       "      <td>prune_middle</td>\n",
       "      <td>\\n    Prune the second convolutional layer and...</td>\n",
       "      <td>breakout</td>\n",
       "      <td>0</td>\n",
       "      <td>conv32_lin128</td>\n",
       "      <td>conv32_lin128</td>\n",
       "      <td>no_redo</td>\n",
       "    </tr>\n",
       "    <tr>\n",
       "      <th>3</th>\n",
       "      <td>0</td>\n",
       "      <td>0.0</td>\n",
       "      <td>24.0</td>\n",
       "      <td>11.325382</td>\n",
       "      <td>11.0</td>\n",
       "      <td>5.444379</td>\n",
       "      <td>6</td>\n",
       "      <td>232</td>\n",
       "      <td>119.356870</td>\n",
       "      <td>130.0</td>\n",
       "      <td>...</td>\n",
       "      <td>113217</td>\n",
       "      <td>11869</td>\n",
       "      <td>0.20</td>\n",
       "      <td>prune_middle</td>\n",
       "      <td>\\n    Prune the second convolutional layer and...</td>\n",
       "      <td>breakout</td>\n",
       "      <td>0</td>\n",
       "      <td>conv32_lin128</td>\n",
       "      <td>conv32_lin128</td>\n",
       "      <td>no_redo</td>\n",
       "    </tr>\n",
       "    <tr>\n",
       "      <th>4</th>\n",
       "      <td>0</td>\n",
       "      <td>0.0</td>\n",
       "      <td>22.0</td>\n",
       "      <td>11.530259</td>\n",
       "      <td>11.0</td>\n",
       "      <td>5.710877</td>\n",
       "      <td>6</td>\n",
       "      <td>186</td>\n",
       "      <td>120.122959</td>\n",
       "      <td>130.0</td>\n",
       "      <td>...</td>\n",
       "      <td>113045</td>\n",
       "      <td>12003</td>\n",
       "      <td>0.30</td>\n",
       "      <td>prune_middle</td>\n",
       "      <td>\\n    Prune the second convolutional layer and...</td>\n",
       "      <td>breakout</td>\n",
       "      <td>0</td>\n",
       "      <td>conv32_lin128</td>\n",
       "      <td>conv32_lin128</td>\n",
       "      <td>no_redo</td>\n",
       "    </tr>\n",
       "  </tbody>\n",
       "</table>\n",
       "<p>5 rows × 27 columns</p>\n",
       "</div>"
      ],
      "text/plain": [
       "   frame_stamp  episode_rewards_min  episode_rewards_max  \\\n",
       "0            0                  0.0                 23.0   \n",
       "1            0                  0.0                 22.0   \n",
       "2            0                  0.0                 23.0   \n",
       "3            0                  0.0                 24.0   \n",
       "4            0                  0.0                 22.0   \n",
       "\n",
       "   episode_rewards_mean  episode_rewards_median  episode_rewards_std  \\\n",
       "0             11.443487                    11.0             5.578735   \n",
       "1             11.650532                    11.0             5.680152   \n",
       "2             11.449761                    11.0             5.640643   \n",
       "3             11.325382                    11.0             5.444379   \n",
       "4             11.530259                    11.0             5.710877   \n",
       "\n",
       "   episode_frames_min  episode_frames_max  episode_frames_mean  \\\n",
       "0                   6                 224           119.846743   \n",
       "1                   6                 186           121.059051   \n",
       "2                   6                 212           119.651675   \n",
       "3                   6                 232           119.356870   \n",
       "4                   6                 186           120.122959   \n",
       "\n",
       "   episode_frames_median  ...  reward_contor_0  reward_contor_1  \\\n",
       "0                  130.0  ...           113173            11947   \n",
       "1                  130.0  ...           113019            12035   \n",
       "2                  130.0  ...           113071            11965   \n",
       "3                  130.0  ...           113217            11869   \n",
       "4                  130.0  ...           113045            12003   \n",
       "\n",
       "   pruning_value  pruning_method  \\\n",
       "0           0.05    prune_middle   \n",
       "1           0.10    prune_middle   \n",
       "2           0.15    prune_middle   \n",
       "3           0.20    prune_middle   \n",
       "4           0.30    prune_middle   \n",
       "\n",
       "                                     experiment_info  environment seed  \\\n",
       "0  \\n    Prune the second convolutional layer and...     breakout    0   \n",
       "1  \\n    Prune the second convolutional layer and...     breakout    0   \n",
       "2  \\n    Prune the second convolutional layer and...     breakout    0   \n",
       "3  \\n    Prune the second convolutional layer and...     breakout    0   \n",
       "4  \\n    Prune the second convolutional layer and...     breakout    0   \n",
       "\n",
       "      model_name  experiment_name  redo_type  \n",
       "0  conv32_lin128    conv32_lin128    no_redo  \n",
       "1  conv32_lin128    conv32_lin128    no_redo  \n",
       "2  conv32_lin128    conv32_lin128    no_redo  \n",
       "3  conv32_lin128    conv32_lin128    no_redo  \n",
       "4  conv32_lin128    conv32_lin128    no_redo  \n",
       "\n",
       "[5 rows x 27 columns]"
      ]
     },
     "execution_count": 57,
     "metadata": {},
     "output_type": "execute_result"
    }
   ],
   "source": [
    "def process_pruning_stats_file(file):\n",
    "    checkpoint = torch.load(file)\n",
    "\n",
    "    exp_stats = checkpoint[\"pruning_validation_results\"]\n",
    "    exp_info = checkpoint[\"experiment_info\"]\n",
    "\n",
    "    records = []\n",
    "    for pruning_value in exp_stats:\n",
    "        stats = exp_stats[pruning_value]\n",
    "        stats[\"pruning_value\"] = pruning_value\n",
    "        stats[\"pruning_method\"] = os.path.basename(file).split(\"_\")[-1]\n",
    "        stats[\"experiment_info\"] = exp_info\n",
    "        records.append(stats)\n",
    "\n",
    "    return records\n",
    "\n",
    "\n",
    "def add_baseline_stats(baseline_file, file):\n",
    "    \"\"\"Add a new record with the baseline stats and an associated\n",
    "    pruning_method just to make data aggregation easier.\"\"\"\n",
    "    checkpoint = torch.load(baseline_file)\n",
    "    baseline_stats = checkpoint[\"pruning_validation_results\"]\n",
    "    baseline_info = checkpoint[\"experiment_info\"]\n",
    "\n",
    "    records = []\n",
    "    for pruning_value in baseline_stats:\n",
    "        stats = baseline_stats[pruning_value]\n",
    "        stats[\"pruning_value\"] = pruning_value\n",
    "        stats[\"pruning_method\"] = os.path.basename(file).split(\"_\")[-1]\n",
    "        stats[\"experiment_info\"] = baseline_info\n",
    "\n",
    "        records.append(stats)\n",
    "\n",
    "    return records\n",
    "\n",
    "\n",
    "def get_records_from_pruning_experiment(experiment_files):\n",
    "    config_path = experiment_files[\"config_path\"]\n",
    "\n",
    "    stats = []\n",
    "    for file in experiment_files[\"pruning_stats_paths\"]:\n",
    "        stats.extend(process_pruning_stats_file(file))\n",
    "        stats.extend(add_baseline_stats(experiment_files[\"baseline_stats_path\"], file))\n",
    "\n",
    "    flat_records = []\n",
    "    for epoch_stats in stats:\n",
    "        flat_stats = flatten(epoch_stats, reducer=\"underscore\")\n",
    "        flat_records.append(flat_stats)\n",
    "\n",
    "    with open(config_path, \"r\") as f:\n",
    "        config = yaml.safe_load(f)\n",
    "\n",
    "    # build experiment name cause I did not think to save some kind of\n",
    "    # exp name in config\n",
    "    config_file_name = os.path.basename(config_path)\n",
    "    exp_name_tokens = config_file_name.split(\"_\")[:2]\n",
    "    exp_name = \"_\".join(exp_name_tokens)\n",
    "\n",
    "    # add info from the config file\n",
    "    for record in flat_records:\n",
    "        record[\"environment\"] = config[\"environment\"]\n",
    "        record[\"seed\"] = config[\"seed\"]\n",
    "        record[\"model_name\"] = exp_name\n",
    "        record[\"experiment_name\"] = config[\"experiment_name\"]\n",
    "\n",
    "    return flat_records\n",
    "\n",
    "\n",
    "def collect_pruning_experiment_results(experiment_paths):\n",
    "    records = []\n",
    "    for experiment_files in experiment_paths:\n",
    "        records.extend(get_records_from_pruning_experiment(experiment_files))\n",
    "\n",
    "    df = pd.DataFrame.from_records(records)\n",
    "    # df[\"epoch\"] = df[\"frame_stamp\"] // train_epoch_counter\n",
    "\n",
    "    return df\n",
    "\n",
    "\n",
    "df = collect_pruning_experiment_results(experiment_paths)\n",
    "\n",
    "pruning_method_nr_to_name = {\n",
    "    \"1\": \"prune_middle\",\n",
    "    \"2\": \"prune_features\",\n",
    "    \"3\": \"prune_all\",\n",
    "    \"4\": \"s_prune_conv\",\n",
    "}\n",
    "\n",
    "# Map the 'fruit' column to 'color'\n",
    "df[\"pruning_method\"] = df[\"pruning_method\"].map(pruning_method_nr_to_name)\n",
    "\n",
    "df[\"redo_type\"] = df[\"experiment_name\"].map(get_redo_type)\n",
    "\n",
    "df.head()"
   ]
  },
  {
   "cell_type": "code",
   "execution_count": 67,
   "metadata": {},
   "outputs": [],
   "source": [
    "def normalize_df_using_baseline_single_env(df):\n",
    "    cols_to_not_normalize = [\n",
    "        \"frame_stamp\",\n",
    "        \"epoch_time\",\n",
    "        \"pruning_value\",\n",
    "        \"pruning_method\",\n",
    "        \"experiment_info\",\n",
    "        \"environment\",\n",
    "        \"seed\",\n",
    "        \"model_name\",\n",
    "    ]\n",
    "\n",
    "    # Find the baseline values\n",
    "    baseline = df[(df[\"pruning_value\"] == 0)]\n",
    "\n",
    "    groups = df.groupby([\"model_name\", \"seed\"])\n",
    "\n",
    "    for (model_name, seed), group in groups:\n",
    "        for metric in group.columns.difference(cols_to_not_normalize):\n",
    "            # Get the baseline value for this metric and model/seed/pruning_method combination\n",
    "            baseline_value = baseline[\n",
    "                (baseline[\"model_name\"] == model_name) & (baseline[\"seed\"] == seed)\n",
    "            ][metric].iloc[0]\n",
    "\n",
    "            # Normalize the values for this metric by the baseline value\n",
    "            group[metric] /= baseline_value\n",
    "\n",
    "            # Store the normalized values back in the original DataFrame\n",
    "            df.loc[group.index, metric] = group[metric]\n",
    "\n",
    "    return df\n",
    "\n",
    "\n",
    "def normalize_df_using_baseline_all_envs(df):\n",
    "    cols_to_not_normalize = [\n",
    "        \"frame_stamp\",\n",
    "        \"epoch_time\",\n",
    "        \"pruning_value\",\n",
    "        \"pruning_method\",\n",
    "        \"experiment_info\",\n",
    "        \"environment\",\n",
    "        \"seed\",\n",
    "        \"model_name\",\n",
    "    ]\n",
    "\n",
    "    # Find the baseline values\n",
    "    baseline = df[(df[\"pruning_value\"] == 0)]\n",
    "\n",
    "    groups = df.groupby([\"environment\", \"model_name\", \"seed\"])\n",
    "\n",
    "    for (environment, model_name, seed), group in groups:\n",
    "        for metric in group.columns.difference(cols_to_not_normalize):\n",
    "            # Get the baseline value for this metric and model/seed/pruning_method combination\n",
    "            baseline_value = baseline[\n",
    "                (baseline[\"environment\"] == environment)\n",
    "                & (baseline[\"model_name\"] == model_name)\n",
    "                & (baseline[\"seed\"] == seed)\n",
    "            ][metric].iloc[0]\n",
    "\n",
    "            # Normalize the values for this metric by the baseline value\n",
    "            print(metric, baseline_value)\n",
    "            group[metric] /= baseline_value\n",
    "\n",
    "            # Store the normalized values back in the original DataFrame\n",
    "            df.loc[group.index, metric] = group[metric]\n",
    "\n",
    "    return df\n",
    "\n",
    "\n",
    "def plot_facetgrid_experiment(\n",
    "    df, y_label=\"Mean score\", title=\"Mean score at different levels of pruning\"\n",
    "):\n",
    "    experiment_order = [\"conv8_lin32\", \"conv16_lin64\", \"conv32_lin128\", \"conv64_lin256\"]\n",
    "\n",
    "    # Compute the average metric between the seeds for each experiment\n",
    "    # avg_df = df.groupby(['environment', 'experiment_name', 'epoch']).mean().reset_index()\n",
    "\n",
    "    g = sns.FacetGrid(\n",
    "        df,\n",
    "        row=\"pruning_method\",\n",
    "        col=\"model_name\",\n",
    "        col_order=experiment_order,\n",
    "        height=3,\n",
    "        aspect=1,\n",
    "        sharey=\"row\",\n",
    "    )\n",
    "    g.map(sns.lineplot, \"pruning_value\", \"episode_rewards_mean\")\n",
    "\n",
    "    # Set the plot title and axis labels\n",
    "    g.fig.suptitle(title)\n",
    "    g.set_titles(row_template=\"{row_name}\", col_template=\"{col_name}\", fontsize=1)\n",
    "\n",
    "    g.figure.subplots_adjust(top=0.9, wspace=0.1)\n",
    "    g.set_axis_labels(\"Pruning factor\", y_label)\n",
    "\n",
    "\n",
    "def plot_facetgrid_experiment_common_titles(\n",
    "    df, y_label=\"Mean score\", title=\"Mean score at different levels of pruning\"\n",
    "):\n",
    "    experiment_order = [\"conv8_lin32\", \"conv16_lin64\", \"conv32_lin128\", \"conv64_lin256\"]\n",
    "\n",
    "    # Compute the average metric between the seeds for each experiment\n",
    "    # avg_df = df.groupby(['environment', 'experiment_name', 'epoch']).mean().reset_index()\n",
    "\n",
    "    g = sns.FacetGrid(\n",
    "        df,\n",
    "        row=\"pruning_method\",\n",
    "        col=\"model_name\",\n",
    "        col_order=experiment_order,\n",
    "        height=3,\n",
    "        aspect=1,\n",
    "        sharey=\"row\",\n",
    "    )\n",
    "    g.map(sns.lineplot, \"pruning_value\", \"episode_rewards_mean\")\n",
    "\n",
    "    # Set the plot title and axis labels\n",
    "    g.fig.suptitle(title)\n",
    "    g.set_titles(\"\")  # Clear default titles\n",
    "\n",
    "    # Set labels for x and y axes\n",
    "    g.set_axis_labels(\"Pruning factor\", y_label)\n",
    "\n",
    "    # Shared row titles on the right of last column\n",
    "    # for i, ax in enumerate(g.axes[:, -1]):  # Targeting the last column of axes\n",
    "    # ax.yaxis.set_label_position(\"right\")\n",
    "    # ax.set_ylabel(g.row_names[i], fontsize=14, rotation=-90, va=\"center\")  # Adjust the size as per your requirement\n",
    "\n",
    "    # Label the rows with their respective environment, rotated and moved to the right of the last column\n",
    "    for i, ax in enumerate(g.axes[:, -1]):  # Targeting the last column of axes\n",
    "        ax.text(\n",
    "            1.05,\n",
    "            0.5,\n",
    "            g.row_names[i],\n",
    "            rotation=-90,\n",
    "            va=\"center\",\n",
    "            ha=\"center\",\n",
    "            transform=ax.transAxes,\n",
    "            fontsize=18,\n",
    "        )\n",
    "\n",
    "    # Shared column titles on top\n",
    "    for i, ax in enumerate(g.axes[0]):  # Targeting the top row of axes\n",
    "        ax.set_title(\n",
    "            experiment_order[i], fontsize=18\n",
    "        )  # Adjust the size as per your requirement\n",
    "\n",
    "    # Adjust layout for better appearance\n",
    "    g.figure.subplots_adjust(top=0.9, wspace=0.1, hspace=0.3)\n",
    "\n",
    "    plt.tight_layout()\n",
    "    plt.show()"
   ]
  },
  {
   "cell_type": "code",
   "execution_count": 68,
   "metadata": {},
   "outputs": [
    {
     "name": "stdout",
     "output_type": "stream",
     "text": [
      "episode_frames_max 192\n",
      "episode_frames_mean 123.95044598612488\n",
      "episode_frames_median 130.0\n",
      "episode_frames_min 6\n",
      "episode_frames_std 41.9416925284371\n",
      "episode_max_qs_max -13.031120300292969\n",
      "episode_max_qs_mean -44.40231044302737\n",
      "episode_max_qs_median -38.62165069580078\n",
      "episode_max_qs_min -122.41806030273438\n",
      "episode_max_qs_std 22.10723034201731\n",
      "episode_rewards_max 22.0\n",
      "episode_rewards_mean 12.025768087215065\n",
      "episode_rewards_median 11.0\n",
      "episode_rewards_min 0.0\n",
      "episode_rewards_std 5.773159077843742\n",
      "experiment_name conv32_lin128\n"
     ]
    },
    {
     "ename": "TypeError",
     "evalue": "unsupported operand type(s) for /: 'str' and 'str'",
     "output_type": "error",
     "traceback": [
      "\u001b[1;31m---------------------------------------------------------------------------\u001b[0m",
      "\u001b[1;31mTypeError\u001b[0m                                 Traceback (most recent call last)",
      "File \u001b[1;32mc:\\Users\\Chainsword\\anaconda3\\envs\\general\\lib\\site-packages\\pandas\\core\\ops\\array_ops.py:165\u001b[0m, in \u001b[0;36m_na_arithmetic_op\u001b[1;34m(left, right, op, is_cmp)\u001b[0m\n\u001b[0;32m    164\u001b[0m \u001b[39mtry\u001b[39;00m:\n\u001b[1;32m--> 165\u001b[0m     result \u001b[39m=\u001b[39m func(left, right)\n\u001b[0;32m    166\u001b[0m \u001b[39mexcept\u001b[39;00m \u001b[39mTypeError\u001b[39;00m:\n",
      "\u001b[1;31mTypeError\u001b[0m: unsupported operand type(s) for /: 'str' and 'str'",
      "\nDuring handling of the above exception, another exception occurred:\n",
      "\u001b[1;31mTypeError\u001b[0m                                 Traceback (most recent call last)",
      "\u001b[1;32md:\\Work\\repos\\RL\\minatar_work\\notebooks\\post_ai_days_poster.ipynb Cell 14\u001b[0m line \u001b[0;36m6\n\u001b[0;32m      <a href='vscode-notebook-cell:/d%3A/Work/repos/RL/minatar_work/notebooks/post_ai_days_poster.ipynb#X20sZmlsZQ%3D%3D?line=3'>4</a>\u001b[0m sub_df \u001b[39m=\u001b[39m sub_df[sub_df[\u001b[39m\"\u001b[39m\u001b[39mmodel_name\u001b[39m\u001b[39m\"\u001b[39m]\u001b[39m.\u001b[39misin([\u001b[39m\"\u001b[39m\u001b[39mconv32_lin128\u001b[39m\u001b[39m\"\u001b[39m, \u001b[39m\"\u001b[39m\u001b[39mconv64_lin256\u001b[39m\u001b[39m\"\u001b[39m])]\n\u001b[0;32m      <a href='vscode-notebook-cell:/d%3A/Work/repos/RL/minatar_work/notebooks/post_ai_days_poster.ipynb#X20sZmlsZQ%3D%3D?line=4'>5</a>\u001b[0m sub_df \u001b[39m=\u001b[39m sub_df[sub_df[\u001b[39m\"\u001b[39m\u001b[39menvironment\u001b[39m\u001b[39m\"\u001b[39m]\u001b[39m.\u001b[39misin(envs_to_keep)]\n\u001b[1;32m----> <a href='vscode-notebook-cell:/d%3A/Work/repos/RL/minatar_work/notebooks/post_ai_days_poster.ipynb#X20sZmlsZQ%3D%3D?line=5'>6</a>\u001b[0m sub_df \u001b[39m=\u001b[39m normalize_df_using_baseline_all_envs(sub_df)\n\u001b[0;32m      <a href='vscode-notebook-cell:/d%3A/Work/repos/RL/minatar_work/notebooks/post_ai_days_poster.ipynb#X20sZmlsZQ%3D%3D?line=7'>8</a>\u001b[0m plot_facetgrid_experiment_common_titles(\n\u001b[0;32m      <a href='vscode-notebook-cell:/d%3A/Work/repos/RL/minatar_work/notebooks/post_ai_days_poster.ipynb#X20sZmlsZQ%3D%3D?line=8'>9</a>\u001b[0m     sub_df,\n\u001b[0;32m     <a href='vscode-notebook-cell:/d%3A/Work/repos/RL/minatar_work/notebooks/post_ai_days_poster.ipynb#X20sZmlsZQ%3D%3D?line=9'>10</a>\u001b[0m     y_label\u001b[39m=\u001b[39m\u001b[39m\"\u001b[39m\u001b[39mNormalized score\u001b[39m\u001b[39m\"\u001b[39m,\n\u001b[0;32m     <a href='vscode-notebook-cell:/d%3A/Work/repos/RL/minatar_work/notebooks/post_ai_days_poster.ipynb#X20sZmlsZQ%3D%3D?line=10'>11</a>\u001b[0m     title\u001b[39m=\u001b[39m\u001b[39mf\u001b[39m\u001b[39m\"\u001b[39m\u001b[39mNormalized mean score at different levels of pruning (All envs aggregated)\u001b[39m\u001b[39m\"\u001b[39m,\n\u001b[0;32m     <a href='vscode-notebook-cell:/d%3A/Work/repos/RL/minatar_work/notebooks/post_ai_days_poster.ipynb#X20sZmlsZQ%3D%3D?line=11'>12</a>\u001b[0m )\n\u001b[0;32m     <a href='vscode-notebook-cell:/d%3A/Work/repos/RL/minatar_work/notebooks/post_ai_days_poster.ipynb#X20sZmlsZQ%3D%3D?line=13'>14</a>\u001b[0m \u001b[39m# Show the plot\u001b[39;00m\n",
      "\u001b[1;32md:\\Work\\repos\\RL\\minatar_work\\notebooks\\post_ai_days_poster.ipynb Cell 14\u001b[0m line \u001b[0;36m6\n\u001b[0;32m     <a href='vscode-notebook-cell:/d%3A/Work/repos/RL/minatar_work/notebooks/post_ai_days_poster.ipynb#X20sZmlsZQ%3D%3D?line=59'>60</a>\u001b[0m \u001b[39m# Normalize the values for this metric by the baseline value\u001b[39;00m\n\u001b[0;32m     <a href='vscode-notebook-cell:/d%3A/Work/repos/RL/minatar_work/notebooks/post_ai_days_poster.ipynb#X20sZmlsZQ%3D%3D?line=60'>61</a>\u001b[0m \u001b[39mprint\u001b[39m(metric, baseline_value)\n\u001b[1;32m---> <a href='vscode-notebook-cell:/d%3A/Work/repos/RL/minatar_work/notebooks/post_ai_days_poster.ipynb#X20sZmlsZQ%3D%3D?line=61'>62</a>\u001b[0m group[metric] \u001b[39m/\u001b[39m\u001b[39m=\u001b[39m baseline_value\n\u001b[0;32m     <a href='vscode-notebook-cell:/d%3A/Work/repos/RL/minatar_work/notebooks/post_ai_days_poster.ipynb#X20sZmlsZQ%3D%3D?line=63'>64</a>\u001b[0m \u001b[39m# Store the normalized values back in the original DataFrame\u001b[39;00m\n\u001b[0;32m     <a href='vscode-notebook-cell:/d%3A/Work/repos/RL/minatar_work/notebooks/post_ai_days_poster.ipynb#X20sZmlsZQ%3D%3D?line=64'>65</a>\u001b[0m df\u001b[39m.\u001b[39mloc[group\u001b[39m.\u001b[39mindex, metric] \u001b[39m=\u001b[39m group[metric]\n",
      "File \u001b[1;32mc:\\Users\\Chainsword\\anaconda3\\envs\\general\\lib\\site-packages\\pandas\\core\\generic.py:12108\u001b[0m, in \u001b[0;36mNDFrame.__itruediv__\u001b[1;34m(self, other)\u001b[0m\n\u001b[0;32m  12106\u001b[0m \u001b[39mdef\u001b[39;00m \u001b[39m__itruediv__\u001b[39m(\u001b[39mself\u001b[39m: NDFrameT, other) \u001b[39m-\u001b[39m\u001b[39m>\u001b[39m NDFrameT:\n\u001b[0;32m  12107\u001b[0m     \u001b[39m# error: Unsupported left operand type for / (\"Type[NDFrame]\")\u001b[39;00m\n\u001b[1;32m> 12108\u001b[0m     \u001b[39mreturn\u001b[39;00m \u001b[39mself\u001b[39;49m\u001b[39m.\u001b[39;49m_inplace_method(\n\u001b[0;32m  12109\u001b[0m         other, \u001b[39mtype\u001b[39;49m(\u001b[39mself\u001b[39;49m)\u001b[39m.\u001b[39;49m\u001b[39m__truediv__\u001b[39;49m  \u001b[39m# type: ignore[operator]\u001b[39;49;00m\n\u001b[0;32m  12110\u001b[0m     )\n",
      "File \u001b[1;32mc:\\Users\\Chainsword\\anaconda3\\envs\\general\\lib\\site-packages\\pandas\\core\\generic.py:12073\u001b[0m, in \u001b[0;36mNDFrame._inplace_method\u001b[1;34m(self, other, op)\u001b[0m\n\u001b[0;32m  12068\u001b[0m \u001b[39m@final\u001b[39m\n\u001b[0;32m  12069\u001b[0m \u001b[39mdef\u001b[39;00m \u001b[39m_inplace_method\u001b[39m(\u001b[39mself\u001b[39m, other, op):\n\u001b[0;32m  12070\u001b[0m \u001b[39m    \u001b[39m\u001b[39m\"\"\"\u001b[39;00m\n\u001b[0;32m  12071\u001b[0m \u001b[39m    Wrap arithmetic method to operate inplace.\u001b[39;00m\n\u001b[0;32m  12072\u001b[0m \u001b[39m    \"\"\"\u001b[39;00m\n\u001b[1;32m> 12073\u001b[0m     result \u001b[39m=\u001b[39m op(\u001b[39mself\u001b[39;49m, other)\n\u001b[0;32m  12075\u001b[0m     \u001b[39mif\u001b[39;00m (\n\u001b[0;32m  12076\u001b[0m         \u001b[39mself\u001b[39m\u001b[39m.\u001b[39mndim \u001b[39m==\u001b[39m \u001b[39m1\u001b[39m\n\u001b[0;32m  12077\u001b[0m         \u001b[39mand\u001b[39;00m result\u001b[39m.\u001b[39m_indexed_same(\u001b[39mself\u001b[39m)\n\u001b[0;32m  12078\u001b[0m         \u001b[39mand\u001b[39;00m is_dtype_equal(result\u001b[39m.\u001b[39mdtype, \u001b[39mself\u001b[39m\u001b[39m.\u001b[39mdtype)\n\u001b[0;32m  12079\u001b[0m     ):\n\u001b[0;32m  12080\u001b[0m         \u001b[39m# GH#36498 this inplace op can _actually_ be inplace.\u001b[39;00m\n\u001b[0;32m  12081\u001b[0m         \u001b[39mself\u001b[39m\u001b[39m.\u001b[39m_values[:] \u001b[39m=\u001b[39m result\u001b[39m.\u001b[39m_values\n",
      "File \u001b[1;32mc:\\Users\\Chainsword\\anaconda3\\envs\\general\\lib\\site-packages\\pandas\\core\\ops\\common.py:72\u001b[0m, in \u001b[0;36m_unpack_zerodim_and_defer.<locals>.new_method\u001b[1;34m(self, other)\u001b[0m\n\u001b[0;32m     68\u001b[0m             \u001b[39mreturn\u001b[39;00m \u001b[39mNotImplemented\u001b[39m\n\u001b[0;32m     70\u001b[0m other \u001b[39m=\u001b[39m item_from_zerodim(other)\n\u001b[1;32m---> 72\u001b[0m \u001b[39mreturn\u001b[39;00m method(\u001b[39mself\u001b[39;49m, other)\n",
      "File \u001b[1;32mc:\\Users\\Chainsword\\anaconda3\\envs\\general\\lib\\site-packages\\pandas\\core\\arraylike.py:126\u001b[0m, in \u001b[0;36mOpsMixin.__truediv__\u001b[1;34m(self, other)\u001b[0m\n\u001b[0;32m    124\u001b[0m \u001b[39m@unpack_zerodim_and_defer\u001b[39m(\u001b[39m\"\u001b[39m\u001b[39m__truediv__\u001b[39m\u001b[39m\"\u001b[39m)\n\u001b[0;32m    125\u001b[0m \u001b[39mdef\u001b[39;00m \u001b[39m__truediv__\u001b[39m(\u001b[39mself\u001b[39m, other):\n\u001b[1;32m--> 126\u001b[0m     \u001b[39mreturn\u001b[39;00m \u001b[39mself\u001b[39;49m\u001b[39m.\u001b[39;49m_arith_method(other, operator\u001b[39m.\u001b[39;49mtruediv)\n",
      "File \u001b[1;32mc:\\Users\\Chainsword\\anaconda3\\envs\\general\\lib\\site-packages\\pandas\\core\\series.py:6259\u001b[0m, in \u001b[0;36mSeries._arith_method\u001b[1;34m(self, other, op)\u001b[0m\n\u001b[0;32m   6257\u001b[0m \u001b[39mdef\u001b[39;00m \u001b[39m_arith_method\u001b[39m(\u001b[39mself\u001b[39m, other, op):\n\u001b[0;32m   6258\u001b[0m     \u001b[39mself\u001b[39m, other \u001b[39m=\u001b[39m ops\u001b[39m.\u001b[39malign_method_SERIES(\u001b[39mself\u001b[39m, other)\n\u001b[1;32m-> 6259\u001b[0m     \u001b[39mreturn\u001b[39;00m base\u001b[39m.\u001b[39;49mIndexOpsMixin\u001b[39m.\u001b[39;49m_arith_method(\u001b[39mself\u001b[39;49m, other, op)\n",
      "File \u001b[1;32mc:\\Users\\Chainsword\\anaconda3\\envs\\general\\lib\\site-packages\\pandas\\core\\base.py:1325\u001b[0m, in \u001b[0;36mIndexOpsMixin._arith_method\u001b[1;34m(self, other, op)\u001b[0m\n\u001b[0;32m   1322\u001b[0m rvalues \u001b[39m=\u001b[39m ensure_wrapped_if_datetimelike(rvalues)\n\u001b[0;32m   1324\u001b[0m \u001b[39mwith\u001b[39;00m np\u001b[39m.\u001b[39merrstate(\u001b[39mall\u001b[39m\u001b[39m=\u001b[39m\u001b[39m\"\u001b[39m\u001b[39mignore\u001b[39m\u001b[39m\"\u001b[39m):\n\u001b[1;32m-> 1325\u001b[0m     result \u001b[39m=\u001b[39m ops\u001b[39m.\u001b[39;49marithmetic_op(lvalues, rvalues, op)\n\u001b[0;32m   1327\u001b[0m \u001b[39mreturn\u001b[39;00m \u001b[39mself\u001b[39m\u001b[39m.\u001b[39m_construct_result(result, name\u001b[39m=\u001b[39mres_name)\n",
      "File \u001b[1;32mc:\\Users\\Chainsword\\anaconda3\\envs\\general\\lib\\site-packages\\pandas\\core\\ops\\array_ops.py:226\u001b[0m, in \u001b[0;36marithmetic_op\u001b[1;34m(left, right, op)\u001b[0m\n\u001b[0;32m    222\u001b[0m     _bool_arith_check(op, left, right)\n\u001b[0;32m    224\u001b[0m     \u001b[39m# error: Argument 1 to \"_na_arithmetic_op\" has incompatible type\u001b[39;00m\n\u001b[0;32m    225\u001b[0m     \u001b[39m# \"Union[ExtensionArray, ndarray[Any, Any]]\"; expected \"ndarray[Any, Any]\"\u001b[39;00m\n\u001b[1;32m--> 226\u001b[0m     res_values \u001b[39m=\u001b[39m _na_arithmetic_op(left, right, op)  \u001b[39m# type: ignore[arg-type]\u001b[39;00m\n\u001b[0;32m    228\u001b[0m \u001b[39mreturn\u001b[39;00m res_values\n",
      "File \u001b[1;32mc:\\Users\\Chainsword\\anaconda3\\envs\\general\\lib\\site-packages\\pandas\\core\\ops\\array_ops.py:172\u001b[0m, in \u001b[0;36m_na_arithmetic_op\u001b[1;34m(left, right, op, is_cmp)\u001b[0m\n\u001b[0;32m    166\u001b[0m \u001b[39mexcept\u001b[39;00m \u001b[39mTypeError\u001b[39;00m:\n\u001b[0;32m    167\u001b[0m     \u001b[39mif\u001b[39;00m \u001b[39mnot\u001b[39;00m is_cmp \u001b[39mand\u001b[39;00m (is_object_dtype(left\u001b[39m.\u001b[39mdtype) \u001b[39mor\u001b[39;00m is_object_dtype(right)):\n\u001b[0;32m    168\u001b[0m         \u001b[39m# For object dtype, fallback to a masked operation (only operating\u001b[39;00m\n\u001b[0;32m    169\u001b[0m         \u001b[39m#  on the non-missing values)\u001b[39;00m\n\u001b[0;32m    170\u001b[0m         \u001b[39m# Don't do this for comparisons, as that will handle complex numbers\u001b[39;00m\n\u001b[0;32m    171\u001b[0m         \u001b[39m#  incorrectly, see GH#32047\u001b[39;00m\n\u001b[1;32m--> 172\u001b[0m         result \u001b[39m=\u001b[39m _masked_arith_op(left, right, op)\n\u001b[0;32m    173\u001b[0m     \u001b[39melse\u001b[39;00m:\n\u001b[0;32m    174\u001b[0m         \u001b[39mraise\u001b[39;00m\n",
      "File \u001b[1;32mc:\\Users\\Chainsword\\anaconda3\\envs\\general\\lib\\site-packages\\pandas\\core\\ops\\array_ops.py:129\u001b[0m, in \u001b[0;36m_masked_arith_op\u001b[1;34m(x, y, op)\u001b[0m\n\u001b[0;32m    126\u001b[0m         mask \u001b[39m=\u001b[39m np\u001b[39m.\u001b[39mwhere(y \u001b[39m==\u001b[39m \u001b[39m1\u001b[39m, \u001b[39mFalse\u001b[39;00m, mask)\n\u001b[0;32m    128\u001b[0m     \u001b[39mif\u001b[39;00m mask\u001b[39m.\u001b[39many():\n\u001b[1;32m--> 129\u001b[0m         result[mask] \u001b[39m=\u001b[39m op(xrav[mask], y)\n\u001b[0;32m    131\u001b[0m np\u001b[39m.\u001b[39mputmask(result, \u001b[39m~\u001b[39mmask, np\u001b[39m.\u001b[39mnan)\n\u001b[0;32m    132\u001b[0m result \u001b[39m=\u001b[39m result\u001b[39m.\u001b[39mreshape(x\u001b[39m.\u001b[39mshape)  \u001b[39m# 2D compat\u001b[39;00m\n",
      "\u001b[1;31mTypeError\u001b[0m: unsupported operand type(s) for /: 'str' and 'str'"
     ]
    }
   ],
   "source": [
    "# MARK: needed for poster\n",
    "\n",
    "sub_df = df.copy(deep=True)\n",
    "sub_df = sub_df[sub_df[\"model_name\"].isin([\"conv32_lin128\", \"conv64_lin256\"])]\n",
    "sub_df = sub_df[sub_df[\"environment\"].isin(envs_to_keep)]\n",
    "sub_df = normalize_df_using_baseline_all_envs(sub_df)\n",
    "\n",
    "plot_facetgrid_experiment_common_titles(\n",
    "    sub_df,\n",
    "    y_label=\"Normalized score\",\n",
    "    title=f\"Normalized mean score at different levels of pruning (All envs aggregated)\",\n",
    ")\n",
    "\n",
    "# Show the plot\n",
    "plt.show()"
   ]
  },
  {
   "cell_type": "code",
   "execution_count": 34,
   "metadata": {},
   "outputs": [],
   "source": [
    "def mask_to_score_distance(mask, scores):\n",
    "    num_ones = np.count_nonzero(mask)\n",
    "\n",
    "    if num_ones == 0:\n",
    "        return 0\n",
    "\n",
    "    # Sort the scores in ascending order and get their corresponding indices\n",
    "    sorted_indices = np.argsort(scores)\n",
    "\n",
    "    # Create a new mask where the N smallest values represent True\n",
    "    new_mask = torch.zeros_like(mask, dtype=torch.bool)\n",
    "    new_mask[sorted_indices[:num_ones]] = True\n",
    "\n",
    "    # Calculate the Hamming distance between the masks\n",
    "    hamming_distance = torch.sum(torch.logical_and(mask, new_mask))\n",
    "    hamming_relative_distance = hamming_distance.item() / len(mask)\n",
    "\n",
    "    return hamming_relative_distance\n",
    "\n",
    "\n",
    "def mask_vs_norm_stats(mask, scores):\n",
    "    num_ones = np.count_nonzero(mask)\n",
    "\n",
    "    # Sort the scores in ascending order and get their corresponding indices\n",
    "    sorted_indices = np.argsort(scores)\n",
    "\n",
    "    # Create a new mask where the N smallest values represent True\n",
    "    new_mask = torch.zeros_like(mask, dtype=torch.bool)\n",
    "    new_mask[sorted_indices[:num_ones]] = True\n",
    "\n",
    "    # Calculate the Hamming distance between the masks\n",
    "    only_redo = torch.sum(torch.logical_and(mask, torch.eq(new_mask, False))).item()\n",
    "    intersect = torch.sum(torch.logical_and(mask, new_mask)).item()\n",
    "    only_pruning = torch.sum(torch.logical_and(torch.eq(mask, False), new_mask)).item()\n",
    "\n",
    "    return only_redo, intersect, only_pruning\n",
    "\n",
    "\n",
    "def get_rankings(scores):\n",
    "    sorted_indices = torch.argsort(scores)\n",
    "\n",
    "    # Initialize tensor for rankings\n",
    "    rankings = torch.zeros_like(scores, dtype=torch.long)\n",
    "\n",
    "    # Assign ranks to scores\n",
    "    rankings[sorted_indices] = torch.arange(1, len(scores) + 1)\n",
    "\n",
    "    return rankings\n",
    "\n",
    "\n",
    "def compare_redo_pruning(exp_paths):\n",
    "    training_stats_data = torch.load(exp_paths[\"stats_path\"])\n",
    "    redo_scores = training_stats_data[\"redo_scores\"][\"policy\"]\n",
    "\n",
    "    checkpoints_paths = search_files_containing_string(\n",
    "        exp_paths[\"models_folder_path\"], \"mck\", substring_location=\"containing\"\n",
    "    )\n",
    "\n",
    "    # read the config so that the model architecture can be loaded\n",
    "    with open(exp_paths[\"config_path\"], \"r\") as ymlfile:\n",
    "        cfg = yaml.safe_load(ymlfile)\n",
    "\n",
    "    results = []\n",
    "    for checkpoint_path in checkpoints_paths:\n",
    "        # Build a new model\n",
    "        validation_env = build_environment(cfg[\"environment\"], cfg[\"seed\"])\n",
    "\n",
    "        # returns state as [w, h, channels]\n",
    "        state_shape = validation_env.observation_space.shape\n",
    "\n",
    "        # permute to get batch, channel, w, h shape\n",
    "        # specific to minatar\n",
    "        in_features = (state_shape[2], state_shape[0], state_shape[1])\n",
    "        in_channels = in_features[0]\n",
    "        num_actions = validation_env.action_space.n\n",
    "\n",
    "        checkpoint_model = Conv_QNET(\n",
    "            in_features=in_features,\n",
    "            in_channels=in_channels,\n",
    "            num_actions=num_actions,\n",
    "            **cfg[\"estimator\"][\"args_\"]\n",
    "        )\n",
    "        checkpoint_model = apply_redo_parametrization(checkpoint_model, tau=0.1)\n",
    "\n",
    "        # Get the state of the model\n",
    "        checkpoint_models_state = torch.load(checkpoint_path)\n",
    "        checkpoint_model.load_state_dict(\n",
    "            checkpoint_models_state[\"policy_model_state_dict\"]\n",
    "        )\n",
    "        model_state = checkpoint_model.state_dict()\n",
    "\n",
    "        # Compute kendall rank correlation coefficient for each layer\n",
    "        layer_weight_keys = [\"features.0.weight\", \"features.2.weight\", \"fc.0.weight\"]\n",
    "        for i, layer_key in enumerate(layer_weight_keys):\n",
    "            weights = model_state[layer_key]\n",
    "\n",
    "            # compute the weight of the neurons in this layer\n",
    "            if weights.dim() > 2:\n",
    "                l1_norms = torch.sum(torch.abs(weights), dim=(1, 2, 3))\n",
    "            else:\n",
    "                l1_norms = torch.sum(torch.abs(weights), dim=(1))\n",
    "\n",
    "            neuron_rankings = get_rankings(l1_norms)\n",
    "\n",
    "            check_index = (\n",
    "                int(os.path.basename(checkpoint_path).split(\"_\")[1]) - 1\n",
    "            )  # get the index of the checkpoint\n",
    "\n",
    "            redo_score = redo_scores[check_index][i]\n",
    "            redo_rankings = get_rankings(torch.tensor(redo_score))\n",
    "\n",
    "            k_corr, k_pval = scipy.stats.kendalltau(neuron_rankings, redo_rankings)\n",
    "            s_corr, s_pval = scipy.stats.spearmanr(neuron_rankings, redo_rankings)\n",
    "            p_corr, p_pval = scipy.stats.pearsonr(l1_norms, redo_score)\n",
    "\n",
    "            # also do an experiment with thresholding\n",
    "\n",
    "            tau_vals = [0.025, 0.1]\n",
    "\n",
    "            for tau in tau_vals:\n",
    "                dormant_neurons_mask = redo_score <= tau\n",
    "\n",
    "                dormant_neurons_idx = dormant_neurons_mask.nonzero().flatten()\n",
    "\n",
    "                only_redo, intersect, only_pruning = mask_vs_norm_stats(\n",
    "                    dormant_neurons_mask, l1_norms\n",
    "                )\n",
    "\n",
    "                new_row = {\n",
    "                    \"seed\": cfg[\"seed\"],\n",
    "                    \"env\": cfg[\"environment\"],\n",
    "                    \"experiment\": \"_\".join(\n",
    "                        cfg[\"experiment_name\"].split(\"_\")[:2]\n",
    "                    ),  # WARNING\n",
    "                    \"tau\": tau,\n",
    "                    \"nr_only_redo\": only_redo,\n",
    "                    \"nr_intersect\": intersect,\n",
    "                    \"nr_only_pruning\": only_pruning,\n",
    "                    \"dead_neuron_l1norms\": l1_norms[dormant_neurons_idx],\n",
    "                    \"dead_neuron_l1norms_avg\": np.average(\n",
    "                        l1_norms[dormant_neurons_idx]\n",
    "                    ),\n",
    "                    \"dead_neuron_ratio\": len(dormant_neurons_idx) / len(redo_score),\n",
    "                    \"redo_l1norm_hamming\": mask_to_score_distance(\n",
    "                        dormant_neurons_mask, l1_norms\n",
    "                    ),\n",
    "                    \"checkpoint\": os.path.basename(checkpoint_path),\n",
    "                    \"epoch\": check_index,\n",
    "                    \"layer\": layer_key,\n",
    "                    \"kendall_r_corr\": k_corr,\n",
    "                    \"kendall_r_pval\": k_pval,\n",
    "                    \"spearman_r_corr\": s_corr,\n",
    "                    \"spearman_r_pval\": s_pval,\n",
    "                    \"pearson_corr\": p_corr,\n",
    "                    \"pearson_pval\": p_pval,\n",
    "                }\n",
    "                results.append(new_row)\n",
    "\n",
    "    df = pd.DataFrame(results)\n",
    "\n",
    "    return df"
   ]
  },
  {
   "cell_type": "code",
   "execution_count": 35,
   "metadata": {},
   "outputs": [
    {
     "name": "stdout",
     "output_type": "stream",
     "text": [
      "d:\\Work\\repos\\RL\\minatar_work\\experiments\\training\\outputs\\2023_10_26-22_11_20\n"
     ]
    },
    {
     "name": "stderr",
     "output_type": "stream",
     "text": [
      "c:\\Users\\Chainsword\\anaconda3\\envs\\general\\lib\\site-packages\\gym\\envs\\registration.py:555: UserWarning:\n",
      "\n",
      "\u001b[33mWARN: The environment MinAtar/Breakout-v0 is out of date. You should consider upgrading to version `v1`.\u001b[0m\n",
      "\n",
      "c:\\Users\\Chainsword\\anaconda3\\envs\\general\\lib\\site-packages\\gym\\utils\\passive_env_checker.py:20: UserWarning:\n",
      "\n",
      "\u001b[33mWARN: It seems a Box observation space is an image but the `dtype` is not `np.uint8`, actual type: bool. If the Box observation space is not an image, we recommend flattening the observation to have only a 1D vector.\u001b[0m\n",
      "\n",
      "c:\\Users\\Chainsword\\anaconda3\\envs\\general\\lib\\site-packages\\gym\\utils\\passive_env_checker.py:25: UserWarning:\n",
      "\n",
      "\u001b[33mWARN: It seems a Box observation space is an image but the upper and lower bounds are not in [0, 255]. Generally, CNN policies assume observations are within that range, so you may encounter an issue if the observation values are not.\u001b[0m\n",
      "\n",
      "C:\\Users\\Chainsword\\AppData\\Local\\Temp\\ipykernel_32120\\4083292704.py:110: UserWarning:\n",
      "\n",
      "To copy construct from a tensor, it is recommended to use sourceTensor.clone().detach() or sourceTensor.clone().detach().requires_grad_(True), rather than torch.tensor(sourceTensor).\n",
      "\n",
      "c:\\Users\\Chainsword\\anaconda3\\envs\\general\\lib\\site-packages\\gym\\envs\\registration.py:555: UserWarning:\n",
      "\n",
      "\u001b[33mWARN: The environment MinAtar/Breakout-v0 is out of date. You should consider upgrading to version `v1`.\u001b[0m\n",
      "\n",
      "c:\\Users\\Chainsword\\anaconda3\\envs\\general\\lib\\site-packages\\gym\\utils\\passive_env_checker.py:20: UserWarning:\n",
      "\n",
      "\u001b[33mWARN: It seems a Box observation space is an image but the `dtype` is not `np.uint8`, actual type: bool. If the Box observation space is not an image, we recommend flattening the observation to have only a 1D vector.\u001b[0m\n",
      "\n",
      "c:\\Users\\Chainsword\\anaconda3\\envs\\general\\lib\\site-packages\\gym\\utils\\passive_env_checker.py:25: UserWarning:\n",
      "\n",
      "\u001b[33mWARN: It seems a Box observation space is an image but the upper and lower bounds are not in [0, 255]. Generally, CNN policies assume observations are within that range, so you may encounter an issue if the observation values are not.\u001b[0m\n",
      "\n",
      "C:\\Users\\Chainsword\\AppData\\Local\\Temp\\ipykernel_32120\\4083292704.py:110: UserWarning:\n",
      "\n",
      "To copy construct from a tensor, it is recommended to use sourceTensor.clone().detach() or sourceTensor.clone().detach().requires_grad_(True), rather than torch.tensor(sourceTensor).\n",
      "\n",
      "c:\\Users\\Chainsword\\anaconda3\\envs\\general\\lib\\site-packages\\gym\\envs\\registration.py:555: UserWarning:\n",
      "\n",
      "\u001b[33mWARN: The environment MinAtar/Breakout-v0 is out of date. You should consider upgrading to version `v1`.\u001b[0m\n",
      "\n",
      "c:\\Users\\Chainsword\\anaconda3\\envs\\general\\lib\\site-packages\\gym\\utils\\passive_env_checker.py:20: UserWarning:\n",
      "\n",
      "\u001b[33mWARN: It seems a Box observation space is an image but the `dtype` is not `np.uint8`, actual type: bool. If the Box observation space is not an image, we recommend flattening the observation to have only a 1D vector.\u001b[0m\n",
      "\n",
      "c:\\Users\\Chainsword\\anaconda3\\envs\\general\\lib\\site-packages\\gym\\utils\\passive_env_checker.py:25: UserWarning:\n",
      "\n",
      "\u001b[33mWARN: It seems a Box observation space is an image but the upper and lower bounds are not in [0, 255]. Generally, CNN policies assume observations are within that range, so you may encounter an issue if the observation values are not.\u001b[0m\n",
      "\n",
      "C:\\Users\\Chainsword\\AppData\\Local\\Temp\\ipykernel_32120\\4083292704.py:110: UserWarning:\n",
      "\n",
      "To copy construct from a tensor, it is recommended to use sourceTensor.clone().detach() or sourceTensor.clone().detach().requires_grad_(True), rather than torch.tensor(sourceTensor).\n",
      "\n",
      "c:\\Users\\Chainsword\\anaconda3\\envs\\general\\lib\\site-packages\\gym\\envs\\registration.py:555: UserWarning:\n",
      "\n",
      "\u001b[33mWARN: The environment MinAtar/Breakout-v0 is out of date. You should consider upgrading to version `v1`.\u001b[0m\n",
      "\n",
      "c:\\Users\\Chainsword\\anaconda3\\envs\\general\\lib\\site-packages\\gym\\utils\\passive_env_checker.py:20: UserWarning:\n",
      "\n",
      "\u001b[33mWARN: It seems a Box observation space is an image but the `dtype` is not `np.uint8`, actual type: bool. If the Box observation space is not an image, we recommend flattening the observation to have only a 1D vector.\u001b[0m\n",
      "\n",
      "c:\\Users\\Chainsword\\anaconda3\\envs\\general\\lib\\site-packages\\gym\\utils\\passive_env_checker.py:25: UserWarning:\n",
      "\n",
      "\u001b[33mWARN: It seems a Box observation space is an image but the upper and lower bounds are not in [0, 255]. Generally, CNN policies assume observations are within that range, so you may encounter an issue if the observation values are not.\u001b[0m\n",
      "\n",
      "C:\\Users\\Chainsword\\AppData\\Local\\Temp\\ipykernel_32120\\4083292704.py:110: UserWarning:\n",
      "\n",
      "To copy construct from a tensor, it is recommended to use sourceTensor.clone().detach() or sourceTensor.clone().detach().requires_grad_(True), rather than torch.tensor(sourceTensor).\n",
      "\n",
      "c:\\Users\\Chainsword\\anaconda3\\envs\\general\\lib\\site-packages\\gym\\envs\\registration.py:555: UserWarning:\n",
      "\n",
      "\u001b[33mWARN: The environment MinAtar/Breakout-v0 is out of date. You should consider upgrading to version `v1`.\u001b[0m\n",
      "\n",
      "c:\\Users\\Chainsword\\anaconda3\\envs\\general\\lib\\site-packages\\gym\\utils\\passive_env_checker.py:20: UserWarning:\n",
      "\n",
      "\u001b[33mWARN: It seems a Box observation space is an image but the `dtype` is not `np.uint8`, actual type: bool. If the Box observation space is not an image, we recommend flattening the observation to have only a 1D vector.\u001b[0m\n",
      "\n",
      "c:\\Users\\Chainsword\\anaconda3\\envs\\general\\lib\\site-packages\\gym\\utils\\passive_env_checker.py:25: UserWarning:\n",
      "\n",
      "\u001b[33mWARN: It seems a Box observation space is an image but the upper and lower bounds are not in [0, 255]. Generally, CNN policies assume observations are within that range, so you may encounter an issue if the observation values are not.\u001b[0m\n",
      "\n",
      "C:\\Users\\Chainsword\\AppData\\Local\\Temp\\ipykernel_32120\\4083292704.py:110: UserWarning:\n",
      "\n",
      "To copy construct from a tensor, it is recommended to use sourceTensor.clone().detach() or sourceTensor.clone().detach().requires_grad_(True), rather than torch.tensor(sourceTensor).\n",
      "\n",
      "c:\\Users\\Chainsword\\anaconda3\\envs\\general\\lib\\site-packages\\gym\\envs\\registration.py:555: UserWarning:\n",
      "\n",
      "\u001b[33mWARN: The environment MinAtar/Breakout-v0 is out of date. You should consider upgrading to version `v1`.\u001b[0m\n",
      "\n",
      "c:\\Users\\Chainsword\\anaconda3\\envs\\general\\lib\\site-packages\\gym\\utils\\passive_env_checker.py:20: UserWarning:\n",
      "\n",
      "\u001b[33mWARN: It seems a Box observation space is an image but the `dtype` is not `np.uint8`, actual type: bool. If the Box observation space is not an image, we recommend flattening the observation to have only a 1D vector.\u001b[0m\n",
      "\n",
      "c:\\Users\\Chainsword\\anaconda3\\envs\\general\\lib\\site-packages\\gym\\utils\\passive_env_checker.py:25: UserWarning:\n",
      "\n",
      "\u001b[33mWARN: It seems a Box observation space is an image but the upper and lower bounds are not in [0, 255]. Generally, CNN policies assume observations are within that range, so you may encounter an issue if the observation values are not.\u001b[0m\n",
      "\n",
      "C:\\Users\\Chainsword\\AppData\\Local\\Temp\\ipykernel_32120\\4083292704.py:110: UserWarning:\n",
      "\n",
      "To copy construct from a tensor, it is recommended to use sourceTensor.clone().detach() or sourceTensor.clone().detach().requires_grad_(True), rather than torch.tensor(sourceTensor).\n",
      "\n",
      "c:\\Users\\Chainsword\\anaconda3\\envs\\general\\lib\\site-packages\\gym\\envs\\registration.py:555: UserWarning:\n",
      "\n",
      "\u001b[33mWARN: The environment MinAtar/Breakout-v0 is out of date. You should consider upgrading to version `v1`.\u001b[0m\n",
      "\n",
      "c:\\Users\\Chainsword\\anaconda3\\envs\\general\\lib\\site-packages\\gym\\utils\\passive_env_checker.py:20: UserWarning:\n",
      "\n",
      "\u001b[33mWARN: It seems a Box observation space is an image but the `dtype` is not `np.uint8`, actual type: bool. If the Box observation space is not an image, we recommend flattening the observation to have only a 1D vector.\u001b[0m\n",
      "\n",
      "c:\\Users\\Chainsword\\anaconda3\\envs\\general\\lib\\site-packages\\gym\\utils\\passive_env_checker.py:25: UserWarning:\n",
      "\n",
      "\u001b[33mWARN: It seems a Box observation space is an image but the upper and lower bounds are not in [0, 255]. Generally, CNN policies assume observations are within that range, so you may encounter an issue if the observation values are not.\u001b[0m\n",
      "\n",
      "C:\\Users\\Chainsword\\AppData\\Local\\Temp\\ipykernel_32120\\4083292704.py:110: UserWarning:\n",
      "\n",
      "To copy construct from a tensor, it is recommended to use sourceTensor.clone().detach() or sourceTensor.clone().detach().requires_grad_(True), rather than torch.tensor(sourceTensor).\n",
      "\n",
      "c:\\Users\\Chainsword\\anaconda3\\envs\\general\\lib\\site-packages\\gym\\envs\\registration.py:555: UserWarning:\n",
      "\n",
      "\u001b[33mWARN: The environment MinAtar/Breakout-v0 is out of date. You should consider upgrading to version `v1`.\u001b[0m\n",
      "\n",
      "c:\\Users\\Chainsword\\anaconda3\\envs\\general\\lib\\site-packages\\gym\\utils\\passive_env_checker.py:20: UserWarning:\n",
      "\n",
      "\u001b[33mWARN: It seems a Box observation space is an image but the `dtype` is not `np.uint8`, actual type: bool. If the Box observation space is not an image, we recommend flattening the observation to have only a 1D vector.\u001b[0m\n",
      "\n",
      "c:\\Users\\Chainsword\\anaconda3\\envs\\general\\lib\\site-packages\\gym\\utils\\passive_env_checker.py:25: UserWarning:\n",
      "\n",
      "\u001b[33mWARN: It seems a Box observation space is an image but the upper and lower bounds are not in [0, 255]. Generally, CNN policies assume observations are within that range, so you may encounter an issue if the observation values are not.\u001b[0m\n",
      "\n",
      "C:\\Users\\Chainsword\\AppData\\Local\\Temp\\ipykernel_32120\\4083292704.py:110: UserWarning:\n",
      "\n",
      "To copy construct from a tensor, it is recommended to use sourceTensor.clone().detach() or sourceTensor.clone().detach().requires_grad_(True), rather than torch.tensor(sourceTensor).\n",
      "\n"
     ]
    },
    {
     "data": {
      "text/html": [
       "<div>\n",
       "<style scoped>\n",
       "    .dataframe tbody tr th:only-of-type {\n",
       "        vertical-align: middle;\n",
       "    }\n",
       "\n",
       "    .dataframe tbody tr th {\n",
       "        vertical-align: top;\n",
       "    }\n",
       "\n",
       "    .dataframe thead th {\n",
       "        text-align: right;\n",
       "    }\n",
       "</style>\n",
       "<table border=\"1\" class=\"dataframe\">\n",
       "  <thead>\n",
       "    <tr style=\"text-align: right;\">\n",
       "      <th></th>\n",
       "      <th>seed</th>\n",
       "      <th>env</th>\n",
       "      <th>experiment</th>\n",
       "      <th>tau</th>\n",
       "      <th>nr_only_redo</th>\n",
       "      <th>nr_intersect</th>\n",
       "      <th>nr_only_pruning</th>\n",
       "      <th>dead_neuron_l1norms</th>\n",
       "      <th>dead_neuron_l1norms_avg</th>\n",
       "      <th>dead_neuron_ratio</th>\n",
       "      <th>redo_l1norm_hamming</th>\n",
       "      <th>checkpoint</th>\n",
       "      <th>epoch</th>\n",
       "      <th>layer</th>\n",
       "      <th>kendall_r_corr</th>\n",
       "      <th>kendall_r_pval</th>\n",
       "      <th>spearman_r_corr</th>\n",
       "      <th>spearman_r_pval</th>\n",
       "      <th>pearson_corr</th>\n",
       "      <th>pearson_pval</th>\n",
       "    </tr>\n",
       "  </thead>\n",
       "  <tbody>\n",
       "    <tr>\n",
       "      <th>0</th>\n",
       "      <td>0</td>\n",
       "      <td>breakout</td>\n",
       "      <td>conv32_lin128</td>\n",
       "      <td>0.025</td>\n",
       "      <td>8</td>\n",
       "      <td>7</td>\n",
       "      <td>8</td>\n",
       "      <td>[tensor(5.2725), tensor(7.1313), tensor(5.8596...</td>\n",
       "      <td>5.660014</td>\n",
       "      <td>0.468750</td>\n",
       "      <td>0.218750</td>\n",
       "      <td>mck_1</td>\n",
       "      <td>0</td>\n",
       "      <td>features.0.weight</td>\n",
       "      <td>-0.028226</td>\n",
       "      <td>8.343999e-01</td>\n",
       "      <td>-0.068182</td>\n",
       "      <td>7.108004e-01</td>\n",
       "      <td>-0.129287</td>\n",
       "      <td>4.806682e-01</td>\n",
       "    </tr>\n",
       "    <tr>\n",
       "      <th>1</th>\n",
       "      <td>0</td>\n",
       "      <td>breakout</td>\n",
       "      <td>conv32_lin128</td>\n",
       "      <td>0.100</td>\n",
       "      <td>0</td>\n",
       "      <td>32</td>\n",
       "      <td>0</td>\n",
       "      <td>[tensor(5.2725), tensor(6.3279), tensor(5.1877...</td>\n",
       "      <td>5.581620</td>\n",
       "      <td>1.000000</td>\n",
       "      <td>1.000000</td>\n",
       "      <td>mck_1</td>\n",
       "      <td>0</td>\n",
       "      <td>features.0.weight</td>\n",
       "      <td>-0.028226</td>\n",
       "      <td>8.343999e-01</td>\n",
       "      <td>-0.068182</td>\n",
       "      <td>7.108004e-01</td>\n",
       "      <td>-0.129287</td>\n",
       "      <td>4.806682e-01</td>\n",
       "    </tr>\n",
       "    <tr>\n",
       "      <th>2</th>\n",
       "      <td>0</td>\n",
       "      <td>breakout</td>\n",
       "      <td>conv32_lin128</td>\n",
       "      <td>0.025</td>\n",
       "      <td>1</td>\n",
       "      <td>0</td>\n",
       "      <td>1</td>\n",
       "      <td>[tensor(24.4055)]</td>\n",
       "      <td>24.405518</td>\n",
       "      <td>0.031250</td>\n",
       "      <td>0.000000</td>\n",
       "      <td>mck_1</td>\n",
       "      <td>0</td>\n",
       "      <td>features.2.weight</td>\n",
       "      <td>0.165323</td>\n",
       "      <td>1.905990e-01</td>\n",
       "      <td>0.237903</td>\n",
       "      <td>1.898040e-01</td>\n",
       "      <td>0.607382</td>\n",
       "      <td>2.274038e-04</td>\n",
       "    </tr>\n",
       "    <tr>\n",
       "      <th>3</th>\n",
       "      <td>0</td>\n",
       "      <td>breakout</td>\n",
       "      <td>conv32_lin128</td>\n",
       "      <td>0.100</td>\n",
       "      <td>0</td>\n",
       "      <td>32</td>\n",
       "      <td>0</td>\n",
       "      <td>[tensor(24.4286), tensor(23.4283), tensor(25.0...</td>\n",
       "      <td>25.009521</td>\n",
       "      <td>1.000000</td>\n",
       "      <td>1.000000</td>\n",
       "      <td>mck_1</td>\n",
       "      <td>0</td>\n",
       "      <td>features.2.weight</td>\n",
       "      <td>0.165323</td>\n",
       "      <td>1.905990e-01</td>\n",
       "      <td>0.237903</td>\n",
       "      <td>1.898040e-01</td>\n",
       "      <td>0.607382</td>\n",
       "      <td>2.274038e-04</td>\n",
       "    </tr>\n",
       "    <tr>\n",
       "      <th>4</th>\n",
       "      <td>0</td>\n",
       "      <td>breakout</td>\n",
       "      <td>conv32_lin128</td>\n",
       "      <td>0.025</td>\n",
       "      <td>3</td>\n",
       "      <td>107</td>\n",
       "      <td>3</td>\n",
       "      <td>[tensor(16.6022), tensor(17.7833), tensor(17.0...</td>\n",
       "      <td>23.476021</td>\n",
       "      <td>0.859375</td>\n",
       "      <td>0.835938</td>\n",
       "      <td>mck_1</td>\n",
       "      <td>0</td>\n",
       "      <td>fc.0.weight</td>\n",
       "      <td>0.578494</td>\n",
       "      <td>3.498070e-22</td>\n",
       "      <td>0.764890</td>\n",
       "      <td>7.911225e-26</td>\n",
       "      <td>0.945896</td>\n",
       "      <td>1.916674e-63</td>\n",
       "    </tr>\n",
       "    <tr>\n",
       "      <th>...</th>\n",
       "      <td>...</td>\n",
       "      <td>...</td>\n",
       "      <td>...</td>\n",
       "      <td>...</td>\n",
       "      <td>...</td>\n",
       "      <td>...</td>\n",
       "      <td>...</td>\n",
       "      <td>...</td>\n",
       "      <td>...</td>\n",
       "      <td>...</td>\n",
       "      <td>...</td>\n",
       "      <td>...</td>\n",
       "      <td>...</td>\n",
       "      <td>...</td>\n",
       "      <td>...</td>\n",
       "      <td>...</td>\n",
       "      <td>...</td>\n",
       "      <td>...</td>\n",
       "      <td>...</td>\n",
       "      <td>...</td>\n",
       "    </tr>\n",
       "    <tr>\n",
       "      <th>85</th>\n",
       "      <td>0</td>\n",
       "      <td>breakout</td>\n",
       "      <td>conv64_lin256</td>\n",
       "      <td>0.100</td>\n",
       "      <td>0</td>\n",
       "      <td>64</td>\n",
       "      <td>0</td>\n",
       "      <td>[tensor(3.9821), tensor(11.9900), tensor(9.893...</td>\n",
       "      <td>6.152067</td>\n",
       "      <td>1.000000</td>\n",
       "      <td>1.000000</td>\n",
       "      <td>mck_9</td>\n",
       "      <td>8</td>\n",
       "      <td>features.0.weight</td>\n",
       "      <td>0.227183</td>\n",
       "      <td>7.966674e-03</td>\n",
       "      <td>0.369643</td>\n",
       "      <td>2.646131e-03</td>\n",
       "      <td>0.706111</td>\n",
       "      <td>7.152227e-11</td>\n",
       "    </tr>\n",
       "    <tr>\n",
       "      <th>86</th>\n",
       "      <td>0</td>\n",
       "      <td>breakout</td>\n",
       "      <td>conv64_lin256</td>\n",
       "      <td>0.025</td>\n",
       "      <td>5</td>\n",
       "      <td>51</td>\n",
       "      <td>5</td>\n",
       "      <td>[tensor(28.1476), tensor(20.0419), tensor(18.5...</td>\n",
       "      <td>22.560787</td>\n",
       "      <td>0.875000</td>\n",
       "      <td>0.796875</td>\n",
       "      <td>mck_9</td>\n",
       "      <td>8</td>\n",
       "      <td>features.2.weight</td>\n",
       "      <td>0.078373</td>\n",
       "      <td>3.599857e-01</td>\n",
       "      <td>0.110073</td>\n",
       "      <td>3.865638e-01</td>\n",
       "      <td>0.285842</td>\n",
       "      <td>2.204080e-02</td>\n",
       "    </tr>\n",
       "    <tr>\n",
       "      <th>87</th>\n",
       "      <td>0</td>\n",
       "      <td>breakout</td>\n",
       "      <td>conv64_lin256</td>\n",
       "      <td>0.100</td>\n",
       "      <td>0</td>\n",
       "      <td>64</td>\n",
       "      <td>0</td>\n",
       "      <td>[tensor(28.1476), tensor(20.0419), tensor(18.5...</td>\n",
       "      <td>22.592314</td>\n",
       "      <td>1.000000</td>\n",
       "      <td>1.000000</td>\n",
       "      <td>mck_9</td>\n",
       "      <td>8</td>\n",
       "      <td>features.2.weight</td>\n",
       "      <td>0.078373</td>\n",
       "      <td>3.599857e-01</td>\n",
       "      <td>0.110073</td>\n",
       "      <td>3.865638e-01</td>\n",
       "      <td>0.285842</td>\n",
       "      <td>2.204080e-02</td>\n",
       "    </tr>\n",
       "    <tr>\n",
       "      <th>88</th>\n",
       "      <td>0</td>\n",
       "      <td>breakout</td>\n",
       "      <td>conv64_lin256</td>\n",
       "      <td>0.025</td>\n",
       "      <td>0</td>\n",
       "      <td>249</td>\n",
       "      <td>0</td>\n",
       "      <td>[tensor(88.4549), tensor(70.7537), tensor(23.8...</td>\n",
       "      <td>73.199074</td>\n",
       "      <td>0.972656</td>\n",
       "      <td>0.972656</td>\n",
       "      <td>mck_9</td>\n",
       "      <td>8</td>\n",
       "      <td>fc.0.weight</td>\n",
       "      <td>0.130208</td>\n",
       "      <td>1.910704e-03</td>\n",
       "      <td>0.214090</td>\n",
       "      <td>5.631881e-04</td>\n",
       "      <td>0.886116</td>\n",
       "      <td>8.296041e-87</td>\n",
       "    </tr>\n",
       "    <tr>\n",
       "      <th>89</th>\n",
       "      <td>0</td>\n",
       "      <td>breakout</td>\n",
       "      <td>conv64_lin256</td>\n",
       "      <td>0.100</td>\n",
       "      <td>0</td>\n",
       "      <td>256</td>\n",
       "      <td>0</td>\n",
       "      <td>[tensor(88.4549), tensor(70.7537), tensor(23.8...</td>\n",
       "      <td>82.048416</td>\n",
       "      <td>1.000000</td>\n",
       "      <td>1.000000</td>\n",
       "      <td>mck_9</td>\n",
       "      <td>8</td>\n",
       "      <td>fc.0.weight</td>\n",
       "      <td>0.130208</td>\n",
       "      <td>1.910704e-03</td>\n",
       "      <td>0.214090</td>\n",
       "      <td>5.631881e-04</td>\n",
       "      <td>0.886116</td>\n",
       "      <td>8.296041e-87</td>\n",
       "    </tr>\n",
       "  </tbody>\n",
       "</table>\n",
       "<p>720 rows × 20 columns</p>\n",
       "</div>"
      ],
      "text/plain": [
       "    seed       env     experiment    tau  nr_only_redo  nr_intersect  \\\n",
       "0      0  breakout  conv32_lin128  0.025             8             7   \n",
       "1      0  breakout  conv32_lin128  0.100             0            32   \n",
       "2      0  breakout  conv32_lin128  0.025             1             0   \n",
       "3      0  breakout  conv32_lin128  0.100             0            32   \n",
       "4      0  breakout  conv32_lin128  0.025             3           107   \n",
       "..   ...       ...            ...    ...           ...           ...   \n",
       "85     0  breakout  conv64_lin256  0.100             0            64   \n",
       "86     0  breakout  conv64_lin256  0.025             5            51   \n",
       "87     0  breakout  conv64_lin256  0.100             0            64   \n",
       "88     0  breakout  conv64_lin256  0.025             0           249   \n",
       "89     0  breakout  conv64_lin256  0.100             0           256   \n",
       "\n",
       "    nr_only_pruning                                dead_neuron_l1norms  \\\n",
       "0                 8  [tensor(5.2725), tensor(7.1313), tensor(5.8596...   \n",
       "1                 0  [tensor(5.2725), tensor(6.3279), tensor(5.1877...   \n",
       "2                 1                                  [tensor(24.4055)]   \n",
       "3                 0  [tensor(24.4286), tensor(23.4283), tensor(25.0...   \n",
       "4                 3  [tensor(16.6022), tensor(17.7833), tensor(17.0...   \n",
       "..              ...                                                ...   \n",
       "85                0  [tensor(3.9821), tensor(11.9900), tensor(9.893...   \n",
       "86                5  [tensor(28.1476), tensor(20.0419), tensor(18.5...   \n",
       "87                0  [tensor(28.1476), tensor(20.0419), tensor(18.5...   \n",
       "88                0  [tensor(88.4549), tensor(70.7537), tensor(23.8...   \n",
       "89                0  [tensor(88.4549), tensor(70.7537), tensor(23.8...   \n",
       "\n",
       "    dead_neuron_l1norms_avg  dead_neuron_ratio  redo_l1norm_hamming  \\\n",
       "0                  5.660014           0.468750             0.218750   \n",
       "1                  5.581620           1.000000             1.000000   \n",
       "2                 24.405518           0.031250             0.000000   \n",
       "3                 25.009521           1.000000             1.000000   \n",
       "4                 23.476021           0.859375             0.835938   \n",
       "..                      ...                ...                  ...   \n",
       "85                 6.152067           1.000000             1.000000   \n",
       "86                22.560787           0.875000             0.796875   \n",
       "87                22.592314           1.000000             1.000000   \n",
       "88                73.199074           0.972656             0.972656   \n",
       "89                82.048416           1.000000             1.000000   \n",
       "\n",
       "   checkpoint  epoch              layer  kendall_r_corr  kendall_r_pval  \\\n",
       "0       mck_1      0  features.0.weight       -0.028226    8.343999e-01   \n",
       "1       mck_1      0  features.0.weight       -0.028226    8.343999e-01   \n",
       "2       mck_1      0  features.2.weight        0.165323    1.905990e-01   \n",
       "3       mck_1      0  features.2.weight        0.165323    1.905990e-01   \n",
       "4       mck_1      0        fc.0.weight        0.578494    3.498070e-22   \n",
       "..        ...    ...                ...             ...             ...   \n",
       "85      mck_9      8  features.0.weight        0.227183    7.966674e-03   \n",
       "86      mck_9      8  features.2.weight        0.078373    3.599857e-01   \n",
       "87      mck_9      8  features.2.weight        0.078373    3.599857e-01   \n",
       "88      mck_9      8        fc.0.weight        0.130208    1.910704e-03   \n",
       "89      mck_9      8        fc.0.weight        0.130208    1.910704e-03   \n",
       "\n",
       "    spearman_r_corr  spearman_r_pval  pearson_corr  pearson_pval  \n",
       "0         -0.068182     7.108004e-01     -0.129287  4.806682e-01  \n",
       "1         -0.068182     7.108004e-01     -0.129287  4.806682e-01  \n",
       "2          0.237903     1.898040e-01      0.607382  2.274038e-04  \n",
       "3          0.237903     1.898040e-01      0.607382  2.274038e-04  \n",
       "4          0.764890     7.911225e-26      0.945896  1.916674e-63  \n",
       "..              ...              ...           ...           ...  \n",
       "85         0.369643     2.646131e-03      0.706111  7.152227e-11  \n",
       "86         0.110073     3.865638e-01      0.285842  2.204080e-02  \n",
       "87         0.110073     3.865638e-01      0.285842  2.204080e-02  \n",
       "88         0.214090     5.631881e-04      0.886116  8.296041e-87  \n",
       "89         0.214090     5.631881e-04      0.886116  8.296041e-87  \n",
       "\n",
       "[720 rows x 20 columns]"
      ]
     },
     "execution_count": 35,
     "metadata": {},
     "output_type": "execute_result"
    }
   ],
   "source": [
    "# Collect all paths to models in a specified folder\n",
    "training_outputs_folder_path = os.path.join(\n",
    "    proj_root, \"experiments\", \"training\", \"outputs\"\n",
    ")\n",
    "pruning_outputs_folder_path = os.path.join(\n",
    "    proj_root, \"experiments\", \"pruning\", \"outputs\"\n",
    ")\n",
    "\n",
    "experiments_folder = os.path.join(\n",
    "    training_outputs_folder_path, training_timestamp_folder\n",
    ")\n",
    "\n",
    "experiment_paths = collect_training_output_files(\n",
    "    os.path.join(training_outputs_folder_path, training_timestamp_folder)\n",
    ")\n",
    "\n",
    "for exp in experiment_paths:\n",
    "    exp[\"models_folder_path\"] = os.path.dirname(exp[\"model_path\"])\n",
    "\n",
    "exp_analysis_results = []\n",
    "\n",
    "for exp_paths in experiment_paths:\n",
    "    exp_analysis_results.append(compare_redo_pruning(exp_paths))\n",
    "\n",
    "# concatenate the dataframes vertically\n",
    "df_res = pd.concat(exp_analysis_results)\n",
    "df_res"
   ]
  },
  {
   "cell_type": "code",
   "execution_count": 36,
   "metadata": {},
   "outputs": [
    {
     "data": {
      "text/plain": [
       "Text(0.5, 0.98, 'dead_neuron_ratio')"
      ]
     },
     "execution_count": 36,
     "metadata": {},
     "output_type": "execute_result"
    },
    {
     "data": {
      "image/png": "[encoded data removed]",
      "text/plain": [
       "<Figure size 1200x400 with 1 Axes>"
      ]
     },
     "metadata": {},
     "output_type": "display_data"
    }
   ],
   "source": [
    "metric_col = \"dead_neuron_ratio\"\n",
    "\n",
    "experiment_order = [\"conv8_lin32\", \"conv16_lin64\", \"conv32_lin128\", \"conv64_lin256\"]\n",
    "\n",
    "sub_df = df_res[df_res[\"tau\"] == 0.025]\n",
    "sub_df = sub_df[sub_df[\"env\"].isin(envs_to_keep)]\n",
    "\n",
    "# Compute the average metric between the seeds for each experiment\n",
    "avg_df = sub_df.groupby([\"env\", \"experiment\", \"epoch\", \"layer\"]).mean().reset_index()\n",
    "\n",
    "fig, ax = plt.subplots(figsize=(12, 4))\n",
    "\n",
    "sns.lineplot(\n",
    "    avg_df, x=\"epoch\", y=metric_col, hue=\"experiment\", hue_order=experiment_order, ax=ax\n",
    ")\n",
    "\n",
    "fig.suptitle(metric_col)"
   ]
  },
  {
   "cell_type": "code",
   "execution_count": 37,
   "metadata": {},
   "outputs": [
    {
     "data": {
      "application/vnd.plotly.v1+json": {
       "config": {
        "plotlyServerURL": "https://plot.ly"
       },
       "data": [
        {
         "alignmentgroup": "True",
         "hovertemplate": "Category=Only Redo<br>env=breakout<br>experiment=conv32_lin128<br>epoch=%{x}<br>Nr. Neurons=%{y}<extra></extra>",
         "legendgroup": "Only Redo",
         "marker": {
          "color": "#636efa",
          "pattern": {
           "shape": ""
          }
         },
         "name": "Only Redo",
         "offsetgroup": "Only Redo",
         "orientation": "v",
         "showlegend": true,
         "textposition": "auto",
         "type": "bar",
         "x": [
          0,
          9,
          10,
          11,
          12,
          13,
          14,
          1,
          2,
          3,
          4,
          5,
          6,
          7,
          8,
          0,
          9,
          10,
          11,
          12,
          13,
          14,
          1,
          2,
          3,
          4,
          5,
          6,
          7,
          8,
          0,
          9,
          10,
          11,
          12,
          13,
          14,
          1,
          2,
          3,
          4,
          5,
          6,
          7,
          8,
          0,
          9,
          10,
          11,
          12,
          13,
          14,
          1,
          2,
          3,
          4,
          5,
          6,
          7,
          8
         ],
         "xaxis": "x3",
         "y": [
          8,
          7,
          6,
          7,
          6,
          7,
          8,
          10,
          10,
          9,
          9,
          8,
          8,
          7,
          8,
          8,
          2,
          1,
          1,
          2,
          1,
          0,
          6,
          2,
          4,
          1,
          2,
          2,
          1,
          1,
          8,
          2,
          1,
          1,
          2,
          1,
          0,
          6,
          2,
          4,
          1,
          2,
          2,
          1,
          1,
          8,
          2,
          1,
          1,
          2,
          1,
          0,
          6,
          2,
          4,
          1,
          2,
          2,
          1,
          1
         ],
         "yaxis": "y3"
        },
        {
         "alignmentgroup": "True",
         "hovertemplate": "Category=Only Redo<br>env=breakout<br>experiment=conv64_lin256<br>epoch=%{x}<br>Nr. Neurons=%{y}<extra></extra>",
         "legendgroup": "Only Redo",
         "marker": {
          "color": "#636efa",
          "pattern": {
           "shape": ""
          }
         },
         "name": "Only Redo",
         "offsetgroup": "Only Redo",
         "orientation": "v",
         "showlegend": false,
         "textposition": "auto",
         "type": "bar",
         "x": [
          0,
          9,
          10,
          11,
          12,
          13,
          14,
          1,
          2,
          3,
          4,
          5,
          6,
          7,
          8,
          0,
          9,
          10,
          11,
          12,
          13,
          14,
          1,
          2,
          3,
          4,
          5,
          6,
          7,
          8,
          0,
          9,
          10,
          11,
          12,
          13,
          14,
          1,
          2,
          3,
          4,
          5,
          6,
          7,
          8,
          0,
          9,
          10,
          11,
          12,
          13,
          14,
          1,
          2,
          3,
          4,
          5,
          6,
          7,
          8
         ],
         "xaxis": "x4",
         "y": [
          10,
          8,
          7,
          10,
          6,
          12,
          12,
          10,
          7,
          7,
          6,
          7,
          6,
          8,
          7,
          10,
          2,
          0,
          0,
          0,
          0,
          0,
          6,
          6,
          3,
          4,
          1,
          2,
          1,
          1,
          10,
          2,
          0,
          0,
          0,
          0,
          0,
          6,
          6,
          3,
          4,
          1,
          2,
          1,
          1,
          10,
          2,
          0,
          0,
          0,
          0,
          0,
          6,
          6,
          3,
          4,
          1,
          2,
          1,
          1
         ],
         "yaxis": "y4"
        },
        {
         "alignmentgroup": "True",
         "hovertemplate": "Category=Intersect<br>env=breakout<br>experiment=conv32_lin128<br>epoch=%{x}<br>Nr. Neurons=%{y}<extra></extra>",
         "legendgroup": "Intersect",
         "marker": {
          "color": "#EF553B",
          "pattern": {
           "shape": ""
          }
         },
         "name": "Intersect",
         "offsetgroup": "Intersect",
         "orientation": "v",
         "showlegend": true,
         "textposition": "auto",
         "type": "bar",
         "x": [
          0,
          9,
          10,
          11,
          12,
          13,
          14,
          1,
          2,
          3,
          4,
          5,
          6,
          7,
          8,
          0,
          9,
          10,
          11,
          12,
          13,
          14,
          1,
          2,
          3,
          4,
          5,
          6,
          7,
          8,
          0,
          9,
          10,
          11,
          12,
          13,
          14,
          1,
          2,
          3,
          4,
          5,
          6,
          7,
          8,
          0,
          9,
          10,
          11,
          12,
          13,
          14,
          1,
          2,
          3,
          4,
          5,
          6,
          7,
          8
         ],
         "xaxis": "x3",
         "y": [
          7,
          8,
          8,
          8,
          9,
          8,
          8,
          5,
          6,
          7,
          6,
          7,
          6,
          9,
          7,
          7,
          8,
          10,
          10,
          11,
          13,
          14,
          4,
          7,
          6,
          9,
          9,
          8,
          9,
          10,
          7,
          8,
          10,
          10,
          11,
          13,
          14,
          4,
          7,
          6,
          9,
          9,
          8,
          9,
          10,
          7,
          8,
          10,
          10,
          11,
          13,
          14,
          4,
          7,
          6,
          9,
          9,
          8,
          9,
          10
         ],
         "yaxis": "y3"
        },
        {
         "alignmentgroup": "True",
         "hovertemplate": "Category=Intersect<br>env=breakout<br>experiment=conv64_lin256<br>epoch=%{x}<br>Nr. Neurons=%{y}<extra></extra>",
         "legendgroup": "Intersect",
         "marker": {
          "color": "#EF553B",
          "pattern": {
           "shape": ""
          }
         },
         "name": "Intersect",
         "offsetgroup": "Intersect",
         "orientation": "v",
         "showlegend": false,
         "textposition": "auto",
         "type": "bar",
         "x": [
          0,
          9,
          10,
          11,
          12,
          13,
          14,
          1,
          2,
          3,
          4,
          5,
          6,
          7,
          8,
          0,
          9,
          10,
          11,
          12,
          13,
          14,
          1,
          2,
          3,
          4,
          5,
          6,
          7,
          8,
          0,
          9,
          10,
          11,
          12,
          13,
          14,
          1,
          2,
          3,
          4,
          5,
          6,
          7,
          8,
          0,
          9,
          10,
          11,
          12,
          13,
          14,
          1,
          2,
          3,
          4,
          5,
          6,
          7,
          8
         ],
         "xaxis": "x4",
         "y": [
          41,
          46,
          49,
          43,
          50,
          39,
          40,
          40,
          47,
          47,
          49,
          49,
          50,
          47,
          49,
          41,
          47,
          49,
          49,
          49,
          49,
          49,
          46,
          46,
          47,
          44,
          47,
          48,
          49,
          48,
          41,
          47,
          49,
          49,
          49,
          49,
          49,
          46,
          46,
          47,
          44,
          47,
          48,
          49,
          48,
          41,
          47,
          49,
          49,
          49,
          49,
          49,
          46,
          46,
          47,
          44,
          47,
          48,
          49,
          48
         ],
         "yaxis": "y4"
        },
        {
         "alignmentgroup": "True",
         "hovertemplate": "Category=Only Pruning<br>env=breakout<br>experiment=conv32_lin128<br>epoch=%{x}<br>Nr. Neurons=%{y}<extra></extra>",
         "legendgroup": "Only Pruning",
         "marker": {
          "color": "#00cc96",
          "pattern": {
           "shape": ""
          }
         },
         "name": "Only Pruning",
         "offsetgroup": "Only Pruning",
         "orientation": "v",
         "showlegend": true,
         "textposition": "auto",
         "type": "bar",
         "x": [
          0,
          9,
          10,
          11,
          12,
          13,
          14,
          1,
          2,
          3,
          4,
          5,
          6,
          7,
          8,
          0,
          9,
          10,
          11,
          12,
          13,
          14,
          1,
          2,
          3,
          4,
          5,
          6,
          7,
          8,
          0,
          9,
          10,
          11,
          12,
          13,
          14,
          1,
          2,
          3,
          4,
          5,
          6,
          7,
          8,
          0,
          9,
          10,
          11,
          12,
          13,
          14,
          1,
          2,
          3,
          4,
          5,
          6,
          7,
          8
         ],
         "xaxis": "x3",
         "y": [
          8,
          7,
          6,
          7,
          6,
          7,
          8,
          10,
          10,
          9,
          9,
          8,
          8,
          7,
          8,
          8,
          2,
          1,
          1,
          2,
          1,
          0,
          6,
          2,
          4,
          1,
          2,
          2,
          1,
          1,
          8,
          2,
          1,
          1,
          2,
          1,
          0,
          6,
          2,
          4,
          1,
          2,
          2,
          1,
          1,
          8,
          2,
          1,
          1,
          2,
          1,
          0,
          6,
          2,
          4,
          1,
          2,
          2,
          1,
          1
         ],
         "yaxis": "y3"
        },
        {
         "alignmentgroup": "True",
         "hovertemplate": "Category=Only Pruning<br>env=breakout<br>experiment=conv64_lin256<br>epoch=%{x}<br>Nr. Neurons=%{y}<extra></extra>",
         "legendgroup": "Only Pruning",
         "marker": {
          "color": "#00cc96",
          "pattern": {
           "shape": ""
          }
         },
         "name": "Only Pruning",
         "offsetgroup": "Only Pruning",
         "orientation": "v",
         "showlegend": false,
         "textposition": "auto",
         "type": "bar",
         "x": [
          0,
          9,
          10,
          11,
          12,
          13,
          14,
          1,
          2,
          3,
          4,
          5,
          6,
          7,
          8,
          0,
          9,
          10,
          11,
          12,
          13,
          14,
          1,
          2,
          3,
          4,
          5,
          6,
          7,
          8,
          0,
          9,
          10,
          11,
          12,
          13,
          14,
          1,
          2,
          3,
          4,
          5,
          6,
          7,
          8,
          0,
          9,
          10,
          11,
          12,
          13,
          14,
          1,
          2,
          3,
          4,
          5,
          6,
          7,
          8
         ],
         "xaxis": "x4",
         "y": [
          10,
          8,
          7,
          10,
          6,
          12,
          12,
          10,
          7,
          7,
          6,
          7,
          6,
          8,
          7,
          10,
          2,
          0,
          0,
          0,
          0,
          0,
          6,
          6,
          3,
          4,
          1,
          2,
          1,
          1,
          10,
          2,
          0,
          0,
          0,
          0,
          0,
          6,
          6,
          3,
          4,
          1,
          2,
          1,
          1,
          10,
          2,
          0,
          0,
          0,
          0,
          0,
          6,
          6,
          3,
          4,
          1,
          2,
          1,
          1
         ],
         "yaxis": "y4"
        }
       ],
       "layout": {
        "annotations": [
         {
          "font": {
           "size": 18
          },
          "showarrow": false,
          "text": "experiment=conv8_lin32",
          "x": 0.11499999999999999,
          "xanchor": "center",
          "xref": "paper",
          "y": 1,
          "yanchor": "bottom",
          "yref": "paper"
         },
         {
          "font": {
           "size": 18
          },
          "showarrow": false,
          "text": "experiment=conv16_lin64",
          "x": 0.365,
          "xanchor": "center",
          "xref": "paper",
          "y": 1,
          "yanchor": "bottom",
          "yref": "paper"
         },
         {
          "font": {
           "size": 18
          },
          "showarrow": false,
          "text": "experiment=conv32_lin128",
          "x": 0.615,
          "xanchor": "center",
          "xref": "paper",
          "y": 1,
          "yanchor": "bottom",
          "yref": "paper"
         },
         {
          "font": {
           "size": 18
          },
          "showarrow": false,
          "text": "experiment=conv64_lin256",
          "x": 0.865,
          "xanchor": "center",
          "xref": "paper",
          "y": 1,
          "yanchor": "bottom",
          "yref": "paper"
         },
         {
          "font": {
           "size": 18
          },
          "showarrow": false,
          "text": "env=breakout",
          "textangle": 90,
          "x": 0.98,
          "xanchor": "left",
          "xref": "paper",
          "y": 0.5,
          "yanchor": "middle",
          "yref": "paper"
         }
        ],
        "barmode": "relative",
        "height": 600,
        "legend": {
         "font": {
          "size": 16
         },
         "title": {
          "font": {
           "size": 18
          },
          "text": "Category"
         },
         "tracegroupgap": 0
        },
        "margin": {
         "t": 60
        },
        "template": {
         "data": {
          "bar": [
           {
            "error_x": {
             "color": "#2a3f5f"
            },
            "error_y": {
             "color": "#2a3f5f"
            },
            "marker": {
             "line": {
              "color": "#E5ECF6",
              "width": 0.5
             },
             "pattern": {
              "fillmode": "overlay",
              "size": 10,
              "solidity": 0.2
             }
            },
            "type": "bar"
           }
          ],
          "barpolar": [
           {
            "marker": {
             "line": {
              "color": "#E5ECF6",
              "width": 0.5
             },
             "pattern": {
              "fillmode": "overlay",
              "size": 10,
              "solidity": 0.2
             }
            },
            "type": "barpolar"
           }
          ],
          "carpet": [
           {
            "aaxis": {
             "endlinecolor": "#2a3f5f",
             "gridcolor": "white",
             "linecolor": "white",
             "minorgridcolor": "white",
             "startlinecolor": "#2a3f5f"
            },
            "baxis": {
             "endlinecolor": "#2a3f5f",
             "gridcolor": "white",
             "linecolor": "white",
             "minorgridcolor": "white",
             "startlinecolor": "#2a3f5f"
            },
            "type": "carpet"
           }
          ],
          "choropleth": [
           {
            "colorbar": {
             "outlinewidth": 0,
             "ticks": ""
            },
            "type": "choropleth"
           }
          ],
          "contour": [
           {
            "colorbar": {
             "outlinewidth": 0,
             "ticks": ""
            },
            "colorscale": [
             [
              0,
              "#0d0887"
             ],
             [
              0.1111111111111111,
              "#46039f"
             ],
             [
              0.2222222222222222,
              "#7201a8"
             ],
             [
              0.3333333333333333,
              "#9c179e"
             ],
             [
              0.4444444444444444,
              "#bd3786"
             ],
             [
              0.5555555555555556,
              "#d8576b"
             ],
             [
              0.6666666666666666,
              "#ed7953"
             ],
             [
              0.7777777777777778,
              "#fb9f3a"
             ],
             [
              0.8888888888888888,
              "#fdca26"
             ],
             [
              1,
              "#f0f921"
             ]
            ],
            "type": "contour"
           }
          ],
          "contourcarpet": [
           {
            "colorbar": {
             "outlinewidth": 0,
             "ticks": ""
            },
            "type": "contourcarpet"
           }
          ],
          "heatmap": [
           {
            "colorbar": {
             "outlinewidth": 0,
             "ticks": ""
            },
            "colorscale": [
             [
              0,
              "#0d0887"
             ],
             [
              0.1111111111111111,
              "#46039f"
             ],
             [
              0.2222222222222222,
              "#7201a8"
             ],
             [
              0.3333333333333333,
              "#9c179e"
             ],
             [
              0.4444444444444444,
              "#bd3786"
             ],
             [
              0.5555555555555556,
              "#d8576b"
             ],
             [
              0.6666666666666666,
              "#ed7953"
             ],
             [
              0.7777777777777778,
              "#fb9f3a"
             ],
             [
              0.8888888888888888,
              "#fdca26"
             ],
             [
              1,
              "#f0f921"
             ]
            ],
            "type": "heatmap"
           }
          ],
          "heatmapgl": [
           {
            "colorbar": {
             "outlinewidth": 0,
             "ticks": ""
            },
            "colorscale": [
             [
              0,
              "#0d0887"
             ],
             [
              0.1111111111111111,
              "#46039f"
             ],
             [
              0.2222222222222222,
              "#7201a8"
             ],
             [
              0.3333333333333333,
              "#9c179e"
             ],
             [
              0.4444444444444444,
              "#bd3786"
             ],
             [
              0.5555555555555556,
              "#d8576b"
             ],
             [
              0.6666666666666666,
              "#ed7953"
             ],
             [
              0.7777777777777778,
              "#fb9f3a"
             ],
             [
              0.8888888888888888,
              "#fdca26"
             ],
             [
              1,
              "#f0f921"
             ]
            ],
            "type": "heatmapgl"
           }
          ],
          "histogram": [
           {
            "marker": {
             "pattern": {
              "fillmode": "overlay",
              "size": 10,
              "solidity": 0.2
             }
            },
            "type": "histogram"
           }
          ],
          "histogram2d": [
           {
            "colorbar": {
             "outlinewidth": 0,
             "ticks": ""
            },
            "colorscale": [
             [
              0,
              "#0d0887"
             ],
             [
              0.1111111111111111,
              "#46039f"
             ],
             [
              0.2222222222222222,
              "#7201a8"
             ],
             [
              0.3333333333333333,
              "#9c179e"
             ],
             [
              0.4444444444444444,
              "#bd3786"
             ],
             [
              0.5555555555555556,
              "#d8576b"
             ],
             [
              0.6666666666666666,
              "#ed7953"
             ],
             [
              0.7777777777777778,
              "#fb9f3a"
             ],
             [
              0.8888888888888888,
              "#fdca26"
             ],
             [
              1,
              "#f0f921"
             ]
            ],
            "type": "histogram2d"
           }
          ],
          "histogram2dcontour": [
           {
            "colorbar": {
             "outlinewidth": 0,
             "ticks": ""
            },
            "colorscale": [
             [
              0,
              "#0d0887"
             ],
             [
              0.1111111111111111,
              "#46039f"
             ],
             [
              0.2222222222222222,
              "#7201a8"
             ],
             [
              0.3333333333333333,
              "#9c179e"
             ],
             [
              0.4444444444444444,
              "#bd3786"
             ],
             [
              0.5555555555555556,
              "#d8576b"
             ],
             [
              0.6666666666666666,
              "#ed7953"
             ],
             [
              0.7777777777777778,
              "#fb9f3a"
             ],
             [
              0.8888888888888888,
              "#fdca26"
             ],
             [
              1,
              "#f0f921"
             ]
            ],
            "type": "histogram2dcontour"
           }
          ],
          "mesh3d": [
           {
            "colorbar": {
             "outlinewidth": 0,
             "ticks": ""
            },
            "type": "mesh3d"
           }
          ],
          "parcoords": [
           {
            "line": {
             "colorbar": {
              "outlinewidth": 0,
              "ticks": ""
             }
            },
            "type": "parcoords"
           }
          ],
          "pie": [
           {
            "automargin": true,
            "type": "pie"
           }
          ],
          "scatter": [
           {
            "fillpattern": {
             "fillmode": "overlay",
             "size": 10,
             "solidity": 0.2
            },
            "type": "scatter"
           }
          ],
          "scatter3d": [
           {
            "line": {
             "colorbar": {
              "outlinewidth": 0,
              "ticks": ""
             }
            },
            "marker": {
             "colorbar": {
              "outlinewidth": 0,
              "ticks": ""
             }
            },
            "type": "scatter3d"
           }
          ],
          "scattercarpet": [
           {
            "marker": {
             "colorbar": {
              "outlinewidth": 0,
              "ticks": ""
             }
            },
            "type": "scattercarpet"
           }
          ],
          "scattergeo": [
           {
            "marker": {
             "colorbar": {
              "outlinewidth": 0,
              "ticks": ""
             }
            },
            "type": "scattergeo"
           }
          ],
          "scattergl": [
           {
            "marker": {
             "colorbar": {
              "outlinewidth": 0,
              "ticks": ""
             }
            },
            "type": "scattergl"
           }
          ],
          "scattermapbox": [
           {
            "marker": {
             "colorbar": {
              "outlinewidth": 0,
              "ticks": ""
             }
            },
            "type": "scattermapbox"
           }
          ],
          "scatterpolar": [
           {
            "marker": {
             "colorbar": {
              "outlinewidth": 0,
              "ticks": ""
             }
            },
            "type": "scatterpolar"
           }
          ],
          "scatterpolargl": [
           {
            "marker": {
             "colorbar": {
              "outlinewidth": 0,
              "ticks": ""
             }
            },
            "type": "scatterpolargl"
           }
          ],
          "scatterternary": [
           {
            "marker": {
             "colorbar": {
              "outlinewidth": 0,
              "ticks": ""
             }
            },
            "type": "scatterternary"
           }
          ],
          "surface": [
           {
            "colorbar": {
             "outlinewidth": 0,
             "ticks": ""
            },
            "colorscale": [
             [
              0,
              "#0d0887"
             ],
             [
              0.1111111111111111,
              "#46039f"
             ],
             [
              0.2222222222222222,
              "#7201a8"
             ],
             [
              0.3333333333333333,
              "#9c179e"
             ],
             [
              0.4444444444444444,
              "#bd3786"
             ],
             [
              0.5555555555555556,
              "#d8576b"
             ],
             [
              0.6666666666666666,
              "#ed7953"
             ],
             [
              0.7777777777777778,
              "#fb9f3a"
             ],
             [
              0.8888888888888888,
              "#fdca26"
             ],
             [
              1,
              "#f0f921"
             ]
            ],
            "type": "surface"
           }
          ],
          "table": [
           {
            "cells": {
             "fill": {
              "color": "#EBF0F8"
             },
             "line": {
              "color": "white"
             }
            },
            "header": {
             "fill": {
              "color": "#C8D4E3"
             },
             "line": {
              "color": "white"
             }
            },
            "type": "table"
           }
          ]
         },
         "layout": {
          "annotationdefaults": {
           "arrowcolor": "#2a3f5f",
           "arrowhead": 0,
           "arrowwidth": 1
          },
          "autotypenumbers": "strict",
          "coloraxis": {
           "colorbar": {
            "outlinewidth": 0,
            "ticks": ""
           }
          },
          "colorscale": {
           "diverging": [
            [
             0,
             "#8e0152"
            ],
            [
             0.1,
             "#c51b7d"
            ],
            [
             0.2,
             "#de77ae"
            ],
            [
             0.3,
             "#f1b6da"
            ],
            [
             0.4,
             "#fde0ef"
            ],
            [
             0.5,
             "#f7f7f7"
            ],
            [
             0.6,
             "#e6f5d0"
            ],
            [
             0.7,
             "#b8e186"
            ],
            [
             0.8,
             "#7fbc41"
            ],
            [
             0.9,
             "#4d9221"
            ],
            [
             1,
             "#276419"
            ]
           ],
           "sequential": [
            [
             0,
             "#0d0887"
            ],
            [
             0.1111111111111111,
             "#46039f"
            ],
            [
             0.2222222222222222,
             "#7201a8"
            ],
            [
             0.3333333333333333,
             "#9c179e"
            ],
            [
             0.4444444444444444,
             "#bd3786"
            ],
            [
             0.5555555555555556,
             "#d8576b"
            ],
            [
             0.6666666666666666,
             "#ed7953"
            ],
            [
             0.7777777777777778,
             "#fb9f3a"
            ],
            [
             0.8888888888888888,
             "#fdca26"
            ],
            [
             1,
             "#f0f921"
            ]
           ],
           "sequentialminus": [
            [
             0,
             "#0d0887"
            ],
            [
             0.1111111111111111,
             "#46039f"
            ],
            [
             0.2222222222222222,
             "#7201a8"
            ],
            [
             0.3333333333333333,
             "#9c179e"
            ],
            [
             0.4444444444444444,
             "#bd3786"
            ],
            [
             0.5555555555555556,
             "#d8576b"
            ],
            [
             0.6666666666666666,
             "#ed7953"
            ],
            [
             0.7777777777777778,
             "#fb9f3a"
            ],
            [
             0.8888888888888888,
             "#fdca26"
            ],
            [
             1,
             "#f0f921"
            ]
           ]
          },
          "colorway": [
           "#636efa",
           "#EF553B",
           "#00cc96",
           "#ab63fa",
           "#FFA15A",
           "#19d3f3",
           "#FF6692",
           "#B6E880",
           "#FF97FF",
           "#FECB52"
          ],
          "font": {
           "color": "#2a3f5f"
          },
          "geo": {
           "bgcolor": "white",
           "lakecolor": "white",
           "landcolor": "#E5ECF6",
           "showlakes": true,
           "showland": true,
           "subunitcolor": "white"
          },
          "hoverlabel": {
           "align": "left"
          },
          "hovermode": "closest",
          "mapbox": {
           "style": "light"
          },
          "paper_bgcolor": "white",
          "plot_bgcolor": "#E5ECF6",
          "polar": {
           "angularaxis": {
            "gridcolor": "white",
            "linecolor": "white",
            "ticks": ""
           },
           "bgcolor": "#E5ECF6",
           "radialaxis": {
            "gridcolor": "white",
            "linecolor": "white",
            "ticks": ""
           }
          },
          "scene": {
           "xaxis": {
            "backgroundcolor": "#E5ECF6",
            "gridcolor": "white",
            "gridwidth": 2,
            "linecolor": "white",
            "showbackground": true,
            "ticks": "",
            "zerolinecolor": "white"
           },
           "yaxis": {
            "backgroundcolor": "#E5ECF6",
            "gridcolor": "white",
            "gridwidth": 2,
            "linecolor": "white",
            "showbackground": true,
            "ticks": "",
            "zerolinecolor": "white"
           },
           "zaxis": {
            "backgroundcolor": "#E5ECF6",
            "gridcolor": "white",
            "gridwidth": 2,
            "linecolor": "white",
            "showbackground": true,
            "ticks": "",
            "zerolinecolor": "white"
           }
          },
          "shapedefaults": {
           "line": {
            "color": "#2a3f5f"
           }
          },
          "ternary": {
           "aaxis": {
            "gridcolor": "white",
            "linecolor": "white",
            "ticks": ""
           },
           "baxis": {
            "gridcolor": "white",
            "linecolor": "white",
            "ticks": ""
           },
           "bgcolor": "#E5ECF6",
           "caxis": {
            "gridcolor": "white",
            "linecolor": "white",
            "ticks": ""
           }
          },
          "title": {
           "x": 0.05
          },
          "xaxis": {
           "automargin": true,
           "gridcolor": "white",
           "linecolor": "white",
           "ticks": "",
           "title": {
            "standoff": 15
           },
           "zerolinecolor": "white",
           "zerolinewidth": 2
          },
          "yaxis": {
           "automargin": true,
           "gridcolor": "white",
           "linecolor": "white",
           "ticks": "",
           "title": {
            "standoff": 15
           },
           "zerolinecolor": "white",
           "zerolinewidth": 2
          }
         }
        },
        "title": {
         "font": {
          "size": 24
         },
         "text": "Redo and Norm overlap - Layer features.0.weight"
        },
        "width": 1500,
        "xaxis": {
         "anchor": "y",
         "domain": [
          0,
          0.22999999999999998
         ],
         "title": {
          "text": "epoch"
         }
        },
        "xaxis2": {
         "anchor": "y2",
         "domain": [
          0.24999999999999997,
          0.48
         ],
         "matches": "x",
         "title": {
          "text": "epoch"
         }
        },
        "xaxis3": {
         "anchor": "y3",
         "domain": [
          0.49999999999999994,
          0.73
         ],
         "matches": "x",
         "title": {
          "text": "epoch"
         }
        },
        "xaxis4": {
         "anchor": "y4",
         "domain": [
          0.75,
          0.98
         ],
         "matches": "x",
         "title": {
          "text": "epoch"
         }
        },
        "yaxis": {
         "anchor": "x",
         "domain": [
          0,
          1
         ],
         "showticklabels": true,
         "title": {
          "text": "Nr. Neurons"
         }
        },
        "yaxis2": {
         "anchor": "x2",
         "domain": [
          0,
          1
         ],
         "showticklabels": true
        },
        "yaxis3": {
         "anchor": "x3",
         "domain": [
          0,
          1
         ],
         "showticklabels": true
        },
        "yaxis4": {
         "anchor": "x4",
         "domain": [
          0,
          1
         ],
         "showticklabels": true
        }
       }
      }
     },
     "metadata": {},
     "output_type": "display_data"
    },
    {
     "data": {
      "application/vnd.plotly.v1+json": {
       "config": {
        "plotlyServerURL": "https://plot.ly"
       },
       "data": [
        {
         "alignmentgroup": "True",
         "hovertemplate": "Category=Only Redo<br>env=breakout<br>experiment=conv32_lin128<br>epoch=%{x}<br>Nr. Neurons=%{y}<extra></extra>",
         "legendgroup": "Only Redo",
         "marker": {
          "color": "#636efa",
          "pattern": {
           "shape": ""
          }
         },
         "name": "Only Redo",
         "offsetgroup": "Only Redo",
         "orientation": "v",
         "showlegend": true,
         "textposition": "auto",
         "type": "bar",
         "x": [
          0,
          9,
          10,
          11,
          12,
          13,
          14,
          1,
          2,
          3,
          4,
          5,
          6,
          7,
          8,
          0,
          9,
          10,
          11,
          12,
          13,
          14,
          1,
          2,
          3,
          4,
          5,
          6,
          7,
          8,
          0,
          9,
          10,
          11,
          12,
          13,
          14,
          1,
          2,
          3,
          4,
          5,
          6,
          7,
          8,
          0,
          9,
          10,
          11,
          12,
          13,
          14,
          1,
          2,
          3,
          4,
          5,
          6,
          7,
          8
         ],
         "xaxis": "x3",
         "y": [
          1,
          7,
          7,
          7,
          6,
          7,
          6,
          5,
          1,
          5,
          5,
          6,
          8,
          6,
          6,
          1,
          0,
          0,
          0,
          1,
          0,
          0,
          4,
          4,
          3,
          1,
          0,
          3,
          1,
          0,
          1,
          0,
          0,
          0,
          1,
          0,
          0,
          4,
          4,
          3,
          1,
          0,
          3,
          1,
          0,
          1,
          0,
          0,
          0,
          1,
          0,
          0,
          4,
          4,
          3,
          1,
          0,
          3,
          1,
          0
         ],
         "yaxis": "y3"
        },
        {
         "alignmentgroup": "True",
         "hovertemplate": "Category=Only Redo<br>env=breakout<br>experiment=conv64_lin256<br>epoch=%{x}<br>Nr. Neurons=%{y}<extra></extra>",
         "legendgroup": "Only Redo",
         "marker": {
          "color": "#636efa",
          "pattern": {
           "shape": ""
          }
         },
         "name": "Only Redo",
         "offsetgroup": "Only Redo",
         "orientation": "v",
         "showlegend": false,
         "textposition": "auto",
         "type": "bar",
         "x": [
          0,
          9,
          10,
          11,
          12,
          13,
          14,
          1,
          2,
          3,
          4,
          5,
          6,
          7,
          8,
          0,
          9,
          10,
          11,
          12,
          13,
          14,
          1,
          2,
          3,
          4,
          5,
          6,
          7,
          8,
          0,
          9,
          10,
          11,
          12,
          13,
          14,
          1,
          2,
          3,
          4,
          5,
          6,
          7,
          8,
          0,
          9,
          10,
          11,
          12,
          13,
          14,
          1,
          2,
          3,
          4,
          5,
          6,
          7,
          8
         ],
         "xaxis": "x4",
         "y": [
          1,
          1,
          2,
          4,
          3,
          7,
          4,
          1,
          2,
          1,
          1,
          1,
          1,
          1,
          2,
          1,
          3,
          4,
          4,
          3,
          3,
          2,
          4,
          6,
          6,
          9,
          6,
          6,
          6,
          5,
          1,
          3,
          4,
          4,
          3,
          3,
          2,
          4,
          6,
          6,
          9,
          6,
          6,
          6,
          5,
          1,
          3,
          4,
          4,
          3,
          3,
          2,
          4,
          6,
          6,
          9,
          6,
          6,
          6,
          5
         ],
         "yaxis": "y4"
        },
        {
         "alignmentgroup": "True",
         "hovertemplate": "Category=Intersect<br>env=breakout<br>experiment=conv32_lin128<br>epoch=%{x}<br>Nr. Neurons=%{y}<extra></extra>",
         "legendgroup": "Intersect",
         "marker": {
          "color": "#EF553B",
          "pattern": {
           "shape": ""
          }
         },
         "name": "Intersect",
         "offsetgroup": "Intersect",
         "orientation": "v",
         "showlegend": true,
         "textposition": "auto",
         "type": "bar",
         "x": [
          0,
          9,
          10,
          11,
          12,
          13,
          14,
          1,
          2,
          3,
          4,
          5,
          6,
          7,
          8,
          0,
          9,
          10,
          11,
          12,
          13,
          14,
          1,
          2,
          3,
          4,
          5,
          6,
          7,
          8,
          0,
          9,
          10,
          11,
          12,
          13,
          14,
          1,
          2,
          3,
          4,
          5,
          6,
          7,
          8,
          0,
          9,
          10,
          11,
          12,
          13,
          14,
          1,
          2,
          3,
          4,
          5,
          6,
          7,
          8
         ],
         "xaxis": "x3",
         "y": [
          0,
          2,
          3,
          5,
          3,
          6,
          5,
          0,
          1,
          0,
          0,
          0,
          3,
          1,
          1,
          0,
          17,
          17,
          17,
          17,
          18,
          18,
          5,
          6,
          8,
          13,
          14,
          14,
          15,
          17,
          0,
          17,
          17,
          17,
          17,
          18,
          18,
          5,
          6,
          8,
          13,
          14,
          14,
          15,
          17,
          0,
          17,
          17,
          17,
          17,
          18,
          18,
          5,
          6,
          8,
          13,
          14,
          14,
          15,
          17
         ],
         "yaxis": "y3"
        },
        {
         "alignmentgroup": "True",
         "hovertemplate": "Category=Intersect<br>env=breakout<br>experiment=conv64_lin256<br>epoch=%{x}<br>Nr. Neurons=%{y}<extra></extra>",
         "legendgroup": "Intersect",
         "marker": {
          "color": "#EF553B",
          "pattern": {
           "shape": ""
          }
         },
         "name": "Intersect",
         "offsetgroup": "Intersect",
         "orientation": "v",
         "showlegend": false,
         "textposition": "auto",
         "type": "bar",
         "x": [
          0,
          9,
          10,
          11,
          12,
          13,
          14,
          1,
          2,
          3,
          4,
          5,
          6,
          7,
          8,
          0,
          9,
          10,
          11,
          12,
          13,
          14,
          1,
          2,
          3,
          4,
          5,
          6,
          7,
          8,
          0,
          9,
          10,
          11,
          12,
          13,
          14,
          1,
          2,
          3,
          4,
          5,
          6,
          7,
          8,
          0,
          9,
          10,
          11,
          12,
          13,
          14,
          1,
          2,
          3,
          4,
          5,
          6,
          7,
          8
         ],
         "xaxis": "x4",
         "y": [
          61,
          59,
          56,
          56,
          56,
          49,
          56,
          60,
          60,
          60,
          60,
          61,
          58,
          59,
          58,
          61,
          54,
          52,
          52,
          53,
          53,
          54,
          56,
          51,
          52,
          45,
          49,
          49,
          49,
          51,
          61,
          54,
          52,
          52,
          53,
          53,
          54,
          56,
          51,
          52,
          45,
          49,
          49,
          49,
          51,
          61,
          54,
          52,
          52,
          53,
          53,
          54,
          56,
          51,
          52,
          45,
          49,
          49,
          49,
          51
         ],
         "yaxis": "y4"
        },
        {
         "alignmentgroup": "True",
         "hovertemplate": "Category=Only Pruning<br>env=breakout<br>experiment=conv32_lin128<br>epoch=%{x}<br>Nr. Neurons=%{y}<extra></extra>",
         "legendgroup": "Only Pruning",
         "marker": {
          "color": "#00cc96",
          "pattern": {
           "shape": ""
          }
         },
         "name": "Only Pruning",
         "offsetgroup": "Only Pruning",
         "orientation": "v",
         "showlegend": true,
         "textposition": "auto",
         "type": "bar",
         "x": [
          0,
          9,
          10,
          11,
          12,
          13,
          14,
          1,
          2,
          3,
          4,
          5,
          6,
          7,
          8,
          0,
          9,
          10,
          11,
          12,
          13,
          14,
          1,
          2,
          3,
          4,
          5,
          6,
          7,
          8,
          0,
          9,
          10,
          11,
          12,
          13,
          14,
          1,
          2,
          3,
          4,
          5,
          6,
          7,
          8,
          0,
          9,
          10,
          11,
          12,
          13,
          14,
          1,
          2,
          3,
          4,
          5,
          6,
          7,
          8
         ],
         "xaxis": "x3",
         "y": [
          1,
          7,
          7,
          7,
          6,
          7,
          6,
          5,
          1,
          5,
          5,
          6,
          8,
          6,
          6,
          1,
          0,
          0,
          0,
          1,
          0,
          0,
          4,
          4,
          3,
          1,
          0,
          3,
          1,
          0,
          1,
          0,
          0,
          0,
          1,
          0,
          0,
          4,
          4,
          3,
          1,
          0,
          3,
          1,
          0,
          1,
          0,
          0,
          0,
          1,
          0,
          0,
          4,
          4,
          3,
          1,
          0,
          3,
          1,
          0
         ],
         "yaxis": "y3"
        },
        {
         "alignmentgroup": "True",
         "hovertemplate": "Category=Only Pruning<br>env=breakout<br>experiment=conv64_lin256<br>epoch=%{x}<br>Nr. Neurons=%{y}<extra></extra>",
         "legendgroup": "Only Pruning",
         "marker": {
          "color": "#00cc96",
          "pattern": {
           "shape": ""
          }
         },
         "name": "Only Pruning",
         "offsetgroup": "Only Pruning",
         "orientation": "v",
         "showlegend": false,
         "textposition": "auto",
         "type": "bar",
         "x": [
          0,
          9,
          10,
          11,
          12,
          13,
          14,
          1,
          2,
          3,
          4,
          5,
          6,
          7,
          8,
          0,
          9,
          10,
          11,
          12,
          13,
          14,
          1,
          2,
          3,
          4,
          5,
          6,
          7,
          8,
          0,
          9,
          10,
          11,
          12,
          13,
          14,
          1,
          2,
          3,
          4,
          5,
          6,
          7,
          8,
          0,
          9,
          10,
          11,
          12,
          13,
          14,
          1,
          2,
          3,
          4,
          5,
          6,
          7,
          8
         ],
         "xaxis": "x4",
         "y": [
          1,
          1,
          2,
          4,
          3,
          7,
          4,
          1,
          2,
          1,
          1,
          1,
          1,
          1,
          2,
          1,
          3,
          4,
          4,
          3,
          3,
          2,
          4,
          6,
          6,
          9,
          6,
          6,
          6,
          5,
          1,
          3,
          4,
          4,
          3,
          3,
          2,
          4,
          6,
          6,
          9,
          6,
          6,
          6,
          5,
          1,
          3,
          4,
          4,
          3,
          3,
          2,
          4,
          6,
          6,
          9,
          6,
          6,
          6,
          5
         ],
         "yaxis": "y4"
        }
       ],
       "layout": {
        "annotations": [
         {
          "font": {
           "size": 18
          },
          "showarrow": false,
          "text": "experiment=conv8_lin32",
          "x": 0.11499999999999999,
          "xanchor": "center",
          "xref": "paper",
          "y": 1,
          "yanchor": "bottom",
          "yref": "paper"
         },
         {
          "font": {
           "size": 18
          },
          "showarrow": false,
          "text": "experiment=conv16_lin64",
          "x": 0.365,
          "xanchor": "center",
          "xref": "paper",
          "y": 1,
          "yanchor": "bottom",
          "yref": "paper"
         },
         {
          "font": {
           "size": 18
          },
          "showarrow": false,
          "text": "experiment=conv32_lin128",
          "x": 0.615,
          "xanchor": "center",
          "xref": "paper",
          "y": 1,
          "yanchor": "bottom",
          "yref": "paper"
         },
         {
          "font": {
           "size": 18
          },
          "showarrow": false,
          "text": "experiment=conv64_lin256",
          "x": 0.865,
          "xanchor": "center",
          "xref": "paper",
          "y": 1,
          "yanchor": "bottom",
          "yref": "paper"
         },
         {
          "font": {
           "size": 18
          },
          "showarrow": false,
          "text": "env=breakout",
          "textangle": 90,
          "x": 0.98,
          "xanchor": "left",
          "xref": "paper",
          "y": 0.5,
          "yanchor": "middle",
          "yref": "paper"
         }
        ],
        "barmode": "relative",
        "height": 600,
        "legend": {
         "font": {
          "size": 16
         },
         "title": {
          "font": {
           "size": 18
          },
          "text": "Category"
         },
         "tracegroupgap": 0
        },
        "margin": {
         "t": 60
        },
        "template": {
         "data": {
          "bar": [
           {
            "error_x": {
             "color": "#2a3f5f"
            },
            "error_y": {
             "color": "#2a3f5f"
            },
            "marker": {
             "line": {
              "color": "#E5ECF6",
              "width": 0.5
             },
             "pattern": {
              "fillmode": "overlay",
              "size": 10,
              "solidity": 0.2
             }
            },
            "type": "bar"
           }
          ],
          "barpolar": [
           {
            "marker": {
             "line": {
              "color": "#E5ECF6",
              "width": 0.5
             },
             "pattern": {
              "fillmode": "overlay",
              "size": 10,
              "solidity": 0.2
             }
            },
            "type": "barpolar"
           }
          ],
          "carpet": [
           {
            "aaxis": {
             "endlinecolor": "#2a3f5f",
             "gridcolor": "white",
             "linecolor": "white",
             "minorgridcolor": "white",
             "startlinecolor": "#2a3f5f"
            },
            "baxis": {
             "endlinecolor": "#2a3f5f",
             "gridcolor": "white",
             "linecolor": "white",
             "minorgridcolor": "white",
             "startlinecolor": "#2a3f5f"
            },
            "type": "carpet"
           }
          ],
          "choropleth": [
           {
            "colorbar": {
             "outlinewidth": 0,
             "ticks": ""
            },
            "type": "choropleth"
           }
          ],
          "contour": [
           {
            "colorbar": {
             "outlinewidth": 0,
             "ticks": ""
            },
            "colorscale": [
             [
              0,
              "#0d0887"
             ],
             [
              0.1111111111111111,
              "#46039f"
             ],
             [
              0.2222222222222222,
              "#7201a8"
             ],
             [
              0.3333333333333333,
              "#9c179e"
             ],
             [
              0.4444444444444444,
              "#bd3786"
             ],
             [
              0.5555555555555556,
              "#d8576b"
             ],
             [
              0.6666666666666666,
              "#ed7953"
             ],
             [
              0.7777777777777778,
              "#fb9f3a"
             ],
             [
              0.8888888888888888,
              "#fdca26"
             ],
             [
              1,
              "#f0f921"
             ]
            ],
            "type": "contour"
           }
          ],
          "contourcarpet": [
           {
            "colorbar": {
             "outlinewidth": 0,
             "ticks": ""
            },
            "type": "contourcarpet"
           }
          ],
          "heatmap": [
           {
            "colorbar": {
             "outlinewidth": 0,
             "ticks": ""
            },
            "colorscale": [
             [
              0,
              "#0d0887"
             ],
             [
              0.1111111111111111,
              "#46039f"
             ],
             [
              0.2222222222222222,
              "#7201a8"
             ],
             [
              0.3333333333333333,
              "#9c179e"
             ],
             [
              0.4444444444444444,
              "#bd3786"
             ],
             [
              0.5555555555555556,
              "#d8576b"
             ],
             [
              0.6666666666666666,
              "#ed7953"
             ],
             [
              0.7777777777777778,
              "#fb9f3a"
             ],
             [
              0.8888888888888888,
              "#fdca26"
             ],
             [
              1,
              "#f0f921"
             ]
            ],
            "type": "heatmap"
           }
          ],
          "heatmapgl": [
           {
            "colorbar": {
             "outlinewidth": 0,
             "ticks": ""
            },
            "colorscale": [
             [
              0,
              "#0d0887"
             ],
             [
              0.1111111111111111,
              "#46039f"
             ],
             [
              0.2222222222222222,
              "#7201a8"
             ],
             [
              0.3333333333333333,
              "#9c179e"
             ],
             [
              0.4444444444444444,
              "#bd3786"
             ],
             [
              0.5555555555555556,
              "#d8576b"
             ],
             [
              0.6666666666666666,
              "#ed7953"
             ],
             [
              0.7777777777777778,
              "#fb9f3a"
             ],
             [
              0.8888888888888888,
              "#fdca26"
             ],
             [
              1,
              "#f0f921"
             ]
            ],
            "type": "heatmapgl"
           }
          ],
          "histogram": [
           {
            "marker": {
             "pattern": {
              "fillmode": "overlay",
              "size": 10,
              "solidity": 0.2
             }
            },
            "type": "histogram"
           }
          ],
          "histogram2d": [
           {
            "colorbar": {
             "outlinewidth": 0,
             "ticks": ""
            },
            "colorscale": [
             [
              0,
              "#0d0887"
             ],
             [
              0.1111111111111111,
              "#46039f"
             ],
             [
              0.2222222222222222,
              "#7201a8"
             ],
             [
              0.3333333333333333,
              "#9c179e"
             ],
             [
              0.4444444444444444,
              "#bd3786"
             ],
             [
              0.5555555555555556,
              "#d8576b"
             ],
             [
              0.6666666666666666,
              "#ed7953"
             ],
             [
              0.7777777777777778,
              "#fb9f3a"
             ],
             [
              0.8888888888888888,
              "#fdca26"
             ],
             [
              1,
              "#f0f921"
             ]
            ],
            "type": "histogram2d"
           }
          ],
          "histogram2dcontour": [
           {
            "colorbar": {
             "outlinewidth": 0,
             "ticks": ""
            },
            "colorscale": [
             [
              0,
              "#0d0887"
             ],
             [
              0.1111111111111111,
              "#46039f"
             ],
             [
              0.2222222222222222,
              "#7201a8"
             ],
             [
              0.3333333333333333,
              "#9c179e"
             ],
             [
              0.4444444444444444,
              "#bd3786"
             ],
             [
              0.5555555555555556,
              "#d8576b"
             ],
             [
              0.6666666666666666,
              "#ed7953"
             ],
             [
              0.7777777777777778,
              "#fb9f3a"
             ],
             [
              0.8888888888888888,
              "#fdca26"
             ],
             [
              1,
              "#f0f921"
             ]
            ],
            "type": "histogram2dcontour"
           }
          ],
          "mesh3d": [
           {
            "colorbar": {
             "outlinewidth": 0,
             "ticks": ""
            },
            "type": "mesh3d"
           }
          ],
          "parcoords": [
           {
            "line": {
             "colorbar": {
              "outlinewidth": 0,
              "ticks": ""
             }
            },
            "type": "parcoords"
           }
          ],
          "pie": [
           {
            "automargin": true,
            "type": "pie"
           }
          ],
          "scatter": [
           {
            "fillpattern": {
             "fillmode": "overlay",
             "size": 10,
             "solidity": 0.2
            },
            "type": "scatter"
           }
          ],
          "scatter3d": [
           {
            "line": {
             "colorbar": {
              "outlinewidth": 0,
              "ticks": ""
             }
            },
            "marker": {
             "colorbar": {
              "outlinewidth": 0,
              "ticks": ""
             }
            },
            "type": "scatter3d"
           }
          ],
          "scattercarpet": [
           {
            "marker": {
             "colorbar": {
              "outlinewidth": 0,
              "ticks": ""
             }
            },
            "type": "scattercarpet"
           }
          ],
          "scattergeo": [
           {
            "marker": {
             "colorbar": {
              "outlinewidth": 0,
              "ticks": ""
             }
            },
            "type": "scattergeo"
           }
          ],
          "scattergl": [
           {
            "marker": {
             "colorbar": {
              "outlinewidth": 0,
              "ticks": ""
             }
            },
            "type": "scattergl"
           }
          ],
          "scattermapbox": [
           {
            "marker": {
             "colorbar": {
              "outlinewidth": 0,
              "ticks": ""
             }
            },
            "type": "scattermapbox"
           }
          ],
          "scatterpolar": [
           {
            "marker": {
             "colorbar": {
              "outlinewidth": 0,
              "ticks": ""
             }
            },
            "type": "scatterpolar"
           }
          ],
          "scatterpolargl": [
           {
            "marker": {
             "colorbar": {
              "outlinewidth": 0,
              "ticks": ""
             }
            },
            "type": "scatterpolargl"
           }
          ],
          "scatterternary": [
           {
            "marker": {
             "colorbar": {
              "outlinewidth": 0,
              "ticks": ""
             }
            },
            "type": "scatterternary"
           }
          ],
          "surface": [
           {
            "colorbar": {
             "outlinewidth": 0,
             "ticks": ""
            },
            "colorscale": [
             [
              0,
              "#0d0887"
             ],
             [
              0.1111111111111111,
              "#46039f"
             ],
             [
              0.2222222222222222,
              "#7201a8"
             ],
             [
              0.3333333333333333,
              "#9c179e"
             ],
             [
              0.4444444444444444,
              "#bd3786"
             ],
             [
              0.5555555555555556,
              "#d8576b"
             ],
             [
              0.6666666666666666,
              "#ed7953"
             ],
             [
              0.7777777777777778,
              "#fb9f3a"
             ],
             [
              0.8888888888888888,
              "#fdca26"
             ],
             [
              1,
              "#f0f921"
             ]
            ],
            "type": "surface"
           }
          ],
          "table": [
           {
            "cells": {
             "fill": {
              "color": "#EBF0F8"
             },
             "line": {
              "color": "white"
             }
            },
            "header": {
             "fill": {
              "color": "#C8D4E3"
             },
             "line": {
              "color": "white"
             }
            },
            "type": "table"
           }
          ]
         },
         "layout": {
          "annotationdefaults": {
           "arrowcolor": "#2a3f5f",
           "arrowhead": 0,
           "arrowwidth": 1
          },
          "autotypenumbers": "strict",
          "coloraxis": {
           "colorbar": {
            "outlinewidth": 0,
            "ticks": ""
           }
          },
          "colorscale": {
           "diverging": [
            [
             0,
             "#8e0152"
            ],
            [
             0.1,
             "#c51b7d"
            ],
            [
             0.2,
             "#de77ae"
            ],
            [
             0.3,
             "#f1b6da"
            ],
            [
             0.4,
             "#fde0ef"
            ],
            [
             0.5,
             "#f7f7f7"
            ],
            [
             0.6,
             "#e6f5d0"
            ],
            [
             0.7,
             "#b8e186"
            ],
            [
             0.8,
             "#7fbc41"
            ],
            [
             0.9,
             "#4d9221"
            ],
            [
             1,
             "#276419"
            ]
           ],
           "sequential": [
            [
             0,
             "#0d0887"
            ],
            [
             0.1111111111111111,
             "#46039f"
            ],
            [
             0.2222222222222222,
             "#7201a8"
            ],
            [
             0.3333333333333333,
             "#9c179e"
            ],
            [
             0.4444444444444444,
             "#bd3786"
            ],
            [
             0.5555555555555556,
             "#d8576b"
            ],
            [
             0.6666666666666666,
             "#ed7953"
            ],
            [
             0.7777777777777778,
             "#fb9f3a"
            ],
            [
             0.8888888888888888,
             "#fdca26"
            ],
            [
             1,
             "#f0f921"
            ]
           ],
           "sequentialminus": [
            [
             0,
             "#0d0887"
            ],
            [
             0.1111111111111111,
             "#46039f"
            ],
            [
             0.2222222222222222,
             "#7201a8"
            ],
            [
             0.3333333333333333,
             "#9c179e"
            ],
            [
             0.4444444444444444,
             "#bd3786"
            ],
            [
             0.5555555555555556,
             "#d8576b"
            ],
            [
             0.6666666666666666,
             "#ed7953"
            ],
            [
             0.7777777777777778,
             "#fb9f3a"
            ],
            [
             0.8888888888888888,
             "#fdca26"
            ],
            [
             1,
             "#f0f921"
            ]
           ]
          },
          "colorway": [
           "#636efa",
           "#EF553B",
           "#00cc96",
           "#ab63fa",
           "#FFA15A",
           "#19d3f3",
           "#FF6692",
           "#B6E880",
           "#FF97FF",
           "#FECB52"
          ],
          "font": {
           "color": "#2a3f5f"
          },
          "geo": {
           "bgcolor": "white",
           "lakecolor": "white",
           "landcolor": "#E5ECF6",
           "showlakes": true,
           "showland": true,
           "subunitcolor": "white"
          },
          "hoverlabel": {
           "align": "left"
          },
          "hovermode": "closest",
          "mapbox": {
           "style": "light"
          },
          "paper_bgcolor": "white",
          "plot_bgcolor": "#E5ECF6",
          "polar": {
           "angularaxis": {
            "gridcolor": "white",
            "linecolor": "white",
            "ticks": ""
           },
           "bgcolor": "#E5ECF6",
           "radialaxis": {
            "gridcolor": "white",
            "linecolor": "white",
            "ticks": ""
           }
          },
          "scene": {
           "xaxis": {
            "backgroundcolor": "#E5ECF6",
            "gridcolor": "white",
            "gridwidth": 2,
            "linecolor": "white",
            "showbackground": true,
            "ticks": "",
            "zerolinecolor": "white"
           },
           "yaxis": {
            "backgroundcolor": "#E5ECF6",
            "gridcolor": "white",
            "gridwidth": 2,
            "linecolor": "white",
            "showbackground": true,
            "ticks": "",
            "zerolinecolor": "white"
           },
           "zaxis": {
            "backgroundcolor": "#E5ECF6",
            "gridcolor": "white",
            "gridwidth": 2,
            "linecolor": "white",
            "showbackground": true,
            "ticks": "",
            "zerolinecolor": "white"
           }
          },
          "shapedefaults": {
           "line": {
            "color": "#2a3f5f"
           }
          },
          "ternary": {
           "aaxis": {
            "gridcolor": "white",
            "linecolor": "white",
            "ticks": ""
           },
           "baxis": {
            "gridcolor": "white",
            "linecolor": "white",
            "ticks": ""
           },
           "bgcolor": "#E5ECF6",
           "caxis": {
            "gridcolor": "white",
            "linecolor": "white",
            "ticks": ""
           }
          },
          "title": {
           "x": 0.05
          },
          "xaxis": {
           "automargin": true,
           "gridcolor": "white",
           "linecolor": "white",
           "ticks": "",
           "title": {
            "standoff": 15
           },
           "zerolinecolor": "white",
           "zerolinewidth": 2
          },
          "yaxis": {
           "automargin": true,
           "gridcolor": "white",
           "linecolor": "white",
           "ticks": "",
           "title": {
            "standoff": 15
           },
           "zerolinecolor": "white",
           "zerolinewidth": 2
          }
         }
        },
        "title": {
         "font": {
          "size": 24
         },
         "text": "Redo and Norm overlap - Layer features.2.weight"
        },
        "width": 1500,
        "xaxis": {
         "anchor": "y",
         "domain": [
          0,
          0.22999999999999998
         ],
         "title": {
          "text": "epoch"
         }
        },
        "xaxis2": {
         "anchor": "y2",
         "domain": [
          0.24999999999999997,
          0.48
         ],
         "matches": "x",
         "title": {
          "text": "epoch"
         }
        },
        "xaxis3": {
         "anchor": "y3",
         "domain": [
          0.49999999999999994,
          0.73
         ],
         "matches": "x",
         "title": {
          "text": "epoch"
         }
        },
        "xaxis4": {
         "anchor": "y4",
         "domain": [
          0.75,
          0.98
         ],
         "matches": "x",
         "title": {
          "text": "epoch"
         }
        },
        "yaxis": {
         "anchor": "x",
         "domain": [
          0,
          1
         ],
         "showticklabels": true,
         "title": {
          "text": "Nr. Neurons"
         }
        },
        "yaxis2": {
         "anchor": "x2",
         "domain": [
          0,
          1
         ],
         "showticklabels": true
        },
        "yaxis3": {
         "anchor": "x3",
         "domain": [
          0,
          1
         ],
         "showticklabels": true
        },
        "yaxis4": {
         "anchor": "x4",
         "domain": [
          0,
          1
         ],
         "showticklabels": true
        }
       }
      }
     },
     "metadata": {},
     "output_type": "display_data"
    },
    {
     "data": {
      "application/vnd.plotly.v1+json": {
       "config": {
        "plotlyServerURL": "https://plot.ly"
       },
       "data": [
        {
         "alignmentgroup": "True",
         "hovertemplate": "Category=Only Redo<br>env=breakout<br>experiment=conv32_lin128<br>epoch=%{x}<br>Nr. Neurons=%{y}<extra></extra>",
         "legendgroup": "Only Redo",
         "marker": {
          "color": "#636efa",
          "pattern": {
           "shape": ""
          }
         },
         "name": "Only Redo",
         "offsetgroup": "Only Redo",
         "orientation": "v",
         "showlegend": true,
         "textposition": "auto",
         "type": "bar",
         "x": [
          0,
          9,
          10,
          11,
          12,
          13,
          14,
          1,
          2,
          3,
          4,
          5,
          6,
          7,
          8,
          0,
          9,
          10,
          11,
          12,
          13,
          14,
          1,
          2,
          3,
          4,
          5,
          6,
          7,
          8,
          0,
          9,
          10,
          11,
          12,
          13,
          14,
          1,
          2,
          3,
          4,
          5,
          6,
          7,
          8,
          0,
          9,
          10,
          11,
          12,
          13,
          14,
          1,
          2,
          3,
          4,
          5,
          6,
          7,
          8
         ],
         "xaxis": "x3",
         "y": [
          3,
          12,
          10,
          11,
          14,
          10,
          10,
          4,
          6,
          7,
          9,
          10,
          12,
          12,
          11,
          3,
          0,
          1,
          0,
          1,
          1,
          0,
          0,
          0,
          0,
          0,
          0,
          1,
          0,
          0,
          3,
          0,
          1,
          0,
          1,
          1,
          0,
          0,
          0,
          0,
          0,
          0,
          1,
          0,
          0,
          3,
          0,
          1,
          0,
          1,
          1,
          0,
          0,
          0,
          0,
          0,
          0,
          1,
          0,
          0
         ],
         "yaxis": "y3"
        },
        {
         "alignmentgroup": "True",
         "hovertemplate": "Category=Only Redo<br>env=breakout<br>experiment=conv64_lin256<br>epoch=%{x}<br>Nr. Neurons=%{y}<extra></extra>",
         "legendgroup": "Only Redo",
         "marker": {
          "color": "#636efa",
          "pattern": {
           "shape": ""
          }
         },
         "name": "Only Redo",
         "offsetgroup": "Only Redo",
         "orientation": "v",
         "showlegend": false,
         "textposition": "auto",
         "type": "bar",
         "x": [
          0,
          9,
          10,
          11,
          12,
          13,
          14,
          1,
          2,
          3,
          4,
          5,
          6,
          7,
          8,
          0,
          9,
          10,
          11,
          12,
          13,
          14,
          1,
          2,
          3,
          4,
          5,
          6,
          7,
          8,
          0,
          9,
          10,
          11,
          12,
          13,
          14,
          1,
          2,
          3,
          4,
          5,
          6,
          7,
          8,
          0,
          9,
          10,
          11,
          12,
          13,
          14,
          1,
          2,
          3,
          4,
          5,
          6,
          7,
          8
         ],
         "xaxis": "x4",
         "y": [
          0,
          4,
          5,
          6,
          5,
          4,
          12,
          1,
          2,
          2,
          2,
          3,
          5,
          7,
          7,
          0,
          0,
          0,
          0,
          0,
          0,
          0,
          0,
          0,
          0,
          0,
          0,
          0,
          0,
          0,
          0,
          0,
          0,
          0,
          0,
          0,
          0,
          0,
          0,
          0,
          0,
          0,
          0,
          0,
          0,
          0,
          0,
          0,
          0,
          0,
          0,
          0,
          0,
          0,
          0,
          0,
          0,
          0,
          0,
          0
         ],
         "yaxis": "y4"
        },
        {
         "alignmentgroup": "True",
         "hovertemplate": "Category=Intersect<br>env=breakout<br>experiment=conv32_lin128<br>epoch=%{x}<br>Nr. Neurons=%{y}<extra></extra>",
         "legendgroup": "Intersect",
         "marker": {
          "color": "#EF553B",
          "pattern": {
           "shape": ""
          }
         },
         "name": "Intersect",
         "offsetgroup": "Intersect",
         "orientation": "v",
         "showlegend": true,
         "textposition": "auto",
         "type": "bar",
         "x": [
          0,
          9,
          10,
          11,
          12,
          13,
          14,
          1,
          2,
          3,
          4,
          5,
          6,
          7,
          8,
          0,
          9,
          10,
          11,
          12,
          13,
          14,
          1,
          2,
          3,
          4,
          5,
          6,
          7,
          8,
          0,
          9,
          10,
          11,
          12,
          13,
          14,
          1,
          2,
          3,
          4,
          5,
          6,
          7,
          8,
          0,
          9,
          10,
          11,
          12,
          13,
          14,
          1,
          2,
          3,
          4,
          5,
          6,
          7,
          8
         ],
         "xaxis": "x3",
         "y": [
          107,
          102,
          100,
          103,
          95,
          102,
          106,
          107,
          104,
          104,
          103,
          102,
          98,
          99,
          100,
          107,
          112,
          112,
          113,
          113,
          115,
          116,
          110,
          110,
          110,
          111,
          111,
          111,
          112,
          112,
          107,
          112,
          112,
          113,
          113,
          115,
          116,
          110,
          110,
          110,
          111,
          111,
          111,
          112,
          112,
          107,
          112,
          112,
          113,
          113,
          115,
          116,
          110,
          110,
          110,
          111,
          111,
          111,
          112,
          112
         ],
         "yaxis": "y3"
        },
        {
         "alignmentgroup": "True",
         "hovertemplate": "Category=Intersect<br>env=breakout<br>experiment=conv64_lin256<br>epoch=%{x}<br>Nr. Neurons=%{y}<extra></extra>",
         "legendgroup": "Intersect",
         "marker": {
          "color": "#EF553B",
          "pattern": {
           "shape": ""
          }
         },
         "name": "Intersect",
         "offsetgroup": "Intersect",
         "orientation": "v",
         "showlegend": false,
         "textposition": "auto",
         "type": "bar",
         "x": [
          0,
          9,
          10,
          11,
          12,
          13,
          14,
          1,
          2,
          3,
          4,
          5,
          6,
          7,
          8,
          0,
          9,
          10,
          11,
          12,
          13,
          14,
          1,
          2,
          3,
          4,
          5,
          6,
          7,
          8,
          0,
          9,
          10,
          11,
          12,
          13,
          14,
          1,
          2,
          3,
          4,
          5,
          6,
          7,
          8,
          0,
          9,
          10,
          11,
          12,
          13,
          14,
          1,
          2,
          3,
          4,
          5,
          6,
          7,
          8
         ],
         "xaxis": "x4",
         "y": [
          256,
          248,
          246,
          244,
          246,
          248,
          231,
          254,
          252,
          252,
          252,
          250,
          246,
          241,
          242,
          256,
          251,
          251,
          251,
          251,
          251,
          251,
          256,
          256,
          247,
          247,
          249,
          249,
          249,
          249,
          256,
          251,
          251,
          251,
          251,
          251,
          251,
          256,
          256,
          247,
          247,
          249,
          249,
          249,
          249,
          256,
          251,
          251,
          251,
          251,
          251,
          251,
          256,
          256,
          247,
          247,
          249,
          249,
          249,
          249
         ],
         "yaxis": "y4"
        },
        {
         "alignmentgroup": "True",
         "hovertemplate": "Category=Only Pruning<br>env=breakout<br>experiment=conv32_lin128<br>epoch=%{x}<br>Nr. Neurons=%{y}<extra></extra>",
         "legendgroup": "Only Pruning",
         "marker": {
          "color": "#00cc96",
          "pattern": {
           "shape": ""
          }
         },
         "name": "Only Pruning",
         "offsetgroup": "Only Pruning",
         "orientation": "v",
         "showlegend": true,
         "textposition": "auto",
         "type": "bar",
         "x": [
          0,
          9,
          10,
          11,
          12,
          13,
          14,
          1,
          2,
          3,
          4,
          5,
          6,
          7,
          8,
          0,
          9,
          10,
          11,
          12,
          13,
          14,
          1,
          2,
          3,
          4,
          5,
          6,
          7,
          8,
          0,
          9,
          10,
          11,
          12,
          13,
          14,
          1,
          2,
          3,
          4,
          5,
          6,
          7,
          8,
          0,
          9,
          10,
          11,
          12,
          13,
          14,
          1,
          2,
          3,
          4,
          5,
          6,
          7,
          8
         ],
         "xaxis": "x3",
         "y": [
          3,
          12,
          10,
          11,
          14,
          10,
          10,
          4,
          6,
          7,
          9,
          10,
          12,
          12,
          11,
          3,
          0,
          1,
          0,
          1,
          1,
          0,
          0,
          0,
          0,
          0,
          0,
          1,
          0,
          0,
          3,
          0,
          1,
          0,
          1,
          1,
          0,
          0,
          0,
          0,
          0,
          0,
          1,
          0,
          0,
          3,
          0,
          1,
          0,
          1,
          1,
          0,
          0,
          0,
          0,
          0,
          0,
          1,
          0,
          0
         ],
         "yaxis": "y3"
        },
        {
         "alignmentgroup": "True",
         "hovertemplate": "Category=Only Pruning<br>env=breakout<br>experiment=conv64_lin256<br>epoch=%{x}<br>Nr. Neurons=%{y}<extra></extra>",
         "legendgroup": "Only Pruning",
         "marker": {
          "color": "#00cc96",
          "pattern": {
           "shape": ""
          }
         },
         "name": "Only Pruning",
         "offsetgroup": "Only Pruning",
         "orientation": "v",
         "showlegend": false,
         "textposition": "auto",
         "type": "bar",
         "x": [
          0,
          9,
          10,
          11,
          12,
          13,
          14,
          1,
          2,
          3,
          4,
          5,
          6,
          7,
          8,
          0,
          9,
          10,
          11,
          12,
          13,
          14,
          1,
          2,
          3,
          4,
          5,
          6,
          7,
          8,
          0,
          9,
          10,
          11,
          12,
          13,
          14,
          1,
          2,
          3,
          4,
          5,
          6,
          7,
          8,
          0,
          9,
          10,
          11,
          12,
          13,
          14,
          1,
          2,
          3,
          4,
          5,
          6,
          7,
          8
         ],
         "xaxis": "x4",
         "y": [
          0,
          4,
          5,
          6,
          5,
          4,
          12,
          1,
          2,
          2,
          2,
          3,
          5,
          7,
          7,
          0,
          0,
          0,
          0,
          0,
          0,
          0,
          0,
          0,
          0,
          0,
          0,
          0,
          0,
          0,
          0,
          0,
          0,
          0,
          0,
          0,
          0,
          0,
          0,
          0,
          0,
          0,
          0,
          0,
          0,
          0,
          0,
          0,
          0,
          0,
          0,
          0,
          0,
          0,
          0,
          0,
          0,
          0,
          0,
          0
         ],
         "yaxis": "y4"
        }
       ],
       "layout": {
        "annotations": [
         {
          "font": {
           "size": 18
          },
          "showarrow": false,
          "text": "experiment=conv8_lin32",
          "x": 0.11499999999999999,
          "xanchor": "center",
          "xref": "paper",
          "y": 1,
          "yanchor": "bottom",
          "yref": "paper"
         },
         {
          "font": {
           "size": 18
          },
          "showarrow": false,
          "text": "experiment=conv16_lin64",
          "x": 0.365,
          "xanchor": "center",
          "xref": "paper",
          "y": 1,
          "yanchor": "bottom",
          "yref": "paper"
         },
         {
          "font": {
           "size": 18
          },
          "showarrow": false,
          "text": "experiment=conv32_lin128",
          "x": 0.615,
          "xanchor": "center",
          "xref": "paper",
          "y": 1,
          "yanchor": "bottom",
          "yref": "paper"
         },
         {
          "font": {
           "size": 18
          },
          "showarrow": false,
          "text": "experiment=conv64_lin256",
          "x": 0.865,
          "xanchor": "center",
          "xref": "paper",
          "y": 1,
          "yanchor": "bottom",
          "yref": "paper"
         },
         {
          "font": {
           "size": 18
          },
          "showarrow": false,
          "text": "env=breakout",
          "textangle": 90,
          "x": 0.98,
          "xanchor": "left",
          "xref": "paper",
          "y": 0.5,
          "yanchor": "middle",
          "yref": "paper"
         }
        ],
        "barmode": "relative",
        "height": 600,
        "legend": {
         "font": {
          "size": 16
         },
         "title": {
          "font": {
           "size": 18
          },
          "text": "Category"
         },
         "tracegroupgap": 0
        },
        "margin": {
         "t": 60
        },
        "template": {
         "data": {
          "bar": [
           {
            "error_x": {
             "color": "#2a3f5f"
            },
            "error_y": {
             "color": "#2a3f5f"
            },
            "marker": {
             "line": {
              "color": "#E5ECF6",
              "width": 0.5
             },
             "pattern": {
              "fillmode": "overlay",
              "size": 10,
              "solidity": 0.2
             }
            },
            "type": "bar"
           }
          ],
          "barpolar": [
           {
            "marker": {
             "line": {
              "color": "#E5ECF6",
              "width": 0.5
             },
             "pattern": {
              "fillmode": "overlay",
              "size": 10,
              "solidity": 0.2
             }
            },
            "type": "barpolar"
           }
          ],
          "carpet": [
           {
            "aaxis": {
             "endlinecolor": "#2a3f5f",
             "gridcolor": "white",
             "linecolor": "white",
             "minorgridcolor": "white",
             "startlinecolor": "#2a3f5f"
            },
            "baxis": {
             "endlinecolor": "#2a3f5f",
             "gridcolor": "white",
             "linecolor": "white",
             "minorgridcolor": "white",
             "startlinecolor": "#2a3f5f"
            },
            "type": "carpet"
           }
          ],
          "choropleth": [
           {
            "colorbar": {
             "outlinewidth": 0,
             "ticks": ""
            },
            "type": "choropleth"
           }
          ],
          "contour": [
           {
            "colorbar": {
             "outlinewidth": 0,
             "ticks": ""
            },
            "colorscale": [
             [
              0,
              "#0d0887"
             ],
             [
              0.1111111111111111,
              "#46039f"
             ],
             [
              0.2222222222222222,
              "#7201a8"
             ],
             [
              0.3333333333333333,
              "#9c179e"
             ],
             [
              0.4444444444444444,
              "#bd3786"
             ],
             [
              0.5555555555555556,
              "#d8576b"
             ],
             [
              0.6666666666666666,
              "#ed7953"
             ],
             [
              0.7777777777777778,
              "#fb9f3a"
             ],
             [
              0.8888888888888888,
              "#fdca26"
             ],
             [
              1,
              "#f0f921"
             ]
            ],
            "type": "contour"
           }
          ],
          "contourcarpet": [
           {
            "colorbar": {
             "outlinewidth": 0,
             "ticks": ""
            },
            "type": "contourcarpet"
           }
          ],
          "heatmap": [
           {
            "colorbar": {
             "outlinewidth": 0,
             "ticks": ""
            },
            "colorscale": [
             [
              0,
              "#0d0887"
             ],
             [
              0.1111111111111111,
              "#46039f"
             ],
             [
              0.2222222222222222,
              "#7201a8"
             ],
             [
              0.3333333333333333,
              "#9c179e"
             ],
             [
              0.4444444444444444,
              "#bd3786"
             ],
             [
              0.5555555555555556,
              "#d8576b"
             ],
             [
              0.6666666666666666,
              "#ed7953"
             ],
             [
              0.7777777777777778,
              "#fb9f3a"
             ],
             [
              0.8888888888888888,
              "#fdca26"
             ],
             [
              1,
              "#f0f921"
             ]
            ],
            "type": "heatmap"
           }
          ],
          "heatmapgl": [
           {
            "colorbar": {
             "outlinewidth": 0,
             "ticks": ""
            },
            "colorscale": [
             [
              0,
              "#0d0887"
             ],
             [
              0.1111111111111111,
              "#46039f"
             ],
             [
              0.2222222222222222,
              "#7201a8"
             ],
             [
              0.3333333333333333,
              "#9c179e"
             ],
             [
              0.4444444444444444,
              "#bd3786"
             ],
             [
              0.5555555555555556,
              "#d8576b"
             ],
             [
              0.6666666666666666,
              "#ed7953"
             ],
             [
              0.7777777777777778,
              "#fb9f3a"
             ],
             [
              0.8888888888888888,
              "#fdca26"
             ],
             [
              1,
              "#f0f921"
             ]
            ],
            "type": "heatmapgl"
           }
          ],
          "histogram": [
           {
            "marker": {
             "pattern": {
              "fillmode": "overlay",
              "size": 10,
              "solidity": 0.2
             }
            },
            "type": "histogram"
           }
          ],
          "histogram2d": [
           {
            "colorbar": {
             "outlinewidth": 0,
             "ticks": ""
            },
            "colorscale": [
             [
              0,
              "#0d0887"
             ],
             [
              0.1111111111111111,
              "#46039f"
             ],
             [
              0.2222222222222222,
              "#7201a8"
             ],
             [
              0.3333333333333333,
              "#9c179e"
             ],
             [
              0.4444444444444444,
              "#bd3786"
             ],
             [
              0.5555555555555556,
              "#d8576b"
             ],
             [
              0.6666666666666666,
              "#ed7953"
             ],
             [
              0.7777777777777778,
              "#fb9f3a"
             ],
             [
              0.8888888888888888,
              "#fdca26"
             ],
             [
              1,
              "#f0f921"
             ]
            ],
            "type": "histogram2d"
           }
          ],
          "histogram2dcontour": [
           {
            "colorbar": {
             "outlinewidth": 0,
             "ticks": ""
            },
            "colorscale": [
             [
              0,
              "#0d0887"
             ],
             [
              0.1111111111111111,
              "#46039f"
             ],
             [
              0.2222222222222222,
              "#7201a8"
             ],
             [
              0.3333333333333333,
              "#9c179e"
             ],
             [
              0.4444444444444444,
              "#bd3786"
             ],
             [
              0.5555555555555556,
              "#d8576b"
             ],
             [
              0.6666666666666666,
              "#ed7953"
             ],
             [
              0.7777777777777778,
              "#fb9f3a"
             ],
             [
              0.8888888888888888,
              "#fdca26"
             ],
             [
              1,
              "#f0f921"
             ]
            ],
            "type": "histogram2dcontour"
           }
          ],
          "mesh3d": [
           {
            "colorbar": {
             "outlinewidth": 0,
             "ticks": ""
            },
            "type": "mesh3d"
           }
          ],
          "parcoords": [
           {
            "line": {
             "colorbar": {
              "outlinewidth": 0,
              "ticks": ""
             }
            },
            "type": "parcoords"
           }
          ],
          "pie": [
           {
            "automargin": true,
            "type": "pie"
           }
          ],
          "scatter": [
           {
            "fillpattern": {
             "fillmode": "overlay",
             "size": 10,
             "solidity": 0.2
            },
            "type": "scatter"
           }
          ],
          "scatter3d": [
           {
            "line": {
             "colorbar": {
              "outlinewidth": 0,
              "ticks": ""
             }
            },
            "marker": {
             "colorbar": {
              "outlinewidth": 0,
              "ticks": ""
             }
            },
            "type": "scatter3d"
           }
          ],
          "scattercarpet": [
           {
            "marker": {
             "colorbar": {
              "outlinewidth": 0,
              "ticks": ""
             }
            },
            "type": "scattercarpet"
           }
          ],
          "scattergeo": [
           {
            "marker": {
             "colorbar": {
              "outlinewidth": 0,
              "ticks": ""
             }
            },
            "type": "scattergeo"
           }
          ],
          "scattergl": [
           {
            "marker": {
             "colorbar": {
              "outlinewidth": 0,
              "ticks": ""
             }
            },
            "type": "scattergl"
           }
          ],
          "scattermapbox": [
           {
            "marker": {
             "colorbar": {
              "outlinewidth": 0,
              "ticks": ""
             }
            },
            "type": "scattermapbox"
           }
          ],
          "scatterpolar": [
           {
            "marker": {
             "colorbar": {
              "outlinewidth": 0,
              "ticks": ""
             }
            },
            "type": "scatterpolar"
           }
          ],
          "scatterpolargl": [
           {
            "marker": {
             "colorbar": {
              "outlinewidth": 0,
              "ticks": ""
             }
            },
            "type": "scatterpolargl"
           }
          ],
          "scatterternary": [
           {
            "marker": {
             "colorbar": {
              "outlinewidth": 0,
              "ticks": ""
             }
            },
            "type": "scatterternary"
           }
          ],
          "surface": [
           {
            "colorbar": {
             "outlinewidth": 0,
             "ticks": ""
            },
            "colorscale": [
             [
              0,
              "#0d0887"
             ],
             [
              0.1111111111111111,
              "#46039f"
             ],
             [
              0.2222222222222222,
              "#7201a8"
             ],
             [
              0.3333333333333333,
              "#9c179e"
             ],
             [
              0.4444444444444444,
              "#bd3786"
             ],
             [
              0.5555555555555556,
              "#d8576b"
             ],
             [
              0.6666666666666666,
              "#ed7953"
             ],
             [
              0.7777777777777778,
              "#fb9f3a"
             ],
             [
              0.8888888888888888,
              "#fdca26"
             ],
             [
              1,
              "#f0f921"
             ]
            ],
            "type": "surface"
           }
          ],
          "table": [
           {
            "cells": {
             "fill": {
              "color": "#EBF0F8"
             },
             "line": {
              "color": "white"
             }
            },
            "header": {
             "fill": {
              "color": "#C8D4E3"
             },
             "line": {
              "color": "white"
             }
            },
            "type": "table"
           }
          ]
         },
         "layout": {
          "annotationdefaults": {
           "arrowcolor": "#2a3f5f",
           "arrowhead": 0,
           "arrowwidth": 1
          },
          "autotypenumbers": "strict",
          "coloraxis": {
           "colorbar": {
            "outlinewidth": 0,
            "ticks": ""
           }
          },
          "colorscale": {
           "diverging": [
            [
             0,
             "#8e0152"
            ],
            [
             0.1,
             "#c51b7d"
            ],
            [
             0.2,
             "#de77ae"
            ],
            [
             0.3,
             "#f1b6da"
            ],
            [
             0.4,
             "#fde0ef"
            ],
            [
             0.5,
             "#f7f7f7"
            ],
            [
             0.6,
             "#e6f5d0"
            ],
            [
             0.7,
             "#b8e186"
            ],
            [
             0.8,
             "#7fbc41"
            ],
            [
             0.9,
             "#4d9221"
            ],
            [
             1,
             "#276419"
            ]
           ],
           "sequential": [
            [
             0,
             "#0d0887"
            ],
            [
             0.1111111111111111,
             "#46039f"
            ],
            [
             0.2222222222222222,
             "#7201a8"
            ],
            [
             0.3333333333333333,
             "#9c179e"
            ],
            [
             0.4444444444444444,
             "#bd3786"
            ],
            [
             0.5555555555555556,
             "#d8576b"
            ],
            [
             0.6666666666666666,
             "#ed7953"
            ],
            [
             0.7777777777777778,
             "#fb9f3a"
            ],
            [
             0.8888888888888888,
             "#fdca26"
            ],
            [
             1,
             "#f0f921"
            ]
           ],
           "sequentialminus": [
            [
             0,
             "#0d0887"
            ],
            [
             0.1111111111111111,
             "#46039f"
            ],
            [
             0.2222222222222222,
             "#7201a8"
            ],
            [
             0.3333333333333333,
             "#9c179e"
            ],
            [
             0.4444444444444444,
             "#bd3786"
            ],
            [
             0.5555555555555556,
             "#d8576b"
            ],
            [
             0.6666666666666666,
             "#ed7953"
            ],
            [
             0.7777777777777778,
             "#fb9f3a"
            ],
            [
             0.8888888888888888,
             "#fdca26"
            ],
            [
             1,
             "#f0f921"
            ]
           ]
          },
          "colorway": [
           "#636efa",
           "#EF553B",
           "#00cc96",
           "#ab63fa",
           "#FFA15A",
           "#19d3f3",
           "#FF6692",
           "#B6E880",
           "#FF97FF",
           "#FECB52"
          ],
          "font": {
           "color": "#2a3f5f"
          },
          "geo": {
           "bgcolor": "white",
           "lakecolor": "white",
           "landcolor": "#E5ECF6",
           "showlakes": true,
           "showland": true,
           "subunitcolor": "white"
          },
          "hoverlabel": {
           "align": "left"
          },
          "hovermode": "closest",
          "mapbox": {
           "style": "light"
          },
          "paper_bgcolor": "white",
          "plot_bgcolor": "#E5ECF6",
          "polar": {
           "angularaxis": {
            "gridcolor": "white",
            "linecolor": "white",
            "ticks": ""
           },
           "bgcolor": "#E5ECF6",
           "radialaxis": {
            "gridcolor": "white",
            "linecolor": "white",
            "ticks": ""
           }
          },
          "scene": {
           "xaxis": {
            "backgroundcolor": "#E5ECF6",
            "gridcolor": "white",
            "gridwidth": 2,
            "linecolor": "white",
            "showbackground": true,
            "ticks": "",
            "zerolinecolor": "white"
           },
           "yaxis": {
            "backgroundcolor": "#E5ECF6",
            "gridcolor": "white",
            "gridwidth": 2,
            "linecolor": "white",
            "showbackground": true,
            "ticks": "",
            "zerolinecolor": "white"
           },
           "zaxis": {
            "backgroundcolor": "#E5ECF6",
            "gridcolor": "white",
            "gridwidth": 2,
            "linecolor": "white",
            "showbackground": true,
            "ticks": "",
            "zerolinecolor": "white"
           }
          },
          "shapedefaults": {
           "line": {
            "color": "#2a3f5f"
           }
          },
          "ternary": {
           "aaxis": {
            "gridcolor": "white",
            "linecolor": "white",
            "ticks": ""
           },
           "baxis": {
            "gridcolor": "white",
            "linecolor": "white",
            "ticks": ""
           },
           "bgcolor": "#E5ECF6",
           "caxis": {
            "gridcolor": "white",
            "linecolor": "white",
            "ticks": ""
           }
          },
          "title": {
           "x": 0.05
          },
          "xaxis": {
           "automargin": true,
           "gridcolor": "white",
           "linecolor": "white",
           "ticks": "",
           "title": {
            "standoff": 15
           },
           "zerolinecolor": "white",
           "zerolinewidth": 2
          },
          "yaxis": {
           "automargin": true,
           "gridcolor": "white",
           "linecolor": "white",
           "ticks": "",
           "title": {
            "standoff": 15
           },
           "zerolinecolor": "white",
           "zerolinewidth": 2
          }
         }
        },
        "title": {
         "font": {
          "size": 24
         },
         "text": "Redo and Norm overlap - Layer fc.0.weight"
        },
        "width": 1500,
        "xaxis": {
         "anchor": "y",
         "domain": [
          0,
          0.22999999999999998
         ],
         "title": {
          "text": "epoch"
         }
        },
        "xaxis2": {
         "anchor": "y2",
         "domain": [
          0.24999999999999997,
          0.48
         ],
         "matches": "x",
         "title": {
          "text": "epoch"
         }
        },
        "xaxis3": {
         "anchor": "y3",
         "domain": [
          0.49999999999999994,
          0.73
         ],
         "matches": "x",
         "title": {
          "text": "epoch"
         }
        },
        "xaxis4": {
         "anchor": "y4",
         "domain": [
          0.75,
          0.98
         ],
         "matches": "x",
         "title": {
          "text": "epoch"
         }
        },
        "yaxis": {
         "anchor": "x",
         "domain": [
          0,
          1
         ],
         "showticklabels": true,
         "title": {
          "text": "Nr. Neurons"
         }
        },
        "yaxis2": {
         "anchor": "x2",
         "domain": [
          0,
          1
         ],
         "showticklabels": true
        },
        "yaxis3": {
         "anchor": "x3",
         "domain": [
          0,
          1
         ],
         "showticklabels": true
        },
        "yaxis4": {
         "anchor": "x4",
         "domain": [
          0,
          1
         ],
         "showticklabels": true
        }
       }
      }
     },
     "metadata": {},
     "output_type": "display_data"
    }
   ],
   "source": [
    "experiment_order = [\"conv8_lin32\", \"conv16_lin64\", \"conv32_lin128\", \"conv64_lin256\"]\n",
    "\n",
    "for layer in df_res[\"layer\"].unique():\n",
    "    sub_df = df_res[(df_res[\"tau\"] == 0.025) & (df_res[\"layer\"] == layer)]\n",
    "    sub_df = sub_df[sub_df[\"env\"].isin(envs_to_keep)]\n",
    "\n",
    "    # melted_df = sub_df.melt(id_vars=['env', 'experiment', 'epoch'],\n",
    "    #                         value_vars=['nr_only_redo', 'nr_intersect', 'nr_only_pruning'],\n",
    "    #                         var_name='Category', value_name='Value')\n",
    "\n",
    "    # fig = px.bar(melted_df, x=\"epoch\", y=\"Value\", color=\"Category\", facet_row=\"env\", facet_col=\"experiment\",\n",
    "    #             category_orders={\"experiment\": experiment_order},\n",
    "    #             height=600)\n",
    "\n",
    "    # title = f\"Redo and Norm overlap - Layer {layer} shared Y\"\n",
    "    # file_path = f\"imgs/{title}.png\"\n",
    "\n",
    "    # # Save the figure as a PNG image\n",
    "    # pio.write_image(fig, file_path)\n",
    "\n",
    "    # fig.update_layout(title=title)\n",
    "    # fig.show()\n",
    "\n",
    "    melted_df = sub_df.melt(\n",
    "        id_vars=[\"env\", \"experiment\", \"epoch\"],\n",
    "        value_vars=[\"nr_only_redo\", \"nr_intersect\", \"nr_only_pruning\"],\n",
    "        var_name=\"Category\",\n",
    "        value_name=\"Value\",\n",
    "    )\n",
    "\n",
    "    melted_df = melted_df.rename(columns={\"Value\": \"Nr. Neurons\"})\n",
    "    melted_df[\"Category\"] = melted_df[\"Category\"].replace(\n",
    "        {\n",
    "            \"nr_only_redo\": \"Only Redo\",\n",
    "            \"nr_intersect\": \"Intersect\",\n",
    "            \"nr_only_pruning\": \"Only Pruning\",\n",
    "        }\n",
    "    )\n",
    "\n",
    "    fig = px.bar(\n",
    "        melted_df,\n",
    "        x=\"epoch\",\n",
    "        y=\"Nr. Neurons\",\n",
    "        color=\"Category\",\n",
    "        facet_row=\"env\",\n",
    "        facet_col=\"experiment\",\n",
    "        category_orders={\"experiment\": experiment_order},\n",
    "        height=600,\n",
    "        width=1500,\n",
    "    )\n",
    "\n",
    "    fig.update_yaxes(matches=None, showticklabels=True)\n",
    "\n",
    "    title = f\"Redo and Norm overlap - Layer {layer}\"\n",
    "    file_path = f\"imgs/{title}.png\"\n",
    "\n",
    "    # Save the figure as a PNG image\n",
    "    pio.write_image(fig, file_path)\n",
    "\n",
    "    fig.update_layout(\n",
    "        title=title,\n",
    "        title_font=dict(size=24),  # Adjust the size as per your requirement\n",
    "        legend_title_font=dict(size=18),  # Adjust the size as per your requirement\n",
    "        legend_font=dict(size=16),  # Adjust the size as per your requirement\n",
    "    )\n",
    "\n",
    "    # Update row and column facet font sizes\n",
    "    for annotation in fig.layout.annotations:\n",
    "        annotation.font.size = 18\n",
    "\n",
    "    fig.show()"
   ]
  }
 ],
 "metadata": {
  "kernelspec": {
   "display_name": "general",
   "language": "python",
   "name": "python3"
  },
  "language_info": {
   "codemirror_mode": {
    "name": "ipython",
    "version": 3
   },
   "file_extension": ".py",
   "mimetype": "text/x-python",
   "name": "python",
   "nbconvert_exporter": "python",
   "pygments_lexer": "ipython3",
   "version": "3.10.6"
  },
  "orig_nbformat": 4
 },
 "nbformat": 4,
 "nbformat_minor": 2
}
