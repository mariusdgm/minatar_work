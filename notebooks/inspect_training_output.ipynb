{
 "cells": [
  {
   "cell_type": "code",
   "execution_count": 17,
   "metadata": {},
   "outputs": [],
   "source": [
    "import os, sys\n",
    "import yaml\n",
    "import itertools\n",
    "from pathlib import Path\n",
    "import datetime\n",
    "import multiprocessing\n",
    "import traceback\n",
    "from typing import List, Dict, Tuple\n",
    "import torch\n",
    "\n",
    "proj_root = os.path.dirname(os.path.abspath(\".\"))\n",
    "sys.path.append(proj_root)\n",
    "\n",
    "# sys.path.append(os.path.join(proj_root, ))\n",
    "\n",
    "from experiments.experiment_utils import search_files_containing_string\n"
   ]
  },
  {
   "cell_type": "code",
   "execution_count": 22,
   "metadata": {},
   "outputs": [
    {
     "data": {
      "text/plain": [
       "[]"
      ]
     },
     "execution_count": 22,
     "metadata": {},
     "output_type": "execute_result"
    }
   ],
   "source": [
    "base_path = r\"D:\\Work\\PhD\\minatar_work\\experiments\\training\\outputs\"\n",
    "timestamp_str = \"2023_05_13-23_37_47\"\n",
    "\n",
    "model_str = \"conv32_lin128\"\n",
    "env = \"breakout\"\n",
    "# env = \"asterix\"\n",
    "# env = \"space_invaders\"\n",
    "# env = \"seaquest\"\n",
    "\n",
    "seed = \"0\"\n",
    "\n",
    "default_save_folder = os.path.join(base_path, timestamp_str, model_str, env, seed)\n",
    "\n",
    "model_file_path_list = search_files_containing_string(\n",
    "        default_save_folder, \"stats\"\n",
    "    )\n",
    "\n",
    "model_file_path_list"
   ]
  },
  {
   "cell_type": "code",
   "execution_count": 23,
   "metadata": {},
   "outputs": [
    {
     "ename": "IndexError",
     "evalue": "list index out of range",
     "output_type": "error",
     "traceback": [
      "\u001b[1;31m---------------------------------------------------------------------------\u001b[0m",
      "\u001b[1;31mIndexError\u001b[0m                                Traceback (most recent call last)",
      "\u001b[1;32md:\\Work\\PhD\\minatar_work\\notebooks\\inspect_training_output.ipynb Cell 3\u001b[0m in \u001b[0;36m1\n\u001b[1;32m----> <a href='vscode-notebook-cell:/d%3A/Work/PhD/minatar_work/notebooks/inspect_training_output.ipynb#W4sZmlsZQ%3D%3D?line=0'>1</a>\u001b[0m loaded_data \u001b[39m=\u001b[39m torch\u001b[39m.\u001b[39mload(model_file_path_list[\u001b[39m0\u001b[39;49m])\n\u001b[0;32m      <a href='vscode-notebook-cell:/d%3A/Work/PhD/minatar_work/notebooks/inspect_training_output.ipynb#W4sZmlsZQ%3D%3D?line=2'>3</a>\u001b[0m \u001b[39m# Print the loaded data\u001b[39;00m\n\u001b[0;32m      <a href='vscode-notebook-cell:/d%3A/Work/PhD/minatar_work/notebooks/inspect_training_output.ipynb#W4sZmlsZQ%3D%3D?line=3'>4</a>\u001b[0m loaded_data\u001b[39m.\u001b[39mkeys()\n",
      "\u001b[1;31mIndexError\u001b[0m: list index out of range"
     ]
    }
   ],
   "source": [
    "\n",
    "loaded_data = torch.load(model_file_path_list[0])\n",
    "\n",
    "# Print the loaded data\n",
    "loaded_data.keys()\n"
   ]
  },
  {
   "cell_type": "code",
   "execution_count": null,
   "metadata": {},
   "outputs": [],
   "source": []
  }
 ],
 "metadata": {
  "kernelspec": {
   "display_name": "general",
   "language": "python",
   "name": "python3"
  },
  "language_info": {
   "codemirror_mode": {
    "name": "ipython",
    "version": 3
   },
   "file_extension": ".py",
   "mimetype": "text/x-python",
   "name": "python",
   "nbconvert_exporter": "python",
   "pygments_lexer": "ipython3",
   "version": "3.10.6"
  },
  "orig_nbformat": 4
 },
 "nbformat": 4,
 "nbformat_minor": 2
}
