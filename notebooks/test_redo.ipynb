{
 "cells": [
  {
   "cell_type": "code",
   "execution_count": 1,
   "metadata": {},
   "outputs": [],
   "source": [
    "%load_ext autoreload\n",
    "%autoreload 2"
   ]
  },
  {
   "cell_type": "code",
   "execution_count": 2,
   "metadata": {},
   "outputs": [],
   "source": [
    "import os\n",
    "import sys\n",
    "\n",
    "proj_root = os.path.dirname(os.path.abspath(\".\"))\n",
    "# print(proj_root)\n",
    "sys.path.append(proj_root)\n",
    "\n",
    "import time\n",
    "import datetime\n",
    "import torch\n",
    "import random\n",
    "import numpy as np\n",
    "import os\n",
    "from pathlib import Path\n",
    "import argparse\n",
    "\n",
    "import torch.optim as optim\n",
    "import torch.nn.functional as F\n",
    "\n",
    "import gym\n",
    "import yaml\n",
    "\n",
    "from minatar_dqn.my_dqn import AgentDQN\n",
    "from minatar_dqn.replay_buffer import ReplayBuffer\n",
    "from minatar_dqn.utils.my_logging import setup_logger\n",
    "from minatar_dqn.models import Conv_QNET, Conv_QNET_one\n",
    "\n",
    "from experiments.experiment_utils import (\n",
    "    seed_everything,\n",
    "    search_files_containing_string,\n",
    "    split_path_at_substring,\n",
    "    collect_training_output_files,\n",
    ")\n",
    "\n",
    "from minatar_dqn.my_dqn import Conv_QNET, build_environment\n",
    "from minatar_dqn.redo import (\n",
    "    apply_redo_parametrization,\n",
    "    reset_optimizer_states,\n",
    "    map_layers_to_optimizer_indices,\n",
    ")\n",
    "from experiments.experiment_utils import (\n",
    "    collect_training_output_files,\n",
    "    collect_pruning_output_files,\n",
    ")\n",
    "\n",
    "from experiments.training.training import read_config_files, get_config_paths\n",
    "\n",
    "from flatten_dict import flatten\n",
    "import pandas as pd\n",
    "import seaborn as sns\n",
    "import scipy\n",
    "\n",
    "sns.set()\n",
    "\n",
    "import plotly\n",
    "\n",
    "plotly.io.kaleido.scope.mathjax = None\n",
    "\n",
    "import plotly.graph_objects as go\n",
    "import plotly.express as px\n",
    "import plotly.io as pio\n",
    "\n",
    "import matplotlib.pyplot as plt\n",
    "\n",
    "import warnings\n",
    "\n",
    "warnings.filterwarnings(\"ignore\", category=FutureWarning)"
   ]
  },
  {
   "cell_type": "code",
   "execution_count": 3,
   "metadata": {},
   "outputs": [
    {
     "data": {
      "text/plain": [
       "{'epochs_to_train': 20,\n",
       " 'seeds': [0],\n",
       " 'environments': ['breakout'],\n",
       " 'agent_params': {'agent': 'AgentDQN',\n",
       "  'args_': {'train_step_cnt': 200000,\n",
       "   'validation_enabled': True,\n",
       "   'validation_step_cnt': 125000,\n",
       "   'validation_epsilon': 0.001,\n",
       "   'replay_start_size': 5000,\n",
       "   'batch_size': 32,\n",
       "   'training_freq': 4,\n",
       "   'target_model_update_freq': 100,\n",
       "   'loss_fcn': 'mse_loss',\n",
       "   'gamma': 0.99,\n",
       "   'epsilon': {'start': 1.0, 'end': 0.01, 'decay': 250000}}},\n",
       " 'estimator': {'model': 'Conv_QNET',\n",
       "  'args_': {'conv_hidden_out_size': 32, 'lin_hidden_out_size': 128}},\n",
       " 'optim': {'name': 'Adam', 'args_': {'lr': 6.25e-05, 'eps': 0.00015}},\n",
       " 'replay_buffer': {'max_size': 100000, 'action_dim': 1, 'n_step': 0},\n",
       " 'redo': {'attach': True,\n",
       "  'enabled': False,\n",
       "  'tau': 0.1,\n",
       "  'beta': 1,\n",
       "  'redo_freq': 1000,\n",
       "  'selection_option': None},\n",
       " 'reward_perception': None,\n",
       " 'experiment_name': 'conv32_lin128'}"
      ]
     },
     "execution_count": 3,
     "metadata": {},
     "output_type": "execute_result"
    }
   ],
   "source": [
    "# Setup config\n",
    "root_dir = os.path.dirname(os.path.abspath(\".\"))\n",
    "\n",
    "path_experiments_configs = os.path.join(\n",
    "    root_dir, \"experiments\", \"training\", \"training_configs\"\n",
    ")\n",
    "path_experiments_outputs = os.path.join(root_dir, \"experiments\", \"training\", \"outputs\")\n",
    "\n",
    "default_config_path, experiment_config_paths = get_config_paths(\n",
    "    path_experiments_configs\n",
    ")\n",
    "\n",
    "experiment_configs = read_config_files(default_config_path, experiment_config_paths)\n",
    "\n",
    "experiment_configs[0]"
   ]
  },
  {
   "cell_type": "code",
   "execution_count": 4,
   "metadata": {},
   "outputs": [],
   "source": [
    "config = experiment_configs[0]\n",
    "config[\"environment\"] = \"breakout\"\n",
    "config[\"seed\"] = 0\n",
    "\n",
    "output_path = os.path.join(\n",
    "    root_dir,\n",
    "    \"experiments\",\n",
    "    \"redo\",\n",
    ")"
   ]
  },
  {
   "cell_type": "code",
   "execution_count": 5,
   "metadata": {},
   "outputs": [
    {
     "data": {
      "text/plain": [
       "{'epochs_to_train': 20,\n",
       " 'seeds': [0],\n",
       " 'environments': ['breakout'],\n",
       " 'agent_params': {'agent': 'AgentDQN',\n",
       "  'args_': {'train_step_cnt': 200000,\n",
       "   'validation_enabled': True,\n",
       "   'validation_step_cnt': 125000,\n",
       "   'validation_epsilon': 0.001,\n",
       "   'replay_start_size': 5000,\n",
       "   'batch_size': 32,\n",
       "   'training_freq': 4,\n",
       "   'target_model_update_freq': 100,\n",
       "   'loss_fcn': 'mse_loss',\n",
       "   'gamma': 0.99,\n",
       "   'epsilon': {'start': 1.0, 'end': 0.01, 'decay': 250000}}},\n",
       " 'estimator': {'model': 'Conv_QNET',\n",
       "  'args_': {'conv_hidden_out_size': 32, 'lin_hidden_out_size': 128}},\n",
       " 'optim': {'name': 'Adam', 'args_': {'lr': 6.25e-05, 'eps': 0.00015}},\n",
       " 'replay_buffer': {'max_size': 100000, 'action_dim': 1, 'n_step': 0},\n",
       " 'redo': {'attach': True,\n",
       "  'enabled': False,\n",
       "  'tau': 0.1,\n",
       "  'beta': 1,\n",
       "  'redo_freq': 1000,\n",
       "  'selection_option': None},\n",
       " 'reward_perception': None,\n",
       " 'experiment_name': 'conv32_lin128',\n",
       " 'environment': 'breakout',\n",
       " 'seed': 0}"
      ]
     },
     "execution_count": 5,
     "metadata": {},
     "output_type": "execute_result"
    }
   ],
   "source": [
    "config"
   ]
  },
  {
   "cell_type": "code",
   "execution_count": 6,
   "metadata": {},
   "outputs": [],
   "source": [
    "config[\"agent_params\"][\"args_\"][\"train_step_cnt\"] = 20000\n",
    "config[\"agent_params\"][\"args_\"][\"validation_step_cnt\"] = 12500\n",
    "config[\"redo\"][\"beta\"] = 1\n",
    "config[\"redo\"][\"tau\"] = 0.025"
   ]
  },
  {
   "cell_type": "code",
   "execution_count": 7,
   "metadata": {},
   "outputs": [
    {
     "name": "stdout",
     "output_type": "stream",
     "text": [
      "2023-11-06 15:41:01,503 - root - INFO - redo_test_experiment - Starting up experiment: conv32_lin128, environment: breakout, seed: 0\n",
      "2023-11-06 15:41:01,516 - root - INFO - redo_test_experiment - Loaded configuration settings.\n",
      "2023-11-06 15:41:01,528 - root - INFO - redo_test_experiment - Initialized newtworks and optimizer.\n",
      "2023-11-06 15:41:01,529 - root - INFO - redo_test_experiment - Applied redo parametrization to policy model.\n",
      "2023-11-06 15:41:01,529 - root - INFO - redo_test_experiment - Applied redo parametrization to target model.\n"
     ]
    },
    {
     "name": "stderr",
     "output_type": "stream",
     "text": [
      "c:\\Users\\Chainsword\\anaconda3\\envs\\general\\lib\\site-packages\\gym\\envs\\registration.py:555: UserWarning:\n",
      "\n",
      "\u001b[33mWARN: The environment MinAtar/Breakout-v0 is out of date. You should consider upgrading to version `v1`.\u001b[0m\n",
      "\n",
      "c:\\Users\\Chainsword\\anaconda3\\envs\\general\\lib\\site-packages\\gym\\utils\\passive_env_checker.py:20: UserWarning:\n",
      "\n",
      "\u001b[33mWARN: It seems a Box observation space is an image but the `dtype` is not `np.uint8`, actual type: bool. If the Box observation space is not an image, we recommend flattening the observation to have only a 1D vector.\u001b[0m\n",
      "\n",
      "c:\\Users\\Chainsword\\anaconda3\\envs\\general\\lib\\site-packages\\gym\\utils\\passive_env_checker.py:25: UserWarning:\n",
      "\n",
      "\u001b[33mWARN: It seems a Box observation space is an image but the upper and lower bounds are not in [0, 255]. Generally, CNN policies assume observations are within that range, so you may encounter an issue if the observation values are not.\u001b[0m\n",
      "\n"
     ]
    }
   ],
   "source": [
    "env_name = config[\"environment\"]\n",
    "\n",
    "logger = setup_logger(\n",
    "    env_name=env_name,\n",
    "    identifier_string=\"redo_test_experiment\",\n",
    ")\n",
    "logger.info(\n",
    "    f'Starting up experiment: {config[\"experiment_name\"]}, environment: {config[\"environment\"]}, seed: {config[\"seed\"]}'\n",
    ")\n",
    "\n",
    "### Setup environments ###\n",
    "train_env = build_environment(\n",
    "    game_name=config[\"environment\"], random_seed=config[\"seed\"]\n",
    ")\n",
    "validation_env = build_environment(\n",
    "    game_name=config[\"environment\"], random_seed=config[\"seed\"]\n",
    ")\n",
    "\n",
    "experiment_agent = AgentDQN(\n",
    "    train_env=train_env,\n",
    "    validation_env=validation_env,\n",
    "    experiment_output_folder=output_path,\n",
    "    experiment_name=\"redo_test_experiment\",\n",
    "    resume_training_path=None,\n",
    "    save_checkpoints=True,\n",
    "    logger=logger,\n",
    "    config=config,\n",
    ")"
   ]
  },
  {
   "cell_type": "code",
   "execution_count": 8,
   "metadata": {},
   "outputs": [
    {
     "name": "stdout",
     "output_type": "stream",
     "text": [
      "2023-11-06 15:41:01,596 - root - INFO - redo_test_experiment - Starting training session at: 0\n",
      "2023-11-06 15:41:01,596 - root - INFO - redo_test_experiment - Starting training epoch at t = 0\n"
     ]
    },
    {
     "name": "stderr",
     "output_type": "stream",
     "text": [
      "c:\\Users\\Chainsword\\anaconda3\\envs\\general\\lib\\site-packages\\gym\\utils\\passive_env_checker.py:233: DeprecationWarning:\n",
      "\n",
      "`np.bool8` is a deprecated alias for `np.bool_`.  (Deprecated NumPy 1.24)\n",
      "\n"
     ]
    },
    {
     "name": "stdout",
     "output_type": "stream",
     "text": [
      "2023-11-06 15:41:27,956 - root - INFO - redo_test_experiment - TRAINING STATS | Frames seen: 20000 | Episode: 1812 | Max reward: 5.0 | Avg reward: 0.49337748344370863 | Avg frames (episode): 11.032008830022075 | Avg max Q: -73.95670732657115 | Epsilon: 0.9406 | Train epoch time: 0:00:26.354920\n",
      "2023-11-06 15:41:27,957 - root - INFO - redo_test_experiment - Starting validation epoch at t = 20000\n",
      "2023-11-06 15:41:33,995 - root - INFO - redo_test_experiment - VALIDATION STATS | Max reward: 1.0 | Avg reward: 0.5053003533568905 | Avg frames (episode): 11.053003533568905 | Avg max Q: -87.74112539280699 | Validation epoch time: 0:00:06.035503\n",
      "2023-11-06 15:41:33,996 - root - INFO - redo_test_experiment - Saving checkpoint at t = 20000 ...\n",
      "2023-11-06 15:41:34,025 - root - DEBUG - redo_test_experiment - Models saved at t = 20000\n",
      "2023-11-06 15:41:34,043 - root - DEBUG - redo_test_experiment - Training status saved at t = 20000\n",
      "2023-11-06 15:41:35,641 - root - INFO - redo_test_experiment - Checkpoint saved at t = 20000\n",
      "2023-11-06 15:41:35,641 - root - INFO - redo_test_experiment - Epoch 0 completed in 0:00:34.045049\n",
      "2023-11-06 15:41:35,642 - root - INFO - redo_test_experiment - \n",
      "\n",
      "2023-11-06 15:41:35,642 - root - INFO - redo_test_experiment - Starting training epoch at t = 20000\n",
      "2023-11-06 15:42:13,819 - root - INFO - redo_test_experiment - TRAINING STATS | Frames seen: 40000 | Episode: 3624 | Max reward: 7.0 | Avg reward: 0.49337748344370863 | Avg frames (episode): 11.04083885209713 | Avg max Q: -88.65849232152253 | Epsilon: 0.8613999999999999 | Train epoch time: 0:00:38.172971\n",
      "2023-11-06 15:42:13,819 - root - INFO - redo_test_experiment - Starting validation epoch at t = 40000\n",
      "2023-11-06 15:42:20,244 - root - INFO - redo_test_experiment - VALIDATION STATS | Max reward: 3.0 | Avg reward: 0.948019801980198 | Avg frames (episode): 15.482673267326733 | Avg max Q: -88.06408541100708 | Validation epoch time: 0:00:06.421449\n",
      "2023-11-06 15:42:20,244 - root - INFO - redo_test_experiment - Saving checkpoint at t = 40000 ...\n",
      "2023-11-06 15:42:20,364 - root - DEBUG - redo_test_experiment - Models saved at t = 40000\n",
      "2023-11-06 15:42:20,374 - root - DEBUG - redo_test_experiment - Training status saved at t = 40000\n",
      "2023-11-06 15:42:23,264 - root - INFO - redo_test_experiment - Checkpoint saved at t = 40000\n",
      "2023-11-06 15:42:23,264 - root - INFO - redo_test_experiment - Epoch 1 completed in 0:00:47.622802\n",
      "2023-11-06 15:42:23,264 - root - INFO - redo_test_experiment - \n",
      "\n",
      "2023-11-06 15:42:23,265 - root - INFO - redo_test_experiment - Starting training epoch at t = 40000\n",
      "2023-11-06 15:43:02,110 - root - INFO - redo_test_experiment - TRAINING STATS | Frames seen: 60000 | Episode: 5378 | Max reward: 6.0 | Avg reward: 0.5267958950969214 | Avg frames (episode): 11.396807297605474 | Avg max Q: -84.61937579807399 | Epsilon: 0.7822 | Train epoch time: 0:00:38.839308\n",
      "2023-11-06 15:43:02,111 - root - INFO - redo_test_experiment - Starting validation epoch at t = 60000\n",
      "2023-11-06 15:43:08,518 - root - INFO - redo_test_experiment - VALIDATION STATS | Max reward: 1.0 | Avg reward: 0.0028929604628736743 | Avg frames (episode): 6.028929604628737 | Avg max Q: -85.62137844128748 | Validation epoch time: 0:00:06.404995\n",
      "2023-11-06 15:43:08,519 - root - INFO - redo_test_experiment - Saving checkpoint at t = 60000 ...\n",
      "2023-11-06 15:43:08,522 - root - DEBUG - redo_test_experiment - Models saved at t = 60000\n",
      "2023-11-06 15:43:08,538 - root - DEBUG - redo_test_experiment - Training status saved at t = 60000\n",
      "2023-11-06 15:43:12,682 - root - INFO - redo_test_experiment - Checkpoint saved at t = 60000\n",
      "2023-11-06 15:43:12,684 - root - INFO - redo_test_experiment - Epoch 2 completed in 0:00:49.418066\n",
      "2023-11-06 15:43:12,684 - root - INFO - redo_test_experiment - \n",
      "\n",
      "2023-11-06 15:43:12,684 - root - INFO - redo_test_experiment - Starting training epoch at t = 60000\n",
      "2023-11-06 15:43:52,429 - root - INFO - redo_test_experiment - TRAINING STATS | Frames seen: 80000 | Episode: 7099 | Max reward: 6.0 | Avg reward: 0.5496804183614178 | Avg frames (episode): 11.626961069145846 | Avg max Q: -82.22640174537267 | Epsilon: 0.7030000000000001 | Train epoch time: 0:00:39.739237\n",
      "2023-11-06 15:43:52,430 - root - INFO - redo_test_experiment - Starting validation epoch at t = 80000\n",
      "2023-11-06 15:43:58,663 - root - INFO - redo_test_experiment - VALIDATION STATS | Max reward: 3.0 | Avg reward: 1.2880844645550529 | Avg frames (episode): 18.8868778280543 | Avg max Q: -81.5189458334426 | Validation epoch time: 0:00:06.230710\n",
      "2023-11-06 15:43:58,663 - root - INFO - redo_test_experiment - Saving checkpoint at t = 80000 ...\n",
      "2023-11-06 15:43:58,841 - root - DEBUG - redo_test_experiment - Models saved at t = 80000\n",
      "2023-11-06 15:43:58,859 - root - DEBUG - redo_test_experiment - Training status saved at t = 80000\n",
      "2023-11-06 15:44:04,734 - root - INFO - redo_test_experiment - Checkpoint saved at t = 80000\n",
      "2023-11-06 15:44:04,735 - root - INFO - redo_test_experiment - Epoch 3 completed in 0:00:52.050655\n",
      "2023-11-06 15:44:04,735 - root - INFO - redo_test_experiment - \n",
      "\n",
      "2023-11-06 15:44:04,736 - root - INFO - redo_test_experiment - Starting training epoch at t = 80000\n",
      "2023-11-06 15:44:45,767 - root - INFO - redo_test_experiment - TRAINING STATS | Frames seen: 100000 | Episode: 8621 | Max reward: 6.0 | Avg reward: 0.6964520367936925 | Avg frames (episode): 13.140604467805518 | Avg max Q: -81.47665316141297 | Epsilon: 0.6238 | Train epoch time: 0:00:41.026745\n",
      "2023-11-06 15:44:45,767 - root - INFO - redo_test_experiment - Starting validation epoch at t = 100000\n",
      "2023-11-06 15:44:52,023 - root - INFO - redo_test_experiment - VALIDATION STATS | Max reward: 4.0 | Avg reward: 0.603112840466926 | Avg frames (episode): 12.167315175097276 | Avg max Q: -80.58998812528375 | Validation epoch time: 0:00:06.252405\n",
      "2023-11-06 15:44:52,024 - root - INFO - redo_test_experiment - Saving checkpoint at t = 100000 ...\n",
      "2023-11-06 15:44:52,028 - root - DEBUG - redo_test_experiment - Models saved at t = 100000\n",
      "2023-11-06 15:44:52,051 - root - DEBUG - redo_test_experiment - Training status saved at t = 100000\n",
      "2023-11-06 15:44:59,201 - root - INFO - redo_test_experiment - Checkpoint saved at t = 100000\n",
      "2023-11-06 15:44:59,202 - root - INFO - redo_test_experiment - Epoch 4 completed in 0:00:54.466506\n",
      "2023-11-06 15:44:59,202 - root - INFO - redo_test_experiment - \n",
      "\n",
      "2023-11-06 15:44:59,203 - root - INFO - redo_test_experiment - Starting training epoch at t = 100000\n",
      "2023-11-06 15:45:41,020 - root - INFO - redo_test_experiment - TRAINING STATS | Frames seen: 120000 | Episode: 9978 | Max reward: 6.0 | Avg reward: 0.8518791451731761 | Avg frames (episode): 14.741341193809875 | Avg max Q: -81.79409086220379 | Epsilon: 0.5446 | Train epoch time: 0:00:41.811619\n",
      "2023-11-06 15:45:41,020 - root - INFO - redo_test_experiment - Starting validation epoch at t = 120000\n",
      "2023-11-06 15:45:47,181 - root - INFO - redo_test_experiment - VALIDATION STATS | Max reward: 4.0 | Avg reward: 2.348894348894349 | Avg frames (episode): 30.756756756756758 | Avg max Q: -81.99310280890779 | Validation epoch time: 0:00:06.157853\n",
      "2023-11-06 15:45:47,181 - root - INFO - redo_test_experiment - Saving checkpoint at t = 120000 ...\n",
      "2023-11-06 15:45:47,185 - root - DEBUG - redo_test_experiment - Models saved at t = 120000\n",
      "2023-11-06 15:45:47,213 - root - DEBUG - redo_test_experiment - Training status saved at t = 120000\n",
      "2023-11-06 15:45:54,105 - root - INFO - redo_test_experiment - Checkpoint saved at t = 120000\n",
      "2023-11-06 15:45:54,106 - root - INFO - redo_test_experiment - Epoch 5 completed in 0:00:54.902457\n",
      "2023-11-06 15:45:54,106 - root - INFO - redo_test_experiment - \n",
      "\n",
      "2023-11-06 15:45:54,107 - root - INFO - redo_test_experiment - Starting training epoch at t = 120000\n",
      "2023-11-06 15:46:37,052 - root - INFO - redo_test_experiment - TRAINING STATS | Frames seen: 140000 | Episode: 11148 | Max reward: 6.0 | Avg reward: 1.07008547008547 | Avg frames (episode): 17.07179487179487 | Avg max Q: -80.08885306843787 | Epsilon: 0.4653999999999999 | Train epoch time: 0:00:42.941623\n",
      "2023-11-06 15:46:37,053 - root - INFO - redo_test_experiment - Starting validation epoch at t = 140000\n",
      "2023-11-06 15:46:43,341 - root - INFO - redo_test_experiment - VALIDATION STATS | Max reward: 5.0 | Avg reward: 3.111801242236025 | Avg frames (episode): 38.86335403726708 | Avg max Q: -77.69858608036787 | Validation epoch time: 0:00:06.286665\n",
      "2023-11-06 15:46:43,343 - root - INFO - redo_test_experiment - Saving checkpoint at t = 140000 ...\n",
      "2023-11-06 15:46:43,346 - root - DEBUG - redo_test_experiment - Models saved at t = 140000\n",
      "2023-11-06 15:46:43,378 - root - DEBUG - redo_test_experiment - Training status saved at t = 140000\n",
      "2023-11-06 15:46:50,691 - root - INFO - redo_test_experiment - Checkpoint saved at t = 140000\n",
      "2023-11-06 15:46:50,692 - root - INFO - redo_test_experiment - Epoch 6 completed in 0:00:56.585118\n",
      "2023-11-06 15:46:50,692 - root - INFO - redo_test_experiment - \n",
      "\n",
      "2023-11-06 15:46:50,692 - root - INFO - redo_test_experiment - Starting training epoch at t = 140000\n",
      "2023-11-06 15:47:34,652 - root - INFO - redo_test_experiment - TRAINING STATS | Frames seen: 160000 | Episode: 11977 | Max reward: 10.0 | Avg reward: 1.7249698431845597 | Avg frames (episode): 24.12303980699638 | Avg max Q: -76.13054432483472 | Epsilon: 0.3862 | Train epoch time: 0:00:43.955386\n",
      "2023-11-06 15:47:34,653 - root - INFO - redo_test_experiment - Starting validation epoch at t = 160000\n",
      "2023-11-06 15:47:40,883 - root - INFO - redo_test_experiment - VALIDATION STATS | Max reward: 8.0 | Avg reward: 3.3069306930693068 | Avg frames (episode): 41.273927392739274 | Avg max Q: -71.66274124559459 | Validation epoch time: 0:00:06.227201\n",
      "2023-11-06 15:47:40,884 - root - INFO - redo_test_experiment - Saving checkpoint at t = 160000 ...\n",
      "2023-11-06 15:47:40,896 - root - DEBUG - redo_test_experiment - Models saved at t = 160000\n",
      "2023-11-06 15:47:40,939 - root - DEBUG - redo_test_experiment - Training status saved at t = 160000\n",
      "2023-11-06 15:47:47,928 - root - INFO - redo_test_experiment - Checkpoint saved at t = 160000\n",
      "2023-11-06 15:47:47,929 - root - INFO - redo_test_experiment - Epoch 7 completed in 0:00:57.236143\n",
      "2023-11-06 15:47:47,929 - root - INFO - redo_test_experiment - \n",
      "\n",
      "2023-11-06 15:47:47,929 - root - INFO - redo_test_experiment - Starting training epoch at t = 160000\n",
      "2023-11-06 15:48:32,342 - root - INFO - redo_test_experiment - TRAINING STATS | Frames seen: 180000 | Episode: 12684 | Max reward: 8.0 | Avg reward: 2.1117397454031117 | Avg frames (episode): 28.32248939179632 | Avg max Q: -67.91142710736122 | Epsilon: 0.30700000000000005 | Train epoch time: 0:00:44.408662\n",
      "2023-11-06 15:48:32,343 - root - INFO - redo_test_experiment - Starting validation epoch at t = 180000\n",
      "2023-11-06 15:48:38,582 - root - INFO - redo_test_experiment - VALIDATION STATS | Max reward: 7.0 | Avg reward: 4.059288537549407 | Avg frames (episode): 49.430830039525695 | Avg max Q: -63.03499463322927 | Validation epoch time: 0:00:06.236104\n",
      "2023-11-06 15:48:38,582 - root - INFO - redo_test_experiment - Saving checkpoint at t = 180000 ...\n",
      "2023-11-06 15:48:38,597 - root - DEBUG - redo_test_experiment - Models saved at t = 180000\n",
      "2023-11-06 15:48:38,638 - root - DEBUG - redo_test_experiment - Training status saved at t = 180000\n",
      "2023-11-06 15:48:46,263 - root - INFO - redo_test_experiment - Checkpoint saved at t = 180000\n",
      "2023-11-06 15:48:46,264 - root - INFO - redo_test_experiment - Epoch 8 completed in 0:00:58.335134\n",
      "2023-11-06 15:48:46,265 - root - INFO - redo_test_experiment - \n",
      "\n",
      "2023-11-06 15:48:46,265 - root - INFO - redo_test_experiment - Starting training epoch at t = 180000\n",
      "2023-11-06 15:49:31,950 - root - INFO - redo_test_experiment - TRAINING STATS | Frames seen: 200000 | Episode: 13345 | Max reward: 7.0 | Avg reward: 2.2783661119515886 | Avg frames (episode): 30.21482602118003 | Avg max Q: -60.0635836070698 | Epsilon: 0.2278 | Train epoch time: 0:00:45.680183\n",
      "2023-11-06 15:49:31,951 - root - INFO - redo_test_experiment - Starting validation epoch at t = 200000\n",
      "2023-11-06 15:49:38,122 - root - INFO - redo_test_experiment - VALIDATION STATS | Max reward: 6.0 | Avg reward: 3.1 | Avg frames (episode): 39.1 | Avg max Q: -55.76956104314878 | Validation epoch time: 0:00:06.168134\n",
      "2023-11-06 15:49:38,122 - root - INFO - redo_test_experiment - Saving checkpoint at t = 200000 ...\n",
      "2023-11-06 15:49:38,177 - root - DEBUG - redo_test_experiment - Models saved at t = 200000\n",
      "2023-11-06 15:49:38,222 - root - DEBUG - redo_test_experiment - Training status saved at t = 200000\n",
      "2023-11-06 15:49:45,120 - root - INFO - redo_test_experiment - Checkpoint saved at t = 200000\n",
      "2023-11-06 15:49:45,120 - root - INFO - redo_test_experiment - Epoch 9 completed in 0:00:58.855225\n",
      "2023-11-06 15:49:45,121 - root - INFO - redo_test_experiment - \n",
      "\n",
      "2023-11-06 15:49:45,123 - root - INFO - redo_test_experiment - Ended training session after 10 epochs at t = 200000\n"
     ]
    },
    {
     "data": {
      "text/plain": [
       "True"
      ]
     },
     "execution_count": 8,
     "metadata": {},
     "output_type": "execute_result"
    }
   ],
   "source": [
    "experiment_agent.train(train_epochs=10)"
   ]
  },
  {
   "cell_type": "code",
   "execution_count": 9,
   "metadata": {},
   "outputs": [],
   "source": [
    "# collect a set of states to check Q on before and after redo\n",
    "\n",
    "eval_states = []\n",
    "\n",
    "samples_nr = 100\n",
    "skip_nr = 100\n",
    "for i in range(samples_nr):\n",
    "    for j in range(skip_nr):\n",
    "        # get a random action from the environment\n",
    "        action = experiment_agent.train_env.action_space.sample()\n",
    "        s_prime, reward, is_terminated, truncated, info = experiment_agent.train_env.step(\n",
    "            action\n",
    "        )\n",
    "        s_prime = torch.tensor(s_prime, device=\"cpu\").float()\n",
    "\n",
    "        if is_terminated:\n",
    "            experiment_agent.train_env.reset()\n",
    "            continue\n",
    "\n",
    "    eval_states.append(s_prime)"
   ]
  },
  {
   "cell_type": "code",
   "execution_count": 10,
   "metadata": {},
   "outputs": [],
   "source": [
    "import copy\n",
    "\n",
    "eval_states_tensor = torch.stack(eval_states)\n",
    "\n",
    "predictions_init = experiment_agent.policy_model(eval_states_tensor)\n",
    "predictions_init\n",
    "\n",
    "max_q_vals_init = []\n",
    "for state in eval_states_tensor:\n",
    "    max_q_val = experiment_agent.get_max_q_val_for_state(state.unsqueeze(0))\n",
    "    max_q_vals_init.append(max_q_val)\n",
    "\n",
    "# get the weights before redo\n",
    "state_dict_init = copy.deepcopy(experiment_agent.policy_model.state_dict())"
   ]
  },
  {
   "cell_type": "code",
   "execution_count": 11,
   "metadata": {},
   "outputs": [
    {
     "data": {
      "text/plain": [
       "[tensor([0.0249, 0.0209, 0.0473, 0.0613, 0.0320, 0.0635, 0.0132, 0.0629, 0.0382,\n",
       "         0.0144, 0.0226, 0.0092, 0.0545, 0.0234, 0.0312, 0.0193, 0.0140, 0.0587,\n",
       "         0.0071, 0.0146, 0.0387, 0.0596, 0.0056, 0.0198, 0.0407, 0.0096, 0.0022,\n",
       "         0.0267, 0.0328, 0.0162, 0.0852, 0.0297]),\n",
       " tensor([0.0322, 0.0272, 0.0291, 0.0265, 0.0295, 0.0289, 0.0315, 0.0295, 0.0303,\n",
       "         0.0345, 0.0333, 0.0262, 0.0315, 0.0295, 0.0346, 0.0280, 0.0328, 0.0255,\n",
       "         0.0309, 0.0625, 0.0332, 0.0351, 0.0322, 0.0321, 0.0341, 0.0307, 0.0286,\n",
       "         0.0244, 0.0248, 0.0296, 0.0251, 0.0360]),\n",
       " tensor([0.0000, 0.0302, 0.0000, 0.0000, 0.0277, 0.0000, 0.0321, 0.0000, 0.0000,\n",
       "         0.0173, 0.0000, 0.0188, 0.0375, 0.0310, 0.0115, 0.0408, 0.0000, 0.0025,\n",
       "         0.0000, 0.0000, 0.0000, 0.0000, 0.0471, 0.0000, 0.0208, 0.0000, 0.0178,\n",
       "         0.0000, 0.0000, 0.0000, 0.0105, 0.0000, 0.0293, 0.0000, 0.0000, 0.0313,\n",
       "         0.0000, 0.0173, 0.0361, 0.0109, 0.0000, 0.0000, 0.0000, 0.0000, 0.0000,\n",
       "         0.0000, 0.0000, 0.0000, 0.0000, 0.0000, 0.0000, 0.0221, 0.0000, 0.0000,\n",
       "         0.0000, 0.0269, 0.0000, 0.0351, 0.0000, 0.0000, 0.0000, 0.0389, 0.0000,\n",
       "         0.0000, 0.0000, 0.0329, 0.0000, 0.0000, 0.0000, 0.0044, 0.0000, 0.0000,\n",
       "         0.0000, 0.0264, 0.0000, 0.0000, 0.0311, 0.0000, 0.0048, 0.0000, 0.0000,\n",
       "         0.0000, 0.0209, 0.0000, 0.0274, 0.0000, 0.0000, 0.0000, 0.0000, 0.0000,\n",
       "         0.0000, 0.0000, 0.0292, 0.0451, 0.0000, 0.0000, 0.0360, 0.0000, 0.0000,\n",
       "         0.0000, 0.0000, 0.0000, 0.0000, 0.0000, 0.0000, 0.0000, 0.0000, 0.0097,\n",
       "         0.0272, 0.0199, 0.0000, 0.0000, 0.0000, 0.0000, 0.0000, 0.0000, 0.0000,\n",
       "         0.0000, 0.0300, 0.0000, 0.0000, 0.0000, 0.0334, 0.0234, 0.0000, 0.0000,\n",
       "         0.0000, 0.0050])]"
      ]
     },
     "execution_count": 11,
     "metadata": {},
     "output_type": "execute_result"
    }
   ],
   "source": [
    "redo_scores = experiment_agent.policy_model.get_dormant_scores()\n",
    "redo_scores"
   ]
  },
  {
   "cell_type": "code",
   "execution_count": 24,
   "metadata": {},
   "outputs": [
    {
     "data": {
      "image/png": "[encoded data removed]",
      "text/plain": [
       "<Figure size 1000x300 with 1 Axes>"
      ]
     },
     "metadata": {},
     "output_type": "display_data"
    },
    {
     "data": {
      "image/png": "[encoded data removed]",
      "text/plain": [
       "<Figure size 1000x300 with 1 Axes>"
      ]
     },
     "metadata": {},
     "output_type": "display_data"
    },
    {
     "data": {
      "image/png": "[encoded data removed]",
      "text/plain": [
       "<Figure size 1000x300 with 1 Axes>"
      ]
     },
     "metadata": {},
     "output_type": "display_data"
    }
   ],
   "source": [
    "# Histogram of redo_scores\n",
    "for scores in redo_scores:\n",
    "    fig = plt.figure(figsize=(10, 3))\n",
    "    plt.hist(scores)\n",
    "    plt.show()\n"
   ]
  },
  {
   "cell_type": "code",
   "execution_count": 12,
   "metadata": {},
   "outputs": [
    {
     "data": {
      "text/plain": [
       "[{'indexes': tensor([ 0,  1,  6,  9, 10, 11, 13, 15, 16, 18, 19, 22, 23, 25, 26, 29]),\n",
       "  'inbound': 'features.conv1',\n",
       "  'outbound': 'features.conv2'},\n",
       " {'indexes': tensor([27, 28]),\n",
       "  'inbound': 'features.conv2',\n",
       "  'outbound': 'fc.lin1'},\n",
       " {'indexes': tensor([  0,   2,   3,   5,   7,   8,   9,  10,  11,  14,  16,  17,  18,  19,\n",
       "           20,  21,  23,  24,  25,  26,  27,  28,  29,  30,  31,  33,  34,  36,\n",
       "           37,  39,  40,  41,  42,  43,  44,  45,  46,  47,  48,  49,  50,  51,\n",
       "           52,  53,  54,  56,  58,  59,  60,  62,  63,  64,  66,  67,  68,  69,\n",
       "           70,  71,  72,  74,  75,  77,  78,  79,  80,  81,  82,  83,  85,  86,\n",
       "           87,  88,  89,  90,  91,  94,  95,  97,  98,  99, 100, 101, 102, 103,\n",
       "          104, 105, 106, 107, 109, 110, 111, 112, 113, 114, 115, 116, 117, 119,\n",
       "          120, 121, 123, 124, 125, 126, 127]),\n",
       "  'inbound': 'fc.lin1',\n",
       "  'outbound': 'fc.lin2'}]"
      ]
     },
     "execution_count": 12,
     "metadata": {},
     "output_type": "execute_result"
    }
   ],
   "source": [
    "# apply redo\n",
    "reset_details = experiment_agent.policy_model.apply_redo()\n",
    "reset_details"
   ]
  },
  {
   "cell_type": "markdown",
   "metadata": {},
   "source": []
  },
  {
   "cell_type": "code",
   "execution_count": 13,
   "metadata": {},
   "outputs": [],
   "source": [
    "layer_to_optim_idx = map_layers_to_optimizer_indices(\n",
    "    experiment_agent.policy_model, experiment_agent.optimizer\n",
    ")\n",
    "layer_to_optim_idx\n",
    "\n",
    "reset_optimizer_states(reset_details, experiment_agent.optimizer, layer_to_optim_idx)"
   ]
  },
  {
   "cell_type": "code",
   "execution_count": 14,
   "metadata": {},
   "outputs": [],
   "source": [
    "# get the difference between the values before and after\n",
    "predictions_after = experiment_agent.policy_model(eval_states_tensor)\n",
    "predictions_after\n",
    "\n",
    "max_q_vals_after = []\n",
    "for state in eval_states_tensor:\n",
    "    max_q_val = experiment_agent.get_max_q_val_for_state(state.unsqueeze(0))\n",
    "    max_q_vals_after.append(max_q_val)\n",
    "\n",
    "# get the weights before redo\n",
    "state_dict_after = experiment_agent.policy_model.state_dict()"
   ]
  },
  {
   "cell_type": "code",
   "execution_count": 15,
   "metadata": {},
   "outputs": [
    {
     "data": {
      "text/plain": [
       "tensor([[-31.2946, -42.5488, -37.0230, -26.6500, -34.0553, -36.5199],\n",
       "        [-26.5324, -34.7855, -31.6515, -24.4279, -28.8428, -30.9583],\n",
       "        [-32.4035, -42.7396, -38.6483, -29.4967, -35.3731, -37.8596],\n",
       "        [-26.3285, -34.4326, -31.3431, -23.7949, -28.5638, -30.6073],\n",
       "        [-30.0798, -40.0979, -35.8420, -26.9421, -32.7823, -35.0896],\n",
       "        [-27.7390, -36.3286, -32.8638, -23.9712, -30.1473, -32.1476],\n",
       "        [-29.3061, -38.3750, -34.9569, -27.6229, -31.6856, -34.2210],\n",
       "        [-29.7949, -39.9772, -35.3913, -27.0161, -32.1911, -34.7896],\n",
       "        [-29.0592, -38.9971, -33.9719, -23.9730, -31.2678, -33.6350],\n",
       "        [-24.7986, -32.7064, -29.6068, -23.0987, -26.8859, -28.9567],\n",
       "        [-29.8906, -39.6377, -35.3367, -25.5781, -32.5104, -34.6844],\n",
       "        [-29.2320, -39.4646, -34.5926, -25.0766, -31.7544, -34.0991],\n",
       "        [-25.6402, -33.5435, -30.5278, -23.5204, -27.7728, -29.8537],\n",
       "        [-29.0561, -38.4676, -34.3153, -24.6937, -31.5669, -33.6959],\n",
       "        [-27.7390, -36.3286, -32.8638, -23.9712, -30.1473, -32.1476],\n",
       "        [-29.0561, -38.4676, -34.3153, -24.6938, -31.5669, -33.6959],\n",
       "        [-27.4109, -35.9158, -32.4844, -24.0740, -29.7548, -31.8171],\n",
       "        [-32.6255, -42.9866, -38.8598, -29.3165, -35.6243, -38.0641],\n",
       "        [-29.4242, -39.4381, -34.9420, -26.6127, -31.7842, -34.3388],\n",
       "        [-29.5966, -39.2906, -34.8424, -25.7738, -31.9120, -34.3875],\n",
       "        [-27.5798, -37.0576, -32.4600, -24.1751, -29.6193, -32.0820],\n",
       "        [-29.3061, -38.3750, -34.9569, -27.6229, -31.6856, -34.2210],\n",
       "        [-24.4497, -32.1903, -29.1787, -22.7122, -26.4996, -28.5295],\n",
       "        [-28.5914, -37.5943, -33.9901, -25.4130, -31.1464, -33.2921],\n",
       "        [-31.1233, -42.1253, -36.4576, -25.6978, -33.5886, -36.1275],\n",
       "        [-29.0592, -38.9971, -33.9719, -23.9730, -31.2678, -33.6350],\n",
       "        [-26.4824, -34.8860, -31.5414, -24.1142, -28.7813, -30.8874],\n",
       "        [-26.9015, -35.4860, -31.8538, -23.8063, -29.1383, -31.3078],\n",
       "        [-29.6245, -38.5144, -35.3254, -27.2390, -32.2376, -34.5138],\n",
       "        [-29.0592, -38.9971, -33.9719, -23.9730, -31.2678, -33.6350],\n",
       "        [-27.4109, -35.9158, -32.4844, -24.0740, -29.7548, -31.8171],\n",
       "        [-29.7326, -39.7532, -35.6606, -27.6624, -32.5120, -34.9253],\n",
       "        [-26.0986, -34.0969, -31.0642, -23.5317, -28.3125, -30.3256],\n",
       "        [-26.7206, -35.4003, -31.7237, -23.6024, -29.0393, -31.1104],\n",
       "        [-31.2540, -42.2799, -36.6207, -25.8338, -33.7372, -36.2752],\n",
       "        [-29.1010, -39.3098, -34.4291, -24.9403, -31.6055, -33.9511],\n",
       "        [-27.4109, -35.9158, -32.4844, -24.0740, -29.7548, -31.8171],\n",
       "        [-29.7612, -39.4965, -35.1816, -25.4701, -32.3645, -34.5445],\n",
       "        [-29.9894, -39.6254, -35.6850, -27.1328, -32.6425, -34.9984],\n",
       "        [-29.7949, -39.9772, -35.3913, -27.0161, -32.1911, -34.7896],\n",
       "        [-31.4947, -42.6655, -36.9079, -26.1014, -33.9964, -36.5793],\n",
       "        [-28.3055, -37.4372, -33.8224, -26.1323, -30.8387, -33.1264],\n",
       "        [-27.5798, -37.0576, -32.4600, -24.1751, -29.6193, -32.0820],\n",
       "        [-30.0400, -40.6397, -35.6718, -27.0196, -32.5155, -35.2326],\n",
       "        [-29.7612, -39.4965, -35.1816, -25.4701, -32.3645, -34.5445],\n",
       "        [-27.4109, -35.9158, -32.4844, -24.0740, -29.7548, -31.8171],\n",
       "        [-28.7130, -37.8626, -34.2228, -26.2076, -31.2614, -33.5229],\n",
       "        [-29.7612, -39.4965, -35.1816, -25.4701, -32.3645, -34.5445],\n",
       "        [-29.0561, -38.4676, -34.3153, -24.6938, -31.5669, -33.6959],\n",
       "        [-29.1592, -37.8297, -34.9111, -27.4427, -31.8085, -34.0767],\n",
       "        [-31.2946, -42.5488, -37.0230, -26.6500, -34.0553, -36.5199],\n",
       "        [-24.9973, -33.0732, -29.8764, -23.2792, -27.1348, -29.2157],\n",
       "        [-30.2817, -39.7631, -36.0300, -27.4237, -32.9498, -35.3064],\n",
       "        [-28.4149, -37.0323, -33.8202, -25.5128, -30.9110, -33.0401],\n",
       "        [-24.9973, -33.0732, -29.8764, -23.2792, -27.1348, -29.2157],\n",
       "        [-27.8056, -36.5440, -33.1100, -25.3516, -30.2204, -32.4302],\n",
       "        [-31.7892, -42.9803, -37.7960, -28.6410, -34.4943, -37.3089],\n",
       "        [-30.2620, -41.1459, -35.7652, -25.5870, -32.8914, -35.3023],\n",
       "        [-26.9015, -35.4860, -31.8538, -23.8063, -29.1383, -31.3078],\n",
       "        [-27.3581, -36.1730, -32.4311, -24.0741, -29.7064, -31.8178],\n",
       "        [-30.7240, -41.2174, -36.6170, -27.8520, -33.4536, -36.0017],\n",
       "        [-29.3061, -38.3750, -34.9569, -27.6229, -31.6856, -34.2210],\n",
       "        [-29.0086, -38.0864, -34.6314, -26.3822, -31.6818, -33.8652],\n",
       "        [-27.8379, -36.5095, -32.9793, -24.0981, -30.2497, -32.2813],\n",
       "        [-28.6760, -38.2794, -34.0176, -25.9587, -30.9402, -33.4759],\n",
       "        [-27.7390, -36.3286, -32.8638, -23.9712, -30.1473, -32.1476],\n",
       "        [-32.3484, -43.7510, -38.2003, -27.4730, -35.1835, -37.6595],\n",
       "        [-31.2995, -41.2098, -37.1026, -27.1733, -34.0738, -36.3346],\n",
       "        [-27.3879, -35.8613, -32.6359, -25.8766, -29.5279, -31.9453],\n",
       "        [-29.4724, -39.8500, -34.8794, -25.3439, -32.0133, -34.4029],\n",
       "        [-31.5523, -43.2640, -37.3251, -26.8478, -34.2811, -36.8802],\n",
       "        [-25.7696, -33.6847, -30.6829, -23.6285, -27.9187, -29.9936],\n",
       "        [-27.4109, -35.9158, -32.4844, -24.0740, -29.7548, -31.8171],\n",
       "        [-27.4109, -35.9158, -32.4844, -24.0740, -29.7548, -31.8171],\n",
       "        [-29.5966, -39.2906, -34.8424, -25.7738, -31.9120, -34.3875],\n",
       "        [-27.4109, -35.9158, -32.4844, -24.0740, -29.7548, -31.8171],\n",
       "        [-27.1678, -35.7706, -32.4025, -24.8808, -29.5531, -31.7227],\n",
       "        [-29.3800, -38.6266, -35.0817, -26.7858, -32.0896, -34.3170],\n",
       "        [-29.7637, -40.0520, -35.3158, -26.5276, -32.2604, -34.8645],\n",
       "        [-29.3896, -39.3737, -34.7964, -25.1275, -32.0067, -34.1743],\n",
       "        [-29.5024, -39.6186, -34.9731, -25.4719, -32.1359, -34.3917],\n",
       "        [-26.4014, -34.6307, -31.4881, -24.2915, -28.6939, -30.8103],\n",
       "        [-27.7390, -36.3286, -32.8638, -23.9712, -30.1473, -32.1476],\n",
       "        [-30.1310, -40.9911, -35.6017, -25.4507, -32.7425, -35.1543],\n",
       "        [-31.7876, -42.1939, -37.8824, -29.7218, -34.3913, -37.1599],\n",
       "        [-26.7705, -35.3312, -31.6903, -23.6700, -28.9895, -31.1598],\n",
       "        [-29.4242, -39.4381, -34.9420, -26.6127, -31.7842, -34.3388],\n",
       "        [-30.7843, -41.0747, -36.5379, -27.7253, -33.3138, -35.8757],\n",
       "        [-29.3800, -38.6266, -35.0817, -26.7858, -32.0896, -34.3170],\n",
       "        [-32.3853, -44.4343, -38.3447, -27.7306, -35.2225, -37.8672],\n",
       "        [-26.6350, -35.3009, -31.6729, -23.7174, -28.9664, -31.0345],\n",
       "        [-31.0925, -41.1624, -36.6962, -26.3324, -33.8172, -36.0896],\n",
       "        [-29.7949, -39.9772, -35.3913, -27.0161, -32.1911, -34.7896],\n",
       "        [-27.7390, -36.3286, -32.8638, -23.9712, -30.1473, -32.1476],\n",
       "        [-29.8947, -40.2068, -35.4792, -26.6640, -32.4093, -35.0125],\n",
       "        [-31.9335, -43.0213, -37.8927, -27.8932, -34.7641, -37.3080],\n",
       "        [-29.2320, -39.4646, -34.5926, -25.0766, -31.7544, -34.0991],\n",
       "        [-29.1010, -39.3098, -34.4291, -24.9403, -31.6055, -33.9511],\n",
       "        [-29.0592, -38.9971, -33.9719, -23.9730, -31.2678, -33.6350],\n",
       "        [-31.2540, -42.2799, -36.6207, -25.8338, -33.7372, -36.2752]],\n",
       "       grad_fn=<AddmmBackward0>)"
      ]
     },
     "execution_count": 15,
     "metadata": {},
     "output_type": "execute_result"
    }
   ],
   "source": [
    "predictions_after"
   ]
  },
  {
   "cell_type": "code",
   "execution_count": 16,
   "metadata": {},
   "outputs": [
    {
     "data": {
      "text/plain": [
       "-3363.0996170043945"
      ]
     },
     "execution_count": 16,
     "metadata": {},
     "output_type": "execute_result"
    }
   ],
   "source": [
    "diff = np.array(max_q_vals_init) - np.array(max_q_vals_after)\n",
    "sum(diff)"
   ]
  },
  {
   "cell_type": "code",
   "execution_count": 17,
   "metadata": {},
   "outputs": [
    {
     "data": {
      "text/plain": [
       "[-56.56591796875,\n",
       " -58.75151824951172,\n",
       " -78.36463165283203,\n",
       " -55.33132553100586,\n",
       " -70.22177124023438,\n",
       " -50.94410705566406,\n",
       " -61.46672058105469,\n",
       " -58.84042739868164,\n",
       " -54.52519607543945,\n",
       " -56.30188751220703,\n",
       " -66.37553405761719,\n",
       " -49.8223876953125,\n",
       " -56.19443893432617,\n",
       " -60.06779098510742,\n",
       " -50.94410705566406,\n",
       " -60.06779098510742,\n",
       " -53.881744384765625,\n",
       " -80.32144165039062,\n",
       " -55.31972122192383,\n",
       " -77.71903991699219,\n",
       " -58.24412155151367,\n",
       " -61.46672058105469,\n",
       " -53.225982666015625,\n",
       " -57.14405059814453,\n",
       " -65.43023681640625,\n",
       " -54.52519607543945,\n",
       " -51.529945373535156,\n",
       " -48.75208282470703,\n",
       " -60.005218505859375,\n",
       " -54.52519607543945,\n",
       " -53.881744384765625,\n",
       " -48.87445831298828,\n",
       " -52.95625686645508,\n",
       " -57.1031608581543,\n",
       " -64.97799682617188,\n",
       " -50.2724609375,\n",
       " -53.881744384765625,\n",
       " -66.41050720214844,\n",
       " -72.69422912597656,\n",
       " -58.84042739868164,\n",
       " -68.70306396484375,\n",
       " -69.97803497314453,\n",
       " -58.24412155151367,\n",
       " -54.991004943847656,\n",
       " -66.41050720214844,\n",
       " -53.881744384765625,\n",
       " -65.05097198486328,\n",
       " -66.41050720214844,\n",
       " -60.06779098510742,\n",
       " -58.5338020324707,\n",
       " -56.56591796875,\n",
       " -54.80805206298828,\n",
       " -70.65808868408203,\n",
       " -60.497039794921875,\n",
       " -54.80805206298828,\n",
       " -66.39241027832031,\n",
       " -64.76251220703125,\n",
       " -50.113677978515625,\n",
       " -48.75208282470703,\n",
       " -58.466766357421875,\n",
       " -51.54838562011719,\n",
       " -61.46672058105469,\n",
       " -50.1122932434082,\n",
       " -53.74591827392578,\n",
       " -60.62250900268555,\n",
       " -50.94410705566406,\n",
       " -78.50967407226562,\n",
       " -72.63990783691406,\n",
       " -60.36099624633789,\n",
       " -53.545284271240234,\n",
       " -66.56866455078125,\n",
       " -55.893898010253906,\n",
       " -53.881744384765625,\n",
       " -53.881744384765625,\n",
       " -77.71903991699219,\n",
       " -53.881744384765625,\n",
       " -63.29668045043945,\n",
       " -53.60039520263672,\n",
       " -48.3853645324707,\n",
       " -59.55885314941406,\n",
       " -68.3689956665039,\n",
       " -59.269893646240234,\n",
       " -50.94410705566406,\n",
       " -50.56375503540039,\n",
       " -84.00916290283203,\n",
       " -49.17882537841797,\n",
       " -55.31972122192383,\n",
       " -79.34198760986328,\n",
       " -53.60039520263672,\n",
       " -72.50896453857422,\n",
       " -52.79183578491211,\n",
       " -54.78130340576172,\n",
       " -58.84042739868164,\n",
       " -50.94410705566406,\n",
       " -47.93080520629883,\n",
       " -63.23276138305664,\n",
       " -49.8223876953125,\n",
       " -50.2724609375,\n",
       " -54.52519607543945,\n",
       " -64.97799682617188]"
      ]
     },
     "execution_count": 17,
     "metadata": {},
     "output_type": "execute_result"
    }
   ],
   "source": [
    "max_q_vals_init"
   ]
  },
  {
   "cell_type": "code",
   "execution_count": 18,
   "metadata": {},
   "outputs": [
    {
     "data": {
      "text/plain": [
       "[-26.649988174438477,\n",
       " -24.4278507232666,\n",
       " -29.496658325195312,\n",
       " -23.7949275970459,\n",
       " -26.94208335876465,\n",
       " -23.971160888671875,\n",
       " -27.62288475036621,\n",
       " -27.016122817993164,\n",
       " -23.973024368286133,\n",
       " -23.098730087280273,\n",
       " -25.5781307220459,\n",
       " -25.07659912109375,\n",
       " -23.52044105529785,\n",
       " -24.69374656677246,\n",
       " -23.971160888671875,\n",
       " -24.69374656677246,\n",
       " -24.073972702026367,\n",
       " -29.316478729248047,\n",
       " -26.612672805786133,\n",
       " -25.7737979888916,\n",
       " -24.17511558532715,\n",
       " -27.62288475036621,\n",
       " -22.712186813354492,\n",
       " -25.412960052490234,\n",
       " -25.697830200195312,\n",
       " -23.973024368286133,\n",
       " -24.114179611206055,\n",
       " -23.806312561035156,\n",
       " -27.238967895507812,\n",
       " -23.973024368286133,\n",
       " -24.073972702026367,\n",
       " -27.662391662597656,\n",
       " -23.531696319580078,\n",
       " -23.602445602416992,\n",
       " -25.83378028869629,\n",
       " -24.940269470214844,\n",
       " -24.073972702026367,\n",
       " -25.47007179260254,\n",
       " -27.132837295532227,\n",
       " -27.016122817993164,\n",
       " -26.101415634155273,\n",
       " -26.132335662841797,\n",
       " -24.17511558532715,\n",
       " -27.019590377807617,\n",
       " -25.47007179260254,\n",
       " -24.073972702026367,\n",
       " -26.20757293701172,\n",
       " -25.47007179260254,\n",
       " -24.69374656677246,\n",
       " -27.44269561767578,\n",
       " -26.649988174438477,\n",
       " -23.27920150756836,\n",
       " -27.42371940612793,\n",
       " -25.512807846069336,\n",
       " -23.27920150756836,\n",
       " -25.351634979248047,\n",
       " -28.64099884033203,\n",
       " -25.587034225463867,\n",
       " -23.806312561035156,\n",
       " -24.074064254760742,\n",
       " -27.851987838745117,\n",
       " -27.62288475036621,\n",
       " -26.382221221923828,\n",
       " -24.09806251525879,\n",
       " -25.958736419677734,\n",
       " -23.971160888671875,\n",
       " -27.473031997680664,\n",
       " -27.17328453063965,\n",
       " -25.876649856567383,\n",
       " -25.34385871887207,\n",
       " -26.84779930114746,\n",
       " -23.628498077392578,\n",
       " -24.073972702026367,\n",
       " -24.073972702026367,\n",
       " -25.7737979888916,\n",
       " -24.073972702026367,\n",
       " -24.88075065612793,\n",
       " -26.785810470581055,\n",
       " -26.52763557434082,\n",
       " -25.127473831176758,\n",
       " -25.47188377380371,\n",
       " -24.29152488708496,\n",
       " -23.971160888671875,\n",
       " -25.450708389282227,\n",
       " -29.72182273864746,\n",
       " -23.669984817504883,\n",
       " -26.612672805786133,\n",
       " -27.725339889526367,\n",
       " -26.785810470581055,\n",
       " -27.730623245239258,\n",
       " -23.717435836791992,\n",
       " -26.33234977722168,\n",
       " -27.016122817993164,\n",
       " -23.971160888671875,\n",
       " -26.663965225219727,\n",
       " -27.893205642700195,\n",
       " -25.07659912109375,\n",
       " -24.940269470214844,\n",
       " -23.973024368286133,\n",
       " -25.83378028869629]"
      ]
     },
     "execution_count": 18,
     "metadata": {},
     "output_type": "execute_result"
    }
   ],
   "source": [
    "max_q_vals_after"
   ]
  },
  {
   "cell_type": "code",
   "execution_count": 19,
   "metadata": {},
   "outputs": [
    {
     "name": "stdout",
     "output_type": "stream",
     "text": [
      "Weights changed in layer: features.conv1.weight\n",
      "Weights changed in layer: features.conv1.bias\n",
      "Weights changed in layer: features.relu1.running_avg\n",
      "Weights changed in layer: features.relu1.running_avg_cnt\n",
      "Weights changed in layer: features.conv2.weight\n",
      "Weights changed in layer: features.conv2.bias\n",
      "Weights changed in layer: features.relu2.running_avg\n",
      "Weights changed in layer: features.relu2.running_avg_cnt\n",
      "Weights changed in layer: fc.lin1.weight\n",
      "Weights changed in layer: fc.lin1.bias\n",
      "Weights changed in layer: fc.relu3.running_avg\n",
      "Weights changed in layer: fc.relu3.running_avg_cnt\n",
      "Weights changed in layer: fc.lin2.weight\n"
     ]
    }
   ],
   "source": [
    "for layer in state_dict_after:\n",
    "    if not torch.equal(state_dict_init[layer], state_dict_after[layer]):\n",
    "        print(f\"Weights changed in layer: {layer}\")"
   ]
  },
  {
   "cell_type": "markdown",
   "metadata": {},
   "source": [
    "### Lightweight test"
   ]
  }
 ],
 "metadata": {
  "kernelspec": {
   "display_name": "general",
   "language": "python",
   "name": "python3"
  },
  "language_info": {
   "codemirror_mode": {
    "name": "ipython",
    "version": 3
   },
   "file_extension": ".py",
   "mimetype": "text/x-python",
   "name": "python",
   "nbconvert_exporter": "python",
   "pygments_lexer": "ipython3",
   "version": "3.10.6"
  }
 },
 "nbformat": 4,
 "nbformat_minor": 2
}
