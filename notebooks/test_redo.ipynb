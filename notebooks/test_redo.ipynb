{
 "cells": [
  {
   "cell_type": "code",
   "execution_count": null,
   "metadata": {},
   "outputs": [],
   "source": [
    "# 1.\n",
    "# Get a model, train for a bit with REDO enabled\n",
    "# check Q value for action before redo\n",
    "# Apply redo\n",
    "# check Q value for action after redo\n",
    "# they should be the same if we only did redo on dormant neurons"
   ]
  },
  {
   "cell_type": "code",
   "execution_count": null,
   "metadata": {},
   "outputs": [],
   "source": [
    "# 2.\n",
    "# we need to also reset optimizer at relevant indexes (reset momentum) \n",
    "# pytorch adam holds 2 storages, one for momentum and one for hessian\n",
    "# exp_avgs and exp_avg_sqs get from adam.state maybe"
   ]
  },
  {
   "cell_type": "code",
   "execution_count": null,
   "metadata": {},
   "outputs": [],
   "source": [
    "# 3.\n",
    "# apply redo each 1000 training steps\n",
    "# use tau = 0.025, 0.1\n",
    "# use beta = 1 => makes the running avg actually be just the current value"
   ]
  },
  {
   "cell_type": "code",
   "execution_count": null,
   "metadata": {},
   "outputs": [],
   "source": []
  }
 ],
 "metadata": {
  "language_info": {
   "name": "python"
  }
 },
 "nbformat": 4,
 "nbformat_minor": 2
}
